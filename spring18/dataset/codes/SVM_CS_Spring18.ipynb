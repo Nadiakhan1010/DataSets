{
  "nbformat": 4,
  "nbformat_minor": 0,
  "metadata": {
    "colab": {
      "name": "SVM-Spring18.ipynb",
      "provenance": []
    },
    "kernelspec": {
      "name": "python3",
      "display_name": "Python 3"
    }
  },
  "cells": [
    {
      "cell_type": "code",
      "metadata": {
        "id": "zk7qAG55vKtA"
      },
      "source": [
        "import numpy as np # linear algebra\n",
        "import pandas as pd # data processing, CSV file I/O (e.g. pd.read_csv)"
      ],
      "execution_count": null,
      "outputs": []
    },
    {
      "cell_type": "code",
      "metadata": {
        "id": "XpLM--B0vklR"
      },
      "source": [
        "from subprocess import check_output\n",
        "#print(check_output([\"ls\", \"../input\"]).decode(\"utf8\"))"
      ],
      "execution_count": null,
      "outputs": []
    },
    {
      "cell_type": "code",
      "metadata": {
        "id": "QRVwYn9avz9W"
      },
      "source": [
        "from sklearn.model_selection import GridSearchCV\n",
        "from sklearn.svm import SVC\n",
        "from sklearn import preprocessing\n",
        "from sklearn.model_selection import train_test_split # to split the data into two parts\n",
        "%matplotlib inline\n",
        "import matplotlib.pyplot as plt"
      ],
      "execution_count": null,
      "outputs": []
    },
    {
      "cell_type": "code",
      "metadata": {
        "id": "Mh8CzJWDv7Ge"
      },
      "source": [
        "df=pd.read_csv(\"https://raw.githubusercontent.com/mhmmd-nauman/DataSets/master/spring18/department-wise/top15%20features/selected%20features/Computer-science-Department.csv\",header = 0)"
      ],
      "execution_count": null,
      "outputs": []
    },
    {
      "cell_type": "code",
      "metadata": {
        "colab": {
          "base_uri": "https://localhost:8080/",
          "height": 204
        },
        "id": "mogyuV4cwEWP",
        "outputId": "54643305-ad2f-4278-a439-47f8c5fbc213"
      },
      "source": [
        "df.head()"
      ],
      "execution_count": null,
      "outputs": [
        {
          "output_type": "execute_result",
          "data": {
            "text/html": [
              "<div>\n",
              "<style scoped>\n",
              "    .dataframe tbody tr th:only-of-type {\n",
              "        vertical-align: middle;\n",
              "    }\n",
              "\n",
              "    .dataframe tbody tr th {\n",
              "        vertical-align: top;\n",
              "    }\n",
              "\n",
              "    .dataframe thead th {\n",
              "        text-align: right;\n",
              "    }\n",
              "</style>\n",
              "<table border=\"1\" class=\"dataframe\">\n",
              "  <thead>\n",
              "    <tr style=\"text-align: right;\">\n",
              "      <th></th>\n",
              "      <th>Application Status</th>\n",
              "      <th>Domicile</th>\n",
              "      <th>Gender</th>\n",
              "      <th>Province</th>\n",
              "      <th>Admission Test</th>\n",
              "      <th>SSC</th>\n",
              "      <th>Terminal Degree</th>\n",
              "      <th>Document Verified</th>\n",
              "      <th>English Marks</th>\n",
              "      <th>Offered</th>\n",
              "    </tr>\n",
              "  </thead>\n",
              "  <tbody>\n",
              "    <tr>\n",
              "      <th>0</th>\n",
              "      <td>No</td>\n",
              "      <td>OPEN</td>\n",
              "      <td>male</td>\n",
              "      <td>Khyber Pakhtunkhwa</td>\n",
              "      <td>0</td>\n",
              "      <td>637</td>\n",
              "      <td>667</td>\n",
              "      <td>0</td>\n",
              "      <td>0</td>\n",
              "      <td>No</td>\n",
              "    </tr>\n",
              "    <tr>\n",
              "      <th>1</th>\n",
              "      <td>Complete</td>\n",
              "      <td>Bahawalpur</td>\n",
              "      <td>male</td>\n",
              "      <td>Punjab</td>\n",
              "      <td>59</td>\n",
              "      <td>1050</td>\n",
              "      <td>1100</td>\n",
              "      <td>1</td>\n",
              "      <td>0</td>\n",
              "      <td>Yes</td>\n",
              "    </tr>\n",
              "    <tr>\n",
              "      <th>2</th>\n",
              "      <td>No</td>\n",
              "      <td>Bahawalpur</td>\n",
              "      <td>male</td>\n",
              "      <td>Punjab</td>\n",
              "      <td>60</td>\n",
              "      <td>916</td>\n",
              "      <td>825</td>\n",
              "      <td>0</td>\n",
              "      <td>0</td>\n",
              "      <td>No</td>\n",
              "    </tr>\n",
              "    <tr>\n",
              "      <th>3</th>\n",
              "      <td>Complete</td>\n",
              "      <td>Bahawalpur</td>\n",
              "      <td>male</td>\n",
              "      <td>Punjab</td>\n",
              "      <td>59</td>\n",
              "      <td>803</td>\n",
              "      <td>783</td>\n",
              "      <td>0</td>\n",
              "      <td>0</td>\n",
              "      <td>No</td>\n",
              "    </tr>\n",
              "    <tr>\n",
              "      <th>4</th>\n",
              "      <td>No</td>\n",
              "      <td>Bahawalpur</td>\n",
              "      <td>male</td>\n",
              "      <td>Punjab</td>\n",
              "      <td>44</td>\n",
              "      <td>813</td>\n",
              "      <td>1050</td>\n",
              "      <td>0</td>\n",
              "      <td>0</td>\n",
              "      <td>No</td>\n",
              "    </tr>\n",
              "  </tbody>\n",
              "</table>\n",
              "</div>"
            ],
            "text/plain": [
              "  Application Status    Domicile  ... English Marks Offered\n",
              "0                 No        OPEN  ...             0      No\n",
              "1           Complete  Bahawalpur  ...             0     Yes\n",
              "2                 No  Bahawalpur  ...             0      No\n",
              "3           Complete  Bahawalpur  ...             0      No\n",
              "4                 No  Bahawalpur  ...             0      No\n",
              "\n",
              "[5 rows x 10 columns]"
            ]
          },
          "metadata": {
            "tags": []
          },
          "execution_count": 5
        }
      ]
    },
    {
      "cell_type": "code",
      "metadata": {
        "id": "jBTDeuxnwGcn"
      },
      "source": [
        "#df.drop('id',axis=1,inplace=True)\n",
        "#df.drop('Unnamed: 32',axis=1,inplace=True)"
      ],
      "execution_count": null,
      "outputs": []
    },
    {
      "cell_type": "code",
      "metadata": {
        "id": "Osz_n9CLwMuf"
      },
      "source": [
        "#df['Offered'] = df['Offered'].map({'Yes':1,'No':0})\n",
        "#df['Application Status'] = df['Application Status'].map({'Complete':1,'NotComplete':0})\n",
        "from sklearn.preprocessing import LabelEncoder\n",
        "labelencoder_X_1 = LabelEncoder()\n",
        "df['Application Status'] = labelencoder_X_1.fit_transform(df['Application Status'])\n",
        "df['Domicile'] = labelencoder_X_1.fit_transform(df['Domicile'])\n",
        "df['Gender'] = labelencoder_X_1.fit_transform(df['Gender'])\n",
        "df['Province'] = labelencoder_X_1.fit_transform(df['Province'])\n",
        "df['Offered'] = labelencoder_X_1.fit_transform(df['Offered'])"
      ],
      "execution_count": null,
      "outputs": []
    },
    {
      "cell_type": "code",
      "metadata": {
        "id": "nwwlSBWTptU4"
      },
      "source": [
        ""
      ],
      "execution_count": null,
      "outputs": []
    },
    {
      "cell_type": "code",
      "metadata": {
        "colab": {
          "base_uri": "https://localhost:8080/",
          "height": 204
        },
        "id": "lM4d3Mc2wOHH",
        "outputId": "87d536ab-a912-49e2-e13c-128519314f0f"
      },
      "source": [
        "df.head()"
      ],
      "execution_count": null,
      "outputs": [
        {
          "output_type": "execute_result",
          "data": {
            "text/html": [
              "<div>\n",
              "<style scoped>\n",
              "    .dataframe tbody tr th:only-of-type {\n",
              "        vertical-align: middle;\n",
              "    }\n",
              "\n",
              "    .dataframe tbody tr th {\n",
              "        vertical-align: top;\n",
              "    }\n",
              "\n",
              "    .dataframe thead th {\n",
              "        text-align: right;\n",
              "    }\n",
              "</style>\n",
              "<table border=\"1\" class=\"dataframe\">\n",
              "  <thead>\n",
              "    <tr style=\"text-align: right;\">\n",
              "      <th></th>\n",
              "      <th>Application Status</th>\n",
              "      <th>Domicile</th>\n",
              "      <th>Gender</th>\n",
              "      <th>Province</th>\n",
              "      <th>Admission Test</th>\n",
              "      <th>SSC</th>\n",
              "      <th>Terminal Degree</th>\n",
              "      <th>Document Verified</th>\n",
              "      <th>English Marks</th>\n",
              "      <th>Offered</th>\n",
              "    </tr>\n",
              "  </thead>\n",
              "  <tbody>\n",
              "    <tr>\n",
              "      <th>0</th>\n",
              "      <td>1</td>\n",
              "      <td>1</td>\n",
              "      <td>1</td>\n",
              "      <td>4</td>\n",
              "      <td>0</td>\n",
              "      <td>637</td>\n",
              "      <td>667</td>\n",
              "      <td>0</td>\n",
              "      <td>0</td>\n",
              "      <td>0</td>\n",
              "    </tr>\n",
              "    <tr>\n",
              "      <th>1</th>\n",
              "      <td>0</td>\n",
              "      <td>0</td>\n",
              "      <td>1</td>\n",
              "      <td>5</td>\n",
              "      <td>59</td>\n",
              "      <td>1050</td>\n",
              "      <td>1100</td>\n",
              "      <td>1</td>\n",
              "      <td>0</td>\n",
              "      <td>1</td>\n",
              "    </tr>\n",
              "    <tr>\n",
              "      <th>2</th>\n",
              "      <td>1</td>\n",
              "      <td>0</td>\n",
              "      <td>1</td>\n",
              "      <td>5</td>\n",
              "      <td>60</td>\n",
              "      <td>916</td>\n",
              "      <td>825</td>\n",
              "      <td>0</td>\n",
              "      <td>0</td>\n",
              "      <td>0</td>\n",
              "    </tr>\n",
              "    <tr>\n",
              "      <th>3</th>\n",
              "      <td>0</td>\n",
              "      <td>0</td>\n",
              "      <td>1</td>\n",
              "      <td>5</td>\n",
              "      <td>59</td>\n",
              "      <td>803</td>\n",
              "      <td>783</td>\n",
              "      <td>0</td>\n",
              "      <td>0</td>\n",
              "      <td>0</td>\n",
              "    </tr>\n",
              "    <tr>\n",
              "      <th>4</th>\n",
              "      <td>1</td>\n",
              "      <td>0</td>\n",
              "      <td>1</td>\n",
              "      <td>5</td>\n",
              "      <td>44</td>\n",
              "      <td>813</td>\n",
              "      <td>1050</td>\n",
              "      <td>0</td>\n",
              "      <td>0</td>\n",
              "      <td>0</td>\n",
              "    </tr>\n",
              "  </tbody>\n",
              "</table>\n",
              "</div>"
            ],
            "text/plain": [
              "   Application Status  Domicile  ...  English Marks  Offered\n",
              "0                   1         1  ...              0        0\n",
              "1                   0         0  ...              0        1\n",
              "2                   1         0  ...              0        0\n",
              "3                   0         0  ...              0        0\n",
              "4                   1         0  ...              0        0\n",
              "\n",
              "[5 rows x 10 columns]"
            ]
          },
          "metadata": {
            "tags": []
          },
          "execution_count": 8
        }
      ]
    },
    {
      "cell_type": "code",
      "metadata": {
        "id": "tHCGHTrbwSWX"
      },
      "source": [
        "data_df= list(df.columns[0:9]) \n",
        "data_df_main = df.loc[:,data_df]"
      ],
      "execution_count": null,
      "outputs": []
    },
    {
      "cell_type": "code",
      "metadata": {
        "colab": {
          "base_uri": "https://localhost:8080/",
          "height": 419
        },
        "id": "c_fk_R5EwcfH",
        "outputId": "5fc6f5b6-9567-4f8d-a6de-f0955716d6d5"
      },
      "source": [
        "data_df_main"
      ],
      "execution_count": null,
      "outputs": [
        {
          "output_type": "execute_result",
          "data": {
            "text/html": [
              "<div>\n",
              "<style scoped>\n",
              "    .dataframe tbody tr th:only-of-type {\n",
              "        vertical-align: middle;\n",
              "    }\n",
              "\n",
              "    .dataframe tbody tr th {\n",
              "        vertical-align: top;\n",
              "    }\n",
              "\n",
              "    .dataframe thead th {\n",
              "        text-align: right;\n",
              "    }\n",
              "</style>\n",
              "<table border=\"1\" class=\"dataframe\">\n",
              "  <thead>\n",
              "    <tr style=\"text-align: right;\">\n",
              "      <th></th>\n",
              "      <th>Application Status</th>\n",
              "      <th>Domicile</th>\n",
              "      <th>Gender</th>\n",
              "      <th>Province</th>\n",
              "      <th>Admission Test</th>\n",
              "      <th>SSC</th>\n",
              "      <th>Terminal Degree</th>\n",
              "      <th>Document Verified</th>\n",
              "      <th>English Marks</th>\n",
              "    </tr>\n",
              "  </thead>\n",
              "  <tbody>\n",
              "    <tr>\n",
              "      <th>0</th>\n",
              "      <td>1</td>\n",
              "      <td>1</td>\n",
              "      <td>1</td>\n",
              "      <td>4</td>\n",
              "      <td>0</td>\n",
              "      <td>637</td>\n",
              "      <td>667</td>\n",
              "      <td>0</td>\n",
              "      <td>0</td>\n",
              "    </tr>\n",
              "    <tr>\n",
              "      <th>1</th>\n",
              "      <td>0</td>\n",
              "      <td>0</td>\n",
              "      <td>1</td>\n",
              "      <td>5</td>\n",
              "      <td>59</td>\n",
              "      <td>1050</td>\n",
              "      <td>1100</td>\n",
              "      <td>1</td>\n",
              "      <td>0</td>\n",
              "    </tr>\n",
              "    <tr>\n",
              "      <th>2</th>\n",
              "      <td>1</td>\n",
              "      <td>0</td>\n",
              "      <td>1</td>\n",
              "      <td>5</td>\n",
              "      <td>60</td>\n",
              "      <td>916</td>\n",
              "      <td>825</td>\n",
              "      <td>0</td>\n",
              "      <td>0</td>\n",
              "    </tr>\n",
              "    <tr>\n",
              "      <th>3</th>\n",
              "      <td>0</td>\n",
              "      <td>0</td>\n",
              "      <td>1</td>\n",
              "      <td>5</td>\n",
              "      <td>59</td>\n",
              "      <td>803</td>\n",
              "      <td>783</td>\n",
              "      <td>0</td>\n",
              "      <td>0</td>\n",
              "    </tr>\n",
              "    <tr>\n",
              "      <th>4</th>\n",
              "      <td>1</td>\n",
              "      <td>0</td>\n",
              "      <td>1</td>\n",
              "      <td>5</td>\n",
              "      <td>44</td>\n",
              "      <td>813</td>\n",
              "      <td>1050</td>\n",
              "      <td>0</td>\n",
              "      <td>0</td>\n",
              "    </tr>\n",
              "    <tr>\n",
              "      <th>...</th>\n",
              "      <td>...</td>\n",
              "      <td>...</td>\n",
              "      <td>...</td>\n",
              "      <td>...</td>\n",
              "      <td>...</td>\n",
              "      <td>...</td>\n",
              "      <td>...</td>\n",
              "      <td>...</td>\n",
              "      <td>...</td>\n",
              "    </tr>\n",
              "    <tr>\n",
              "      <th>726</th>\n",
              "      <td>0</td>\n",
              "      <td>1</td>\n",
              "      <td>1</td>\n",
              "      <td>1</td>\n",
              "      <td>30</td>\n",
              "      <td>572</td>\n",
              "      <td>671</td>\n",
              "      <td>0</td>\n",
              "      <td>0</td>\n",
              "    </tr>\n",
              "    <tr>\n",
              "      <th>727</th>\n",
              "      <td>1</td>\n",
              "      <td>1</td>\n",
              "      <td>1</td>\n",
              "      <td>1</td>\n",
              "      <td>0</td>\n",
              "      <td>610</td>\n",
              "      <td>557</td>\n",
              "      <td>0</td>\n",
              "      <td>0</td>\n",
              "    </tr>\n",
              "    <tr>\n",
              "      <th>728</th>\n",
              "      <td>0</td>\n",
              "      <td>1</td>\n",
              "      <td>1</td>\n",
              "      <td>3</td>\n",
              "      <td>50</td>\n",
              "      <td>500</td>\n",
              "      <td>782</td>\n",
              "      <td>0</td>\n",
              "      <td>0</td>\n",
              "    </tr>\n",
              "    <tr>\n",
              "      <th>729</th>\n",
              "      <td>1</td>\n",
              "      <td>1</td>\n",
              "      <td>1</td>\n",
              "      <td>3</td>\n",
              "      <td>0</td>\n",
              "      <td>574</td>\n",
              "      <td>517</td>\n",
              "      <td>0</td>\n",
              "      <td>0</td>\n",
              "    </tr>\n",
              "    <tr>\n",
              "      <th>730</th>\n",
              "      <td>0</td>\n",
              "      <td>1</td>\n",
              "      <td>1</td>\n",
              "      <td>0</td>\n",
              "      <td>48</td>\n",
              "      <td>662</td>\n",
              "      <td>678</td>\n",
              "      <td>0</td>\n",
              "      <td>0</td>\n",
              "    </tr>\n",
              "  </tbody>\n",
              "</table>\n",
              "<p>731 rows × 9 columns</p>\n",
              "</div>"
            ],
            "text/plain": [
              "     Application Status  Domicile  ...  Document Verified  English Marks\n",
              "0                     1         1  ...                  0              0\n",
              "1                     0         0  ...                  1              0\n",
              "2                     1         0  ...                  0              0\n",
              "3                     0         0  ...                  0              0\n",
              "4                     1         0  ...                  0              0\n",
              "..                  ...       ...  ...                ...            ...\n",
              "726                   0         1  ...                  0              0\n",
              "727                   1         1  ...                  0              0\n",
              "728                   0         1  ...                  0              0\n",
              "729                   1         1  ...                  0              0\n",
              "730                   0         1  ...                  0              0\n",
              "\n",
              "[731 rows x 9 columns]"
            ]
          },
          "metadata": {
            "tags": []
          },
          "execution_count": 10
        }
      ]
    },
    {
      "cell_type": "code",
      "metadata": {
        "id": "MAhEsn6rwhKv"
      },
      "source": [
        "X = data_df_main\n",
        "y = df['Offered']"
      ],
      "execution_count": null,
      "outputs": []
    },
    {
      "cell_type": "code",
      "metadata": {
        "id": "KYXdObZCLk8e"
      },
      "source": [
        "X_train, X_test, y_train, y_test = train_test_split(X,\n",
        "                                                   y,\n",
        "                                                   test_size=0.3,\n",
        "                                                   random_state=0)"
      ],
      "execution_count": null,
      "outputs": []
    },
    {
      "cell_type": "code",
      "metadata": {
        "id": "WICasO32wmDv"
      },
      "source": [
        "svm_model = SVC()\n",
        "\n",
        "parameters = [\n",
        "              {'C': [1, 10, 100], \n",
        "               'kernel': ['linear']\n",
        "              },\n",
        "              \n",
        " ]"
      ],
      "execution_count": null,
      "outputs": []
    },
    {
      "cell_type": "code",
      "metadata": {
        "colab": {
          "base_uri": "https://localhost:8080/"
        },
        "id": "vaZ2lWEEwsXB",
        "outputId": "3dd35d06-252d-4c40-fcc6-19eb4a3083fb"
      },
      "source": [
        "grid_svm = GridSearchCV(svm_model, parameters, cv=20, scoring=\"accuracy\")\n",
        "grid_svm.fit(X_train,y_train)"
      ],
      "execution_count": null,
      "outputs": [
        {
          "output_type": "execute_result",
          "data": {
            "text/plain": [
              "GridSearchCV(cv=20, error_score=nan,\n",
              "             estimator=SVC(C=1.0, break_ties=False, cache_size=200,\n",
              "                           class_weight=None, coef0=0.0,\n",
              "                           decision_function_shape='ovr', degree=3,\n",
              "                           gamma='scale', kernel='rbf', max_iter=-1,\n",
              "                           probability=False, random_state=None, shrinking=True,\n",
              "                           tol=0.001, verbose=False),\n",
              "             iid='deprecated', n_jobs=None,\n",
              "             param_grid=[{'C': [1, 10, 100], 'kernel': ['linear']}],\n",
              "             pre_dispatch='2*n_jobs', refit=True, return_train_score=False,\n",
              "             scoring='accuracy', verbose=0)"
            ]
          },
          "metadata": {
            "tags": []
          },
          "execution_count": 14
        }
      ]
    },
    {
      "cell_type": "code",
      "metadata": {
        "colab": {
          "base_uri": "https://localhost:8080/"
        },
        "id": "EZ9oy2LQxpfC",
        "outputId": "81180fa7-cd3e-48f9-95cd-cca5197489ef"
      },
      "source": [
        "print(grid_svm.best_score_)"
      ],
      "execution_count": null,
      "outputs": [
        {
          "output_type": "stream",
          "text": [
            "0.9786153846153848\n"
          ],
          "name": "stdout"
        }
      ]
    },
    {
      "cell_type": "code",
      "metadata": {
        "id": "LbeaAjEiGm4_"
      },
      "source": [
        "y_pred = grid_svm.predict(X_test)\n",
        "from sklearn.metrics import confusion_matrix\n",
        "cm=confusion_matrix(y_test, y_pred)\n",
        "tn, fp, fn, tp = confusion_matrix(y_test, y_pred).ravel()\n",
        "Sp = tn / (tn+fp)\n",
        "Sn = tp/(tp + fn)"
      ],
      "execution_count": null,
      "outputs": []
    },
    {
      "cell_type": "code",
      "metadata": {
        "colab": {
          "base_uri": "https://localhost:8080/"
        },
        "id": "duG0a_0WG5sE",
        "outputId": "069086d7-fa0d-4449-83da-96656371f199"
      },
      "source": [
        "print(cm)\n",
        "print(Sp)\n",
        "print(Sn)"
      ],
      "execution_count": null,
      "outputs": [
        {
          "output_type": "stream",
          "text": [
            "[[198   1]\n",
            " [  4  17]]\n",
            "0.9949748743718593\n",
            "0.8095238095238095\n"
          ],
          "name": "stdout"
        }
      ]
    },
    {
      "cell_type": "code",
      "metadata": {
        "id": "KVz9TjgsG9q1"
      },
      "source": [
        "from sklearn.metrics import cohen_kappa_score\n",
        "cohen_score = cohen_kappa_score(y_test, y_pred)"
      ],
      "execution_count": null,
      "outputs": []
    },
    {
      "cell_type": "code",
      "metadata": {
        "id": "noIkmmmEN2JF",
        "colab": {
          "base_uri": "https://localhost:8080/"
        },
        "outputId": "78ec84c1-53f9-467c-fc48-1e68fdce5b04"
      },
      "source": [
        "cohen_score"
      ],
      "execution_count": null,
      "outputs": [
        {
          "output_type": "execute_result",
          "data": {
            "text/plain": [
              "0.8594069529652352"
            ]
          },
          "metadata": {
            "tags": []
          },
          "execution_count": 19
        }
      ]
    }
  ]
}