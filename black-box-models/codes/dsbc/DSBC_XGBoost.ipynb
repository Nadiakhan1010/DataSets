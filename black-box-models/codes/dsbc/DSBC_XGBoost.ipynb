{
  "nbformat": 4,
  "nbformat_minor": 0,
  "metadata": {
    "colab": {
      "name": "DSBC- XGBoost with Scikit-learn.ipynb",
      "private_outputs": true,
      "provenance": []
    },
    "kernelspec": {
      "name": "python3",
      "display_name": "Python 3"
    },
    "language_info": {
      "name": "python"
    }
  },
  "cells": [
    {
      "cell_type": "code",
      "execution_count": null,
      "metadata": {
        "id": "4tT-BVFP8JDw"
      },
      "outputs": [],
      "source": [
        "import numpy as np\n",
        "\n",
        "from scipy.stats import uniform, randint\n",
        "\n",
        "from sklearn.datasets import load_breast_cancer, load_diabetes, load_wine\n",
        "from sklearn.metrics import auc, accuracy_score, confusion_matrix, mean_squared_error\n",
        "from sklearn.model_selection import cross_val_score, GridSearchCV, KFold, RandomizedSearchCV, train_test_split\n",
        "\n",
        "import xgboost as xgb"
      ]
    },
    {
      "cell_type": "markdown",
      "source": [
        "https://www.kaggle.com/code/nauman101/using-xgboost-with-scikit-learn/edit"
      ],
      "metadata": {
        "id": "HRKxWhbB9Hcs"
      }
    },
    {
      "cell_type": "code",
      "source": [
        "def display_scores(scores):\n",
        "    print(\"Scores: {0}\\nMean: {1:.3f}\\nStd: {2:.3f}\".format(scores, np.mean(scores), np.std(scores)))"
      ],
      "metadata": {
        "id": "RbMBt_wg8SZr"
      },
      "execution_count": null,
      "outputs": []
    },
    {
      "cell_type": "code",
      "source": [
        "def report_best_scores(results, n_top=3):\n",
        "    for i in range(1, n_top + 1):\n",
        "        candidates = np.flatnonzero(results['rank_test_score'] == i)\n",
        "        for candidate in candidates:\n",
        "            print(\"Model with rank: {0}\".format(i))\n",
        "            print(\"Mean validation score: {0:.3f} (std: {1:.3f})\".format(\n",
        "                  results['mean_test_score'][candidate],\n",
        "                  results['std_test_score'][candidate]))\n",
        "            print(\"Parameters: {0}\".format(results['params'][candidate]))\n",
        "            print(\"\")"
      ],
      "metadata": {
        "id": "bqpHE2vG8VlS"
      },
      "execution_count": null,
      "outputs": []
    },
    {
      "cell_type": "code",
      "source": [
        "import pandas as pd"
      ],
      "metadata": {
        "id": "ffzusD2SA6jI"
      },
      "execution_count": null,
      "outputs": []
    },
    {
      "cell_type": "code",
      "source": [
        "data = pd.read_csv('https://raw.githubusercontent.com/mhmmd-nauman/DataSets/master/black-box-models/CP-Nets/dsbc/original%20ds/breast-cancer%20-%20complete.csv')"
      ],
      "metadata": {
        "id": "Wp7X6mvL-TlM"
      },
      "execution_count": null,
      "outputs": []
    },
    {
      "cell_type": "code",
      "source": [
        "data.head()\n",
        "df = data"
      ],
      "metadata": {
        "id": "73Jl0DSOBneq"
      },
      "execution_count": null,
      "outputs": []
    },
    {
      "cell_type": "code",
      "source": [
        "from sklearn.preprocessing import LabelEncoder\n",
        "labelencoder_X_age = LabelEncoder()\n",
        "df['Age'] = labelencoder_X_age.fit_transform(df['Age'])\n",
        "labelencoder_X_menopause = LabelEncoder()\n",
        "df['menopause'] = labelencoder_X_menopause.fit_transform(df['menopause'])\n",
        "labelencoder_X_tumor_size = LabelEncoder()\n",
        "df['tumor-size'] = labelencoder_X_tumor_size.fit_transform(df['tumor-size'])\n",
        "labelencoder_X_inv_nodes = LabelEncoder()\n",
        "df['inv-nodes'] = labelencoder_X_inv_nodes.fit_transform(df['inv-nodes'])\n",
        "labelencoder_X_node_caps = LabelEncoder()\n",
        "df['node-caps'] = labelencoder_X_node_caps.fit_transform(df['node-caps'])\n",
        "labelencoder_X_deg_malig = LabelEncoder()\n",
        "df['deg-malig'] = labelencoder_X_deg_malig.fit_transform(df['deg-malig'])\n",
        "labelencoder_X_breast = LabelEncoder()\n",
        "df['breast'] = labelencoder_X_breast.fit_transform(df['breast'])\n",
        "labelencoder_X_breast_quad = LabelEncoder()\n",
        "df['breast-quad'] = labelencoder_X_breast_quad.fit_transform(df['breast-quad'])\n",
        "labelencoder_X_irradiat = LabelEncoder()\n",
        "df['irradiat'] = labelencoder_X_irradiat.fit_transform(df['irradiat'])\n",
        "labelencoder_X_class = LabelEncoder()\n",
        "df['Class'] = labelencoder_X_class.fit_transform(df['Class'])"
      ],
      "metadata": {
        "id": "9VKcuDAPnIFn"
      },
      "execution_count": null,
      "outputs": []
    },
    {
      "cell_type": "code",
      "source": [
        "def clean_dataset(df):\n",
        "    assert isinstance(df, pd.DataFrame), \"df needs to be a pd.DataFrame\"\n",
        "    df.dropna(inplace=True)\n",
        "    indices_to_keep = ~df.isin([np.nan, np.inf, -np.inf]).any(1)\n",
        "    return df[indices_to_keep].astype(np.float64)"
      ],
      "metadata": {
        "id": "0fAA3bAunup_"
      },
      "execution_count": null,
      "outputs": []
    },
    {
      "cell_type": "code",
      "source": [
        "df = clean_dataset(df)"
      ],
      "metadata": {
        "id": "BHrcrBd0nvtv"
      },
      "execution_count": null,
      "outputs": []
    },
    {
      "cell_type": "code",
      "source": [
        "X = data.iloc[:, 0:9].values\n",
        "y = data['Class']"
      ],
      "metadata": {
        "id": "HE9lhT4wB0Mp"
      },
      "execution_count": null,
      "outputs": []
    },
    {
      "cell_type": "code",
      "source": [
        "X"
      ],
      "metadata": {
        "id": "_z2UhOSvB7tn"
      },
      "execution_count": null,
      "outputs": []
    },
    {
      "cell_type": "code",
      "source": [
        "y"
      ],
      "metadata": {
        "id": "Jhs9agE4CR06"
      },
      "execution_count": null,
      "outputs": []
    },
    {
      "cell_type": "code",
      "source": [
        "xgb_model = xgb.XGBClassifier(objective=\"binary:logistic\", n_estimators=50, random_state=0, eval_metric=[\"auc\", \"error\", \"error@0.6\"])\n",
        "\n",
        "X_train, X_test, y_train, y_test = train_test_split(X, y,test_size = 0.3 ,random_state=0)\n",
        "\n",
        "xgb_model.fit(X_train, y_train, early_stopping_rounds=5, eval_set=[(X_test, y_test)])\n",
        "\n",
        "y_pred = xgb_model.predict(X_test)"
      ],
      "metadata": {
        "id": "_VNR4jaF88-j"
      },
      "execution_count": null,
      "outputs": []
    },
    {
      "cell_type": "code",
      "source": [
        "accuracy_score(y_test, y_pred)"
      ],
      "metadata": {
        "id": "HXd45EI7GEy0"
      },
      "execution_count": null,
      "outputs": []
    },
    {
      "cell_type": "code",
      "source": [
        "from sklearn.metrics import confusion_matrix\n",
        "cm = confusion_matrix(y_test, y_pred)\n",
        "tn, fp, fn, tp = confusion_matrix(y_test, y_pred).ravel()\n",
        "Sp = tn / (tn+fp)\n",
        "Sn = tp/(tp + fn)"
      ],
      "metadata": {
        "id": "Its_MbsJGnMz"
      },
      "execution_count": null,
      "outputs": []
    },
    {
      "cell_type": "code",
      "source": [
        "print(cm)\n",
        "print(Sp)\n",
        "print(Sn)"
      ],
      "metadata": {
        "id": "wVlf_ztsHaBd"
      },
      "execution_count": null,
      "outputs": []
    },
    {
      "cell_type": "code",
      "source": [
        "import graphviz\n",
        "\n",
        "#cancer = load_breast_cancer()\n",
        "\n",
        "#X = cancer.data\n",
        "#y = cancer.target\n",
        "\n",
        "xgb_model = xgb.XGBClassifier(objective=\"binary:logistic\", random_state=0, eval_metric=\"auc\")\n",
        "\n",
        "X_train, X_test, y_train, y_test = train_test_split(X, y,test_size = 0.3, random_state=0)\n",
        "\n",
        "xgb_model.fit(X_train, y_train, early_stopping_rounds=10, eval_set=[(X_test, y_test)], verbose=False)\n",
        "\n",
        "xgb.plot_importance(xgb_model)\n",
        "\n",
        "# plot the output tree via matplotlib, specifying the ordinal number of the target tree\n",
        "# xgb.plot_tree(xgb_model, num_trees=xgb_model.best_iteration)\n",
        "\n",
        "# converts the target tree to a graphviz instance\n",
        "xgb.to_graphviz(xgb_model, num_trees=xgb_model.best_iteration)"
      ],
      "metadata": {
        "id": "yBrjrXke8zCr"
      },
      "execution_count": null,
      "outputs": []
    }
  ]
}