{
  "nbformat": 4,
  "nbformat_minor": 0,
  "metadata": {
    "colab": {
      "name": "ANN-DSBC.ipynb",
      "provenance": []
    },
    "kernelspec": {
      "name": "python3",
      "display_name": "Python 3"
    }
  },
  "cells": [
    {
      "cell_type": "code",
      "metadata": {
        "id": "yQzi1-XKVtW6"
      },
      "source": [
        "# Importing libraries\n",
        "import pandas as pd\n",
        "import numpy as np\n",
        "import matplotlib.pyplot as plt\n",
        "import seaborn as sns"
      ],
      "execution_count": null,
      "outputs": []
    },
    {
      "cell_type": "code",
      "metadata": {
        "id": "nqchebtNWIuE"
      },
      "source": [
        "data = pd.read_csv('https://raw.githubusercontent.com/mhmmd-nauman/DataSets/master/black-box-models/CP-Nets/dsbc/original%20ds/breast-cancer%20-%20complete.csv')\n",
        "df = data\n",
        "#del data['Unnamed: 32']"
      ],
      "execution_count": null,
      "outputs": []
    },
    {
      "cell_type": "code",
      "metadata": {
        "colab": {
          "base_uri": "https://localhost:8080/"
        },
        "id": "yiChM644lIC7",
        "outputId": "b3c0fb8b-fc9b-473f-a4d7-6a9acc315dbe"
      },
      "source": [
        "index = data.index\n",
        "number_of_rows = len(index)\n",
        "print(number_of_rows)"
      ],
      "execution_count": null,
      "outputs": [
        {
          "output_type": "stream",
          "name": "stdout",
          "text": [
            "277\n"
          ]
        }
      ]
    },
    {
      "cell_type": "code",
      "metadata": {
        "colab": {
          "base_uri": "https://localhost:8080/",
          "height": 206
        },
        "id": "RcX1pCTR2FN-",
        "outputId": "50e3aea7-c6f2-4829-ff57-9b4074381bf0"
      },
      "source": [
        "data.head()"
      ],
      "execution_count": null,
      "outputs": [
        {
          "output_type": "execute_result",
          "data": {
            "text/plain": [
              "     Age menopause tumor-size inv-nodes node-caps  deg-malig breast  \\\n",
              "0  30-39   premeno      30-34       0-2        no          3   left   \n",
              "1  40-49   premeno      20-24       0-2        no          2  right   \n",
              "2  40-49   premeno      20-24       0-2        no          2   left   \n",
              "3  60-69      ge40      15-19       0-2        no          2  right   \n",
              "4  40-49   premeno        0-4       0-2        no          2  right   \n",
              "\n",
              "  breast-quad irradiat Class  \n",
              "0    left_low       no     B  \n",
              "1    right_up       no     B  \n",
              "2    left_low       no     B  \n",
              "3     left_up       no     B  \n",
              "4   right_low       no     B  "
            ],
            "text/html": [
              "\n",
              "  <div id=\"df-a844e205-bc33-4d5c-a589-91725551bf33\">\n",
              "    <div class=\"colab-df-container\">\n",
              "      <div>\n",
              "<style scoped>\n",
              "    .dataframe tbody tr th:only-of-type {\n",
              "        vertical-align: middle;\n",
              "    }\n",
              "\n",
              "    .dataframe tbody tr th {\n",
              "        vertical-align: top;\n",
              "    }\n",
              "\n",
              "    .dataframe thead th {\n",
              "        text-align: right;\n",
              "    }\n",
              "</style>\n",
              "<table border=\"1\" class=\"dataframe\">\n",
              "  <thead>\n",
              "    <tr style=\"text-align: right;\">\n",
              "      <th></th>\n",
              "      <th>Age</th>\n",
              "      <th>menopause</th>\n",
              "      <th>tumor-size</th>\n",
              "      <th>inv-nodes</th>\n",
              "      <th>node-caps</th>\n",
              "      <th>deg-malig</th>\n",
              "      <th>breast</th>\n",
              "      <th>breast-quad</th>\n",
              "      <th>irradiat</th>\n",
              "      <th>Class</th>\n",
              "    </tr>\n",
              "  </thead>\n",
              "  <tbody>\n",
              "    <tr>\n",
              "      <th>0</th>\n",
              "      <td>30-39</td>\n",
              "      <td>premeno</td>\n",
              "      <td>30-34</td>\n",
              "      <td>0-2</td>\n",
              "      <td>no</td>\n",
              "      <td>3</td>\n",
              "      <td>left</td>\n",
              "      <td>left_low</td>\n",
              "      <td>no</td>\n",
              "      <td>B</td>\n",
              "    </tr>\n",
              "    <tr>\n",
              "      <th>1</th>\n",
              "      <td>40-49</td>\n",
              "      <td>premeno</td>\n",
              "      <td>20-24</td>\n",
              "      <td>0-2</td>\n",
              "      <td>no</td>\n",
              "      <td>2</td>\n",
              "      <td>right</td>\n",
              "      <td>right_up</td>\n",
              "      <td>no</td>\n",
              "      <td>B</td>\n",
              "    </tr>\n",
              "    <tr>\n",
              "      <th>2</th>\n",
              "      <td>40-49</td>\n",
              "      <td>premeno</td>\n",
              "      <td>20-24</td>\n",
              "      <td>0-2</td>\n",
              "      <td>no</td>\n",
              "      <td>2</td>\n",
              "      <td>left</td>\n",
              "      <td>left_low</td>\n",
              "      <td>no</td>\n",
              "      <td>B</td>\n",
              "    </tr>\n",
              "    <tr>\n",
              "      <th>3</th>\n",
              "      <td>60-69</td>\n",
              "      <td>ge40</td>\n",
              "      <td>15-19</td>\n",
              "      <td>0-2</td>\n",
              "      <td>no</td>\n",
              "      <td>2</td>\n",
              "      <td>right</td>\n",
              "      <td>left_up</td>\n",
              "      <td>no</td>\n",
              "      <td>B</td>\n",
              "    </tr>\n",
              "    <tr>\n",
              "      <th>4</th>\n",
              "      <td>40-49</td>\n",
              "      <td>premeno</td>\n",
              "      <td>0-4</td>\n",
              "      <td>0-2</td>\n",
              "      <td>no</td>\n",
              "      <td>2</td>\n",
              "      <td>right</td>\n",
              "      <td>right_low</td>\n",
              "      <td>no</td>\n",
              "      <td>B</td>\n",
              "    </tr>\n",
              "  </tbody>\n",
              "</table>\n",
              "</div>\n",
              "      <button class=\"colab-df-convert\" onclick=\"convertToInteractive('df-a844e205-bc33-4d5c-a589-91725551bf33')\"\n",
              "              title=\"Convert this dataframe to an interactive table.\"\n",
              "              style=\"display:none;\">\n",
              "        \n",
              "  <svg xmlns=\"http://www.w3.org/2000/svg\" height=\"24px\"viewBox=\"0 0 24 24\"\n",
              "       width=\"24px\">\n",
              "    <path d=\"M0 0h24v24H0V0z\" fill=\"none\"/>\n",
              "    <path d=\"M18.56 5.44l.94 2.06.94-2.06 2.06-.94-2.06-.94-.94-2.06-.94 2.06-2.06.94zm-11 1L8.5 8.5l.94-2.06 2.06-.94-2.06-.94L8.5 2.5l-.94 2.06-2.06.94zm10 10l.94 2.06.94-2.06 2.06-.94-2.06-.94-.94-2.06-.94 2.06-2.06.94z\"/><path d=\"M17.41 7.96l-1.37-1.37c-.4-.4-.92-.59-1.43-.59-.52 0-1.04.2-1.43.59L10.3 9.45l-7.72 7.72c-.78.78-.78 2.05 0 2.83L4 21.41c.39.39.9.59 1.41.59.51 0 1.02-.2 1.41-.59l7.78-7.78 2.81-2.81c.8-.78.8-2.07 0-2.86zM5.41 20L4 18.59l7.72-7.72 1.47 1.35L5.41 20z\"/>\n",
              "  </svg>\n",
              "      </button>\n",
              "      \n",
              "  <style>\n",
              "    .colab-df-container {\n",
              "      display:flex;\n",
              "      flex-wrap:wrap;\n",
              "      gap: 12px;\n",
              "    }\n",
              "\n",
              "    .colab-df-convert {\n",
              "      background-color: #E8F0FE;\n",
              "      border: none;\n",
              "      border-radius: 50%;\n",
              "      cursor: pointer;\n",
              "      display: none;\n",
              "      fill: #1967D2;\n",
              "      height: 32px;\n",
              "      padding: 0 0 0 0;\n",
              "      width: 32px;\n",
              "    }\n",
              "\n",
              "    .colab-df-convert:hover {\n",
              "      background-color: #E2EBFA;\n",
              "      box-shadow: 0px 1px 2px rgba(60, 64, 67, 0.3), 0px 1px 3px 1px rgba(60, 64, 67, 0.15);\n",
              "      fill: #174EA6;\n",
              "    }\n",
              "\n",
              "    [theme=dark] .colab-df-convert {\n",
              "      background-color: #3B4455;\n",
              "      fill: #D2E3FC;\n",
              "    }\n",
              "\n",
              "    [theme=dark] .colab-df-convert:hover {\n",
              "      background-color: #434B5C;\n",
              "      box-shadow: 0px 1px 3px 1px rgba(0, 0, 0, 0.15);\n",
              "      filter: drop-shadow(0px 1px 2px rgba(0, 0, 0, 0.3));\n",
              "      fill: #FFFFFF;\n",
              "    }\n",
              "  </style>\n",
              "\n",
              "      <script>\n",
              "        const buttonEl =\n",
              "          document.querySelector('#df-a844e205-bc33-4d5c-a589-91725551bf33 button.colab-df-convert');\n",
              "        buttonEl.style.display =\n",
              "          google.colab.kernel.accessAllowed ? 'block' : 'none';\n",
              "\n",
              "        async function convertToInteractive(key) {\n",
              "          const element = document.querySelector('#df-a844e205-bc33-4d5c-a589-91725551bf33');\n",
              "          const dataTable =\n",
              "            await google.colab.kernel.invokeFunction('convertToInteractive',\n",
              "                                                     [key], {});\n",
              "          if (!dataTable) return;\n",
              "\n",
              "          const docLinkHtml = 'Like what you see? Visit the ' +\n",
              "            '<a target=\"_blank\" href=https://colab.research.google.com/notebooks/data_table.ipynb>data table notebook</a>'\n",
              "            + ' to learn more about interactive tables.';\n",
              "          element.innerHTML = '';\n",
              "          dataTable['output_type'] = 'display_data';\n",
              "          await google.colab.output.renderOutput(dataTable, element);\n",
              "          const docLink = document.createElement('div');\n",
              "          docLink.innerHTML = docLinkHtml;\n",
              "          element.appendChild(docLink);\n",
              "        }\n",
              "      </script>\n",
              "    </div>\n",
              "  </div>\n",
              "  "
            ]
          },
          "metadata": {},
          "execution_count": 4
        }
      ]
    },
    {
      "cell_type": "code",
      "metadata": {
        "id": "nuDLJSUajE2k"
      },
      "source": [
        "# Encoding categorical data\n",
        "from sklearn.preprocessing import LabelEncoder\n",
        "labelencoder_X_age = LabelEncoder()\n",
        "df['Age'] = labelencoder_X_age.fit_transform(df['Age'])\n",
        "labelencoder_X_menopause = LabelEncoder()\n",
        "df['menopause'] = labelencoder_X_menopause.fit_transform(df['menopause'])\n",
        "labelencoder_X_tumor_size = LabelEncoder()\n",
        "df['tumor-size'] = labelencoder_X_tumor_size.fit_transform(df['tumor-size'])\n",
        "labelencoder_X_inv_nodes = LabelEncoder()\n",
        "df['inv-nodes'] = labelencoder_X_inv_nodes.fit_transform(df['inv-nodes'])\n",
        "labelencoder_X_node_caps = LabelEncoder()\n",
        "df['node-caps'] = labelencoder_X_node_caps.fit_transform(df['node-caps'])\n",
        "labelencoder_X_deg_malig = LabelEncoder()\n",
        "df['deg-malig'] = labelencoder_X_deg_malig.fit_transform(df['deg-malig'])\n",
        "labelencoder_X_breast = LabelEncoder()\n",
        "df['breast'] = labelencoder_X_breast.fit_transform(df['breast'])\n",
        "labelencoder_X_breast_quad = LabelEncoder()\n",
        "df['breast-quad'] = labelencoder_X_breast_quad.fit_transform(df['breast-quad'])\n",
        "labelencoder_X_irradiat = LabelEncoder()\n",
        "df['irradiat'] = labelencoder_X_irradiat.fit_transform(df['irradiat'])\n",
        "labelencoder_X_class = LabelEncoder()\n",
        "df['Class'] = labelencoder_X_class.fit_transform(df['Class'])"
      ],
      "execution_count": null,
      "outputs": []
    },
    {
      "cell_type": "code",
      "source": [
        "def clean_dataset(df):\n",
        "    assert isinstance(df, pd.DataFrame), \"df needs to be a pd.DataFrame\"\n",
        "    df.dropna(inplace=True)\n",
        "    indices_to_keep = ~df.isin([np.nan, np.inf, -np.inf]).any(1)\n",
        "    return df[indices_to_keep].astype(np.float64)"
      ],
      "metadata": {
        "id": "fj1C2awsOS1-"
      },
      "execution_count": null,
      "outputs": []
    },
    {
      "cell_type": "code",
      "source": [
        "df = clean_dataset(df)"
      ],
      "metadata": {
        "id": "tnSqMPV5OTsz"
      },
      "execution_count": null,
      "outputs": []
    },
    {
      "cell_type": "code",
      "metadata": {
        "id": "-RCelo5FhSfk"
      },
      "source": [
        "X = data.iloc[:, 0:9].values\n",
        "y = data['Class']"
      ],
      "execution_count": null,
      "outputs": []
    },
    {
      "cell_type": "code",
      "metadata": {
        "colab": {
          "base_uri": "https://localhost:8080/"
        },
        "id": "Zq_br4F9lmfy",
        "outputId": "57e33183-700d-48bb-c2f1-4eb999719f13"
      },
      "source": [
        "X"
      ],
      "execution_count": null,
      "outputs": [
        {
          "output_type": "execute_result",
          "data": {
            "text/plain": [
              "array([[ 1,  2,  5, ...,  0,  1,  0],\n",
              "       [ 2,  2,  3, ...,  1,  4,  0],\n",
              "       [ 2,  2,  3, ...,  0,  1,  0],\n",
              "       ...,\n",
              "       [ 4,  0,  8, ...,  1,  4,  1],\n",
              "       [ 3,  2, 10, ...,  1,  2,  0],\n",
              "       [ 2,  2,  5, ...,  1,  2,  0]])"
            ]
          },
          "metadata": {},
          "execution_count": 9
        }
      ]
    },
    {
      "cell_type": "code",
      "metadata": {
        "colab": {
          "base_uri": "https://localhost:8080/"
        },
        "id": "dpJg9iIyjJ7t",
        "outputId": "d4675e3b-9a99-4b58-eccd-546141cf113b"
      },
      "source": [
        "y"
      ],
      "execution_count": null,
      "outputs": [
        {
          "output_type": "execute_result",
          "data": {
            "text/plain": [
              "0      0\n",
              "1      0\n",
              "2      0\n",
              "3      0\n",
              "4      0\n",
              "      ..\n",
              "272    1\n",
              "273    1\n",
              "274    1\n",
              "275    1\n",
              "276    1\n",
              "Name: Class, Length: 277, dtype: int64"
            ]
          },
          "metadata": {},
          "execution_count": 10
        }
      ]
    },
    {
      "cell_type": "code",
      "metadata": {
        "id": "_gPm5Q8SWwX0"
      },
      "source": [
        "# Splitting the dataset into the Training set and Test set\n",
        "from sklearn.model_selection import train_test_split\n",
        "X_train, X_test, y_train, y_test = train_test_split(X, y, test_size = 0.3, random_state = 0)\n",
        "\n",
        "#Feature Scaling\n",
        "from sklearn.preprocessing import StandardScaler\n",
        "sc = StandardScaler()\n",
        "X_train = sc.fit_transform(X_train)\n",
        "X_test = sc.transform(X_test)"
      ],
      "execution_count": null,
      "outputs": []
    },
    {
      "cell_type": "code",
      "metadata": {
        "colab": {
          "base_uri": "https://localhost:8080/"
        },
        "id": "ld8VOn8y2BjW",
        "outputId": "450c9d9d-adc4-4ed0-cf78-8d3d756a98f6"
      },
      "source": [
        "y"
      ],
      "execution_count": null,
      "outputs": [
        {
          "output_type": "execute_result",
          "data": {
            "text/plain": [
              "0      0\n",
              "1      0\n",
              "2      0\n",
              "3      0\n",
              "4      0\n",
              "      ..\n",
              "272    1\n",
              "273    1\n",
              "274    1\n",
              "275    1\n",
              "276    1\n",
              "Name: Class, Length: 277, dtype: int64"
            ]
          },
          "metadata": {},
          "execution_count": 12
        }
      ]
    },
    {
      "cell_type": "code",
      "metadata": {
        "id": "d_lLRvusW1as"
      },
      "source": [
        "import keras\n",
        "from keras.models import Sequential\n",
        "from keras.layers import Dense, Dropout"
      ],
      "execution_count": null,
      "outputs": []
    },
    {
      "cell_type": "code",
      "metadata": {
        "id": "D1xJy1nPl-zi"
      },
      "source": [
        "def create_baseline(x_size, y_size):\n",
        "    # create model\n",
        "    model = Sequential()\n",
        "    model.add(Dense(36, input_dim=x_size, kernel_initializer='normal', activation='relu'))\n",
        "    model.add(Dense(x_size,  activation='relu'))\n",
        "    model.add(Dense(1, activation='sigmoid'))\n",
        "    # Compile model. We use the the logarithmic loss function, and the Adam gradient optimizer. mean_squared_error\n",
        "    model.compile(loss='mean_squared_error', optimizer='adam', metrics=['accuracy'])\n",
        "    return model"
      ],
      "execution_count": null,
      "outputs": []
    },
    {
      "cell_type": "code",
      "metadata": {
        "id": "ufmg2UZpW6nK"
      },
      "source": [
        "# Initialising the ANN\n",
        "#classifier = Sequential()\n",
        "model = create_baseline(X.shape[1], 1)"
      ],
      "execution_count": null,
      "outputs": []
    },
    {
      "cell_type": "code",
      "metadata": {
        "id": "v0jXV3v7XCLq"
      },
      "source": [
        "# Adding the input layer and the first hidden layer\n",
        "#classifier.add(Dense(3, activation='relu', input_dim=5))\n",
        "# Adding dropout to prevent overfitting\n",
        "#classifier.add(Dropout(p=0.1))"
      ],
      "execution_count": null,
      "outputs": []
    },
    {
      "cell_type": "code",
      "metadata": {
        "id": "JQ24zMOpYZz1"
      },
      "source": [
        "# Adding the output layer\n",
        "#classifier.add(Dense(1, activation='sigmoid'))"
      ],
      "execution_count": null,
      "outputs": []
    },
    {
      "cell_type": "code",
      "metadata": {
        "id": "ylKNSU3YYsQr"
      },
      "source": [
        "# Compiling the ANN\n",
        "#classifier.compile(optimizer='adam', loss='binary_crossentropy', metrics=['accuracy'])"
      ],
      "execution_count": null,
      "outputs": []
    },
    {
      "cell_type": "code",
      "metadata": {
        "colab": {
          "base_uri": "https://localhost:8080/"
        },
        "id": "H7MTQuNCYzXE",
        "outputId": "dd98ff1d-2315-42cd-eeb1-0839e251f502"
      },
      "source": [
        "# Fitting the ANN to the Training set\n",
        "#classifier.fit(X_train, y_train, batch_size=10, epochs=50)\n",
        "# Long scroll ahead but worth\n",
        "# The batch size and number of epochs have been set using trial and error. Still looking for more efficient ways. Open to suggestions.\n",
        "model.fit(X_train, y_train,\n",
        "    batch_size=20,\n",
        "    epochs=150,\n",
        "    #shuffle=True,\n",
        "    verbose=0 # Change it to 2, if wished to observe execution\n",
        "    #validation_data=(kc_x_valid, kc_y_valid)\n",
        "    ) "
      ],
      "execution_count": null,
      "outputs": [
        {
          "output_type": "execute_result",
          "data": {
            "text/plain": [
              "<keras.callbacks.History at 0x7fb864b39310>"
            ]
          },
          "metadata": {},
          "execution_count": 19
        }
      ]
    },
    {
      "cell_type": "code",
      "metadata": {
        "id": "a-0fp-c6ZKgF"
      },
      "source": [
        "# Predicting the Test set results\n",
        "#y_pred = classifier.predict(X_test)\n",
        "y_pred = model.predict(X_test)\n",
        "y_pred = (y_pred > 0.5)"
      ],
      "execution_count": null,
      "outputs": []
    },
    {
      "cell_type": "code",
      "metadata": {
        "colab": {
          "base_uri": "https://localhost:8080/"
        },
        "id": "dipfx6xBdJ11",
        "outputId": "e530c86f-3784-4497-b059-ae271cd02896"
      },
      "source": [
        "#score = classifier.evaluate(X_test,y_test)\n",
        "score = model.evaluate(X_test,y_test)\n",
        "print(score)"
      ],
      "execution_count": null,
      "outputs": [
        {
          "output_type": "stream",
          "name": "stdout",
          "text": [
            "3/3 [==============================] - 0s 4ms/step - loss: 0.1939 - accuracy: 0.7976\n",
            "[0.1939285397529602, 0.7976190447807312]\n"
          ]
        }
      ]
    },
    {
      "cell_type": "code",
      "metadata": {
        "id": "shO-wZzDZSFK"
      },
      "source": [
        "# Making the Confusion Matrix\n",
        "from sklearn.metrics import confusion_matrix\n",
        "cm = confusion_matrix(y_test, y_pred)\n",
        "tn, fp, fn, tp = confusion_matrix(y_test, y_pred).ravel()\n",
        "Sp = tn / (tn+fp)\n",
        "Sn = tp/(tp + fn)"
      ],
      "execution_count": null,
      "outputs": []
    },
    {
      "cell_type": "code",
      "metadata": {
        "colab": {
          "base_uri": "https://localhost:8080/"
        },
        "id": "ZcWKpCORZYjb",
        "outputId": "acad4b7f-630d-485d-93ae-b19774a0c215"
      },
      "source": [
        "print(cm)\n",
        "print(Sp)\n",
        "print(Sn)"
      ],
      "execution_count": null,
      "outputs": [
        {
          "output_type": "stream",
          "name": "stdout",
          "text": [
            "[[50  6]\n",
            " [11 17]]\n",
            "0.8928571428571429\n",
            "0.6071428571428571\n"
          ]
        }
      ]
    },
    {
      "cell_type": "code",
      "metadata": {
        "colab": {
          "base_uri": "https://localhost:8080/"
        },
        "id": "9SvilMPIioMa",
        "outputId": "15b3c2ff-cb1f-48eb-9850-c52e07ac29a0"
      },
      "source": [
        "from sklearn.metrics import cohen_kappa_score\n",
        "cohen_score = cohen_kappa_score(y_test, y_pred)\n",
        "print(cohen_score)"
      ],
      "execution_count": null,
      "outputs": [
        {
          "output_type": "stream",
          "name": "stdout",
          "text": [
            "0.5233644859813084\n"
          ]
        }
      ]
    }
  ]
}