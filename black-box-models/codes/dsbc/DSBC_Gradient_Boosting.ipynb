{
  "nbformat": 4,
  "nbformat_minor": 0,
  "metadata": {
    "colab": {
      "name": "DSBC-Gradient Boosting.ipynb",
      "private_outputs": true,
      "provenance": []
    },
    "kernelspec": {
      "name": "python3",
      "display_name": "Python 3"
    },
    "language_info": {
      "name": "python"
    }
  },
  "cells": [
    {
      "cell_type": "code",
      "execution_count": null,
      "metadata": {
        "id": "G5rbz0pxmrSb"
      },
      "outputs": [],
      "source": [
        "# check scikit-learn version\n",
        "import sklearn\n",
        "print(sklearn.__version__)"
      ]
    },
    {
      "cell_type": "code",
      "source": [
        "# gradient boosting for classification in scikit-learn\n",
        "import pandas as pd\n",
        "import numpy as np\n",
        "from numpy import mean\n",
        "from numpy import std\n",
        "from sklearn.datasets import make_classification\n",
        "from sklearn.ensemble import GradientBoostingClassifier\n",
        "from sklearn.model_selection import cross_val_score, train_test_split\n",
        "from sklearn.model_selection import RepeatedStratifiedKFold\n",
        "from matplotlib import pyplot\n",
        "from sklearn.metrics import confusion_matrix, accuracy_score\n",
        "# define dataset\n",
        "\n",
        "data = pd.read_csv('https://raw.githubusercontent.com/mhmmd-nauman/DataSets/master/black-box-models/CP-Nets/dsbc/original%20ds/breast-cancer%20-%20complete.csv')\n",
        "df = data"
      ],
      "metadata": {
        "id": "yDk-h9OrnJsK"
      },
      "execution_count": null,
      "outputs": []
    },
    {
      "cell_type": "code",
      "source": [
        "from sklearn.preprocessing import LabelEncoder\n",
        "labelencoder_X_age = LabelEncoder()\n",
        "df['Age'] = labelencoder_X_age.fit_transform(df['Age'])\n",
        "labelencoder_X_menopause = LabelEncoder()\n",
        "df['menopause'] = labelencoder_X_menopause.fit_transform(df['menopause'])\n",
        "labelencoder_X_tumor_size = LabelEncoder()\n",
        "df['tumor-size'] = labelencoder_X_tumor_size.fit_transform(df['tumor-size'])\n",
        "labelencoder_X_inv_nodes = LabelEncoder()\n",
        "df['inv-nodes'] = labelencoder_X_inv_nodes.fit_transform(df['inv-nodes'])\n",
        "labelencoder_X_node_caps = LabelEncoder()\n",
        "df['node-caps'] = labelencoder_X_node_caps.fit_transform(df['node-caps'])\n",
        "labelencoder_X_deg_malig = LabelEncoder()\n",
        "df['deg-malig'] = labelencoder_X_deg_malig.fit_transform(df['deg-malig'])\n",
        "labelencoder_X_breast = LabelEncoder()\n",
        "df['breast'] = labelencoder_X_breast.fit_transform(df['breast'])\n",
        "labelencoder_X_breast_quad = LabelEncoder()\n",
        "df['breast-quad'] = labelencoder_X_breast_quad.fit_transform(df['breast-quad'])\n",
        "labelencoder_X_irradiat = LabelEncoder()\n",
        "df['irradiat'] = labelencoder_X_irradiat.fit_transform(df['irradiat'])\n",
        "labelencoder_X_class = LabelEncoder()\n",
        "df['Class'] = labelencoder_X_class.fit_transform(df['Class'])"
      ],
      "metadata": {
        "id": "aaLMQpebVdYY"
      },
      "execution_count": null,
      "outputs": []
    },
    {
      "cell_type": "code",
      "source": [
        "def clean_dataset(df):\n",
        "    assert isinstance(df, pd.DataFrame), \"df needs to be a pd.DataFrame\"\n",
        "    df.dropna(inplace=True)\n",
        "    indices_to_keep = ~df.isin([np.nan, np.inf, -np.inf]).any(1)\n",
        "    return df[indices_to_keep].astype(np.float64)"
      ],
      "metadata": {
        "id": "KrV9qN4oVuaT"
      },
      "execution_count": null,
      "outputs": []
    },
    {
      "cell_type": "code",
      "source": [
        "df = clean_dataset(df)"
      ],
      "metadata": {
        "id": "OrAGp0WlVvRb"
      },
      "execution_count": null,
      "outputs": []
    },
    {
      "cell_type": "code",
      "source": [
        "X = data.iloc[:, 0:9].values\n",
        "y = data['Class']\n",
        "X_train, X_test, y_train, y_test = train_test_split(X, y,test_size = 0.3 ,random_state=0)"
      ],
      "metadata": {
        "id": "Nwf9RO3EVYW5"
      },
      "execution_count": null,
      "outputs": []
    },
    {
      "cell_type": "code",
      "source": [
        "# evaluate the model\n",
        "#model = GradientBoostingClassifier()\n",
        "#cv = RepeatedStratifiedKFold(n_splits=10, n_repeats=3, random_state=1)\n",
        "#n_scores = cross_val_score(model, X, y, scoring='accuracy', cv=cv, n_jobs=-1, error_score='raise')\n",
        "#print('Accuracy: %.3f (%.3f)' % (mean(n_scores), std(n_scores)))\n",
        "# fit the model on the whole dataset\n",
        "model = GradientBoostingClassifier()\n",
        "model.fit(X_train, y_train)\n",
        "# make a single prediction\n",
        "#row = [[2.56999479, -0.13019997, 3.16075093, -4.35936352, -1.61271951, -1.39352057, -2.48924933, -1.93094078, 3.26130366, 2.05692145]]\n",
        "#yhat = model.predict(row)\n",
        "#print('Prediction: %d' % yhat[0])"
      ],
      "metadata": {
        "id": "rzAcoOMZVS9S"
      },
      "execution_count": null,
      "outputs": []
    },
    {
      "cell_type": "code",
      "source": [
        "y_pred = model.predict(X_test)"
      ],
      "metadata": {
        "id": "6P5BRdcrEaH_"
      },
      "execution_count": null,
      "outputs": []
    },
    {
      "cell_type": "code",
      "source": [
        "accuracy_score(y_test, y_pred)"
      ],
      "metadata": {
        "id": "ysxuMe2UEb-9"
      },
      "execution_count": null,
      "outputs": []
    },
    {
      "cell_type": "code",
      "source": [
        "cm = confusion_matrix(y_test, y_pred)\n",
        "tn, fp, fn, tp = confusion_matrix(y_test, y_pred).ravel()\n",
        "Sp = tn / (tn+fp)\n",
        "Sn = tp/(tp + fn)"
      ],
      "metadata": {
        "id": "wHFAdrYMEeNd"
      },
      "execution_count": null,
      "outputs": []
    },
    {
      "cell_type": "code",
      "source": [
        "print(cm)\n",
        "print(Sp)\n",
        "print(Sn)"
      ],
      "metadata": {
        "id": "AjDR7khmEn2l"
      },
      "execution_count": null,
      "outputs": []
    }
  ]
}