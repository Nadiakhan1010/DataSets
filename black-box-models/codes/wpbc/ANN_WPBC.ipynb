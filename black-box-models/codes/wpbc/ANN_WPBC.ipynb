{
  "nbformat": 4,
  "nbformat_minor": 0,
  "metadata": {
    "colab": {
      "name": "ANN-WPBC.ipynb",
      "provenance": []
    },
    "kernelspec": {
      "name": "python3",
      "display_name": "Python 3"
    }
  },
  "cells": [
    {
      "cell_type": "code",
      "metadata": {
        "id": "yQzi1-XKVtW6"
      },
      "source": [
        "# Importing libraries\n",
        "import pandas as pd\n",
        "import numpy as np\n",
        "import matplotlib.pyplot as plt\n",
        "import seaborn as sns"
      ],
      "execution_count": null,
      "outputs": []
    },
    {
      "cell_type": "code",
      "metadata": {
        "id": "nqchebtNWIuE"
      },
      "source": [
        "data = pd.read_csv('https://raw.githubusercontent.com/mhmmd-nauman/DataSets/master/black-box-models/CP-Nets/wpbc/original%20ds/wpbc%20-%20complete.csv')\n",
        "\n",
        "#del data['Unnamed: 32']"
      ],
      "execution_count": null,
      "outputs": []
    },
    {
      "cell_type": "code",
      "metadata": {
        "colab": {
          "base_uri": "https://localhost:8080/"
        },
        "id": "yiChM644lIC7",
        "outputId": "a03ad2d0-c7af-469d-d0c0-041256363b52"
      },
      "source": [
        "index = data.index\n",
        "number_of_rows = len(index)\n",
        "print(number_of_rows)"
      ],
      "execution_count": null,
      "outputs": [
        {
          "output_type": "stream",
          "name": "stdout",
          "text": [
            "194\n"
          ]
        }
      ]
    },
    {
      "cell_type": "code",
      "metadata": {
        "colab": {
          "base_uri": "https://localhost:8080/",
          "height": 314
        },
        "id": "RcX1pCTR2FN-",
        "outputId": "429f8b7b-7eda-49fc-983c-7a0cb1a1d88d"
      },
      "source": [
        "data.head()"
      ],
      "execution_count": null,
      "outputs": [
        {
          "output_type": "execute_result",
          "data": {
            "text/plain": [
              "  Outcome  Time  Mean Radius  Mean Texture  Mean Perimeter  Mean Area  \\\n",
              "0       N    31        18.02         27.60          117.50     1013.0   \n",
              "1       N    61        17.99         10.38          122.80     1001.0   \n",
              "2       N   116        21.37         17.44          137.50     1373.0   \n",
              "3       N   123        11.42         20.38           77.58      386.1   \n",
              "4       R    27        20.29         14.34          135.10     1297.0   \n",
              "\n",
              "   Mean Smoothness  Mean Compactness  Mean Concavity  Mean Concave Points  \\\n",
              "0          0.09489            0.1036          0.1086              0.07055   \n",
              "1          0.11840            0.2776          0.3001              0.14710   \n",
              "2          0.08836            0.1189          0.1255              0.08180   \n",
              "3          0.14250            0.2839          0.2414              0.10520   \n",
              "4          0.10030            0.1328          0.1980              0.10430   \n",
              "\n",
              "   ...  Worst Perimeter  Worst Area  Worst Smoothness  Worst Compactness  \\\n",
              "0  ...           139.70      1436.0            0.1195             0.1926   \n",
              "1  ...           184.60      2019.0            0.1622             0.6656   \n",
              "2  ...           159.10      1949.0            0.1188             0.3449   \n",
              "3  ...            98.87       567.7            0.2098             0.8663   \n",
              "4  ...           152.20      1575.0            0.1374             0.2050   \n",
              "\n",
              "   Worst Concavity  Worst Concave Points  Worst Symmetry  \\\n",
              "0           0.3140                0.1170          0.2677   \n",
              "1           0.7119                0.2654          0.4601   \n",
              "2           0.3414                0.2032          0.4334   \n",
              "3           0.6869                0.2575          0.6638   \n",
              "4           0.4000                0.1625          0.2364   \n",
              "\n",
              "   Worst Fractal Dimension  Tumor size  Lymph node status  \n",
              "0                  0.08113         5.0                  5  \n",
              "1                  0.11890         3.0                  2  \n",
              "2                  0.09067         2.5                  0  \n",
              "3                  0.17300         2.0                  0  \n",
              "4                  0.07678         3.5                  0  \n",
              "\n",
              "[5 rows x 34 columns]"
            ],
            "text/html": [
              "\n",
              "  <div id=\"df-ca2b8d56-71c1-4fd0-a462-69ccf34b1498\">\n",
              "    <div class=\"colab-df-container\">\n",
              "      <div>\n",
              "<style scoped>\n",
              "    .dataframe tbody tr th:only-of-type {\n",
              "        vertical-align: middle;\n",
              "    }\n",
              "\n",
              "    .dataframe tbody tr th {\n",
              "        vertical-align: top;\n",
              "    }\n",
              "\n",
              "    .dataframe thead th {\n",
              "        text-align: right;\n",
              "    }\n",
              "</style>\n",
              "<table border=\"1\" class=\"dataframe\">\n",
              "  <thead>\n",
              "    <tr style=\"text-align: right;\">\n",
              "      <th></th>\n",
              "      <th>Outcome</th>\n",
              "      <th>Time</th>\n",
              "      <th>Mean Radius</th>\n",
              "      <th>Mean Texture</th>\n",
              "      <th>Mean Perimeter</th>\n",
              "      <th>Mean Area</th>\n",
              "      <th>Mean Smoothness</th>\n",
              "      <th>Mean Compactness</th>\n",
              "      <th>Mean Concavity</th>\n",
              "      <th>Mean Concave Points</th>\n",
              "      <th>...</th>\n",
              "      <th>Worst Perimeter</th>\n",
              "      <th>Worst Area</th>\n",
              "      <th>Worst Smoothness</th>\n",
              "      <th>Worst Compactness</th>\n",
              "      <th>Worst Concavity</th>\n",
              "      <th>Worst Concave Points</th>\n",
              "      <th>Worst Symmetry</th>\n",
              "      <th>Worst Fractal Dimension</th>\n",
              "      <th>Tumor size</th>\n",
              "      <th>Lymph node status</th>\n",
              "    </tr>\n",
              "  </thead>\n",
              "  <tbody>\n",
              "    <tr>\n",
              "      <th>0</th>\n",
              "      <td>N</td>\n",
              "      <td>31</td>\n",
              "      <td>18.02</td>\n",
              "      <td>27.60</td>\n",
              "      <td>117.50</td>\n",
              "      <td>1013.0</td>\n",
              "      <td>0.09489</td>\n",
              "      <td>0.1036</td>\n",
              "      <td>0.1086</td>\n",
              "      <td>0.07055</td>\n",
              "      <td>...</td>\n",
              "      <td>139.70</td>\n",
              "      <td>1436.0</td>\n",
              "      <td>0.1195</td>\n",
              "      <td>0.1926</td>\n",
              "      <td>0.3140</td>\n",
              "      <td>0.1170</td>\n",
              "      <td>0.2677</td>\n",
              "      <td>0.08113</td>\n",
              "      <td>5.0</td>\n",
              "      <td>5</td>\n",
              "    </tr>\n",
              "    <tr>\n",
              "      <th>1</th>\n",
              "      <td>N</td>\n",
              "      <td>61</td>\n",
              "      <td>17.99</td>\n",
              "      <td>10.38</td>\n",
              "      <td>122.80</td>\n",
              "      <td>1001.0</td>\n",
              "      <td>0.11840</td>\n",
              "      <td>0.2776</td>\n",
              "      <td>0.3001</td>\n",
              "      <td>0.14710</td>\n",
              "      <td>...</td>\n",
              "      <td>184.60</td>\n",
              "      <td>2019.0</td>\n",
              "      <td>0.1622</td>\n",
              "      <td>0.6656</td>\n",
              "      <td>0.7119</td>\n",
              "      <td>0.2654</td>\n",
              "      <td>0.4601</td>\n",
              "      <td>0.11890</td>\n",
              "      <td>3.0</td>\n",
              "      <td>2</td>\n",
              "    </tr>\n",
              "    <tr>\n",
              "      <th>2</th>\n",
              "      <td>N</td>\n",
              "      <td>116</td>\n",
              "      <td>21.37</td>\n",
              "      <td>17.44</td>\n",
              "      <td>137.50</td>\n",
              "      <td>1373.0</td>\n",
              "      <td>0.08836</td>\n",
              "      <td>0.1189</td>\n",
              "      <td>0.1255</td>\n",
              "      <td>0.08180</td>\n",
              "      <td>...</td>\n",
              "      <td>159.10</td>\n",
              "      <td>1949.0</td>\n",
              "      <td>0.1188</td>\n",
              "      <td>0.3449</td>\n",
              "      <td>0.3414</td>\n",
              "      <td>0.2032</td>\n",
              "      <td>0.4334</td>\n",
              "      <td>0.09067</td>\n",
              "      <td>2.5</td>\n",
              "      <td>0</td>\n",
              "    </tr>\n",
              "    <tr>\n",
              "      <th>3</th>\n",
              "      <td>N</td>\n",
              "      <td>123</td>\n",
              "      <td>11.42</td>\n",
              "      <td>20.38</td>\n",
              "      <td>77.58</td>\n",
              "      <td>386.1</td>\n",
              "      <td>0.14250</td>\n",
              "      <td>0.2839</td>\n",
              "      <td>0.2414</td>\n",
              "      <td>0.10520</td>\n",
              "      <td>...</td>\n",
              "      <td>98.87</td>\n",
              "      <td>567.7</td>\n",
              "      <td>0.2098</td>\n",
              "      <td>0.8663</td>\n",
              "      <td>0.6869</td>\n",
              "      <td>0.2575</td>\n",
              "      <td>0.6638</td>\n",
              "      <td>0.17300</td>\n",
              "      <td>2.0</td>\n",
              "      <td>0</td>\n",
              "    </tr>\n",
              "    <tr>\n",
              "      <th>4</th>\n",
              "      <td>R</td>\n",
              "      <td>27</td>\n",
              "      <td>20.29</td>\n",
              "      <td>14.34</td>\n",
              "      <td>135.10</td>\n",
              "      <td>1297.0</td>\n",
              "      <td>0.10030</td>\n",
              "      <td>0.1328</td>\n",
              "      <td>0.1980</td>\n",
              "      <td>0.10430</td>\n",
              "      <td>...</td>\n",
              "      <td>152.20</td>\n",
              "      <td>1575.0</td>\n",
              "      <td>0.1374</td>\n",
              "      <td>0.2050</td>\n",
              "      <td>0.4000</td>\n",
              "      <td>0.1625</td>\n",
              "      <td>0.2364</td>\n",
              "      <td>0.07678</td>\n",
              "      <td>3.5</td>\n",
              "      <td>0</td>\n",
              "    </tr>\n",
              "  </tbody>\n",
              "</table>\n",
              "<p>5 rows × 34 columns</p>\n",
              "</div>\n",
              "      <button class=\"colab-df-convert\" onclick=\"convertToInteractive('df-ca2b8d56-71c1-4fd0-a462-69ccf34b1498')\"\n",
              "              title=\"Convert this dataframe to an interactive table.\"\n",
              "              style=\"display:none;\">\n",
              "        \n",
              "  <svg xmlns=\"http://www.w3.org/2000/svg\" height=\"24px\"viewBox=\"0 0 24 24\"\n",
              "       width=\"24px\">\n",
              "    <path d=\"M0 0h24v24H0V0z\" fill=\"none\"/>\n",
              "    <path d=\"M18.56 5.44l.94 2.06.94-2.06 2.06-.94-2.06-.94-.94-2.06-.94 2.06-2.06.94zm-11 1L8.5 8.5l.94-2.06 2.06-.94-2.06-.94L8.5 2.5l-.94 2.06-2.06.94zm10 10l.94 2.06.94-2.06 2.06-.94-2.06-.94-.94-2.06-.94 2.06-2.06.94z\"/><path d=\"M17.41 7.96l-1.37-1.37c-.4-.4-.92-.59-1.43-.59-.52 0-1.04.2-1.43.59L10.3 9.45l-7.72 7.72c-.78.78-.78 2.05 0 2.83L4 21.41c.39.39.9.59 1.41.59.51 0 1.02-.2 1.41-.59l7.78-7.78 2.81-2.81c.8-.78.8-2.07 0-2.86zM5.41 20L4 18.59l7.72-7.72 1.47 1.35L5.41 20z\"/>\n",
              "  </svg>\n",
              "      </button>\n",
              "      \n",
              "  <style>\n",
              "    .colab-df-container {\n",
              "      display:flex;\n",
              "      flex-wrap:wrap;\n",
              "      gap: 12px;\n",
              "    }\n",
              "\n",
              "    .colab-df-convert {\n",
              "      background-color: #E8F0FE;\n",
              "      border: none;\n",
              "      border-radius: 50%;\n",
              "      cursor: pointer;\n",
              "      display: none;\n",
              "      fill: #1967D2;\n",
              "      height: 32px;\n",
              "      padding: 0 0 0 0;\n",
              "      width: 32px;\n",
              "    }\n",
              "\n",
              "    .colab-df-convert:hover {\n",
              "      background-color: #E2EBFA;\n",
              "      box-shadow: 0px 1px 2px rgba(60, 64, 67, 0.3), 0px 1px 3px 1px rgba(60, 64, 67, 0.15);\n",
              "      fill: #174EA6;\n",
              "    }\n",
              "\n",
              "    [theme=dark] .colab-df-convert {\n",
              "      background-color: #3B4455;\n",
              "      fill: #D2E3FC;\n",
              "    }\n",
              "\n",
              "    [theme=dark] .colab-df-convert:hover {\n",
              "      background-color: #434B5C;\n",
              "      box-shadow: 0px 1px 3px 1px rgba(0, 0, 0, 0.15);\n",
              "      filter: drop-shadow(0px 1px 2px rgba(0, 0, 0, 0.3));\n",
              "      fill: #FFFFFF;\n",
              "    }\n",
              "  </style>\n",
              "\n",
              "      <script>\n",
              "        const buttonEl =\n",
              "          document.querySelector('#df-ca2b8d56-71c1-4fd0-a462-69ccf34b1498 button.colab-df-convert');\n",
              "        buttonEl.style.display =\n",
              "          google.colab.kernel.accessAllowed ? 'block' : 'none';\n",
              "\n",
              "        async function convertToInteractive(key) {\n",
              "          const element = document.querySelector('#df-ca2b8d56-71c1-4fd0-a462-69ccf34b1498');\n",
              "          const dataTable =\n",
              "            await google.colab.kernel.invokeFunction('convertToInteractive',\n",
              "                                                     [key], {});\n",
              "          if (!dataTable) return;\n",
              "\n",
              "          const docLinkHtml = 'Like what you see? Visit the ' +\n",
              "            '<a target=\"_blank\" href=https://colab.research.google.com/notebooks/data_table.ipynb>data table notebook</a>'\n",
              "            + ' to learn more about interactive tables.';\n",
              "          element.innerHTML = '';\n",
              "          dataTable['output_type'] = 'display_data';\n",
              "          await google.colab.output.renderOutput(dataTable, element);\n",
              "          const docLink = document.createElement('div');\n",
              "          docLink.innerHTML = docLinkHtml;\n",
              "          element.appendChild(docLink);\n",
              "        }\n",
              "      </script>\n",
              "    </div>\n",
              "  </div>\n",
              "  "
            ]
          },
          "metadata": {},
          "execution_count": 4
        }
      ]
    },
    {
      "cell_type": "code",
      "metadata": {
        "id": "nuDLJSUajE2k"
      },
      "source": [
        "# Encoding categorical data\n",
        "from sklearn.preprocessing import LabelEncoder\n",
        "labelencoder_X_1 = LabelEncoder()\n",
        "y = labelencoder_X_1.fit_transform(data['Outcome'])"
      ],
      "execution_count": null,
      "outputs": []
    },
    {
      "cell_type": "code",
      "metadata": {
        "id": "-RCelo5FhSfk"
      },
      "source": [
        "X = data.iloc[:, 1:34].values"
      ],
      "execution_count": null,
      "outputs": []
    },
    {
      "cell_type": "code",
      "metadata": {
        "colab": {
          "base_uri": "https://localhost:8080/"
        },
        "id": "Zq_br4F9lmfy",
        "outputId": "0bf01a61-4c96-43f0-f8d8-ae977ee34e62"
      },
      "source": [
        "X"
      ],
      "execution_count": null,
      "outputs": [
        {
          "output_type": "execute_result",
          "data": {
            "text/plain": [
              "array([[3.100e+01, 1.802e+01, 2.760e+01, ..., 8.113e-02, 5.000e+00,\n",
              "        5.000e+00],\n",
              "       [6.100e+01, 1.799e+01, 1.038e+01, ..., 1.189e-01, 3.000e+00,\n",
              "        2.000e+00],\n",
              "       [1.160e+02, 2.137e+01, 1.744e+01, ..., 9.067e-02, 2.500e+00,\n",
              "        0.000e+00],\n",
              "       ...,\n",
              "       [8.000e+00, 1.544e+01, 3.118e+01, ..., 8.024e-02, 1.500e+00,\n",
              "        0.000e+00],\n",
              "       [1.200e+01, 1.717e+01, 2.919e+01, ..., 6.033e-02, 3.700e+00,\n",
              "        0.000e+00],\n",
              "       [6.000e+00, 1.670e+01, 2.813e+01, ..., 8.036e-02, 3.500e+00,\n",
              "        0.000e+00]])"
            ]
          },
          "metadata": {},
          "execution_count": 7
        }
      ]
    },
    {
      "cell_type": "code",
      "metadata": {
        "colab": {
          "base_uri": "https://localhost:8080/"
        },
        "id": "dpJg9iIyjJ7t",
        "outputId": "078d5e9a-2f7a-45e1-85d6-887f164d0a07"
      },
      "source": [
        "y"
      ],
      "execution_count": null,
      "outputs": [
        {
          "output_type": "execute_result",
          "data": {
            "text/plain": [
              "array([0, 0, 0, 0, 1, 1, 1, 0, 0, 0, 0, 0, 1, 0, 1, 0, 1, 0, 0, 0, 0, 0,\n",
              "       0, 0, 0, 0, 0, 0, 0, 0, 0, 0, 1, 0, 0, 1, 0, 1, 1, 0, 1, 1, 0, 0,\n",
              "       1, 0, 1, 0, 1, 0, 0, 0, 0, 0, 1, 0, 0, 1, 0, 0, 1, 0, 0, 0, 0, 1,\n",
              "       0, 1, 0, 0, 0, 0, 0, 1, 0, 0, 0, 0, 0, 1, 0, 0, 0, 0, 0, 1, 0, 0,\n",
              "       0, 0, 0, 0, 0, 0, 0, 0, 0, 0, 0, 0, 0, 0, 1, 0, 0, 0, 1, 1, 0, 1,\n",
              "       0, 1, 0, 0, 0, 0, 0, 1, 0, 0, 0, 0, 1, 0, 0, 1, 1, 0, 1, 1, 0, 0,\n",
              "       1, 0, 0, 0, 0, 0, 0, 0, 1, 0, 1, 0, 1, 0, 0, 1, 0, 1, 0, 0, 1, 0,\n",
              "       1, 0, 1, 0, 1, 0, 0, 0, 0, 0, 0, 0, 0, 0, 0, 0, 0, 0, 0, 1, 1, 0,\n",
              "       0, 0, 0, 0, 0, 0, 0, 0, 0, 0, 0, 0, 0, 0, 0, 0, 0, 0])"
            ]
          },
          "metadata": {},
          "execution_count": 8
        }
      ]
    },
    {
      "cell_type": "code",
      "metadata": {
        "id": "_gPm5Q8SWwX0"
      },
      "source": [
        "# Splitting the dataset into the Training set and Test set\n",
        "from sklearn.model_selection import train_test_split\n",
        "X_train, X_test, y_train, y_test = train_test_split(X, y, test_size = 0.3, random_state = 0)\n",
        "\n",
        "#Feature Scaling\n",
        "from sklearn.preprocessing import StandardScaler\n",
        "sc = StandardScaler()\n",
        "X_train = sc.fit_transform(X_train)\n",
        "X_test = sc.transform(X_test)"
      ],
      "execution_count": null,
      "outputs": []
    },
    {
      "cell_type": "code",
      "metadata": {
        "colab": {
          "base_uri": "https://localhost:8080/"
        },
        "id": "ld8VOn8y2BjW",
        "outputId": "549fbe8d-b653-4944-c1cc-5c65ad1099b2"
      },
      "source": [
        "y"
      ],
      "execution_count": null,
      "outputs": [
        {
          "output_type": "execute_result",
          "data": {
            "text/plain": [
              "array([0, 0, 0, 0, 1, 1, 1, 0, 0, 0, 0, 0, 1, 0, 1, 0, 1, 0, 0, 0, 0, 0,\n",
              "       0, 0, 0, 0, 0, 0, 0, 0, 0, 0, 1, 0, 0, 1, 0, 1, 1, 0, 1, 1, 0, 0,\n",
              "       1, 0, 1, 0, 1, 0, 0, 0, 0, 0, 1, 0, 0, 1, 0, 0, 1, 0, 0, 0, 0, 1,\n",
              "       0, 1, 0, 0, 0, 0, 0, 1, 0, 0, 0, 0, 0, 1, 0, 0, 0, 0, 0, 1, 0, 0,\n",
              "       0, 0, 0, 0, 0, 0, 0, 0, 0, 0, 0, 0, 0, 0, 1, 0, 0, 0, 1, 1, 0, 1,\n",
              "       0, 1, 0, 0, 0, 0, 0, 1, 0, 0, 0, 0, 1, 0, 0, 1, 1, 0, 1, 1, 0, 0,\n",
              "       1, 0, 0, 0, 0, 0, 0, 0, 1, 0, 1, 0, 1, 0, 0, 1, 0, 1, 0, 0, 1, 0,\n",
              "       1, 0, 1, 0, 1, 0, 0, 0, 0, 0, 0, 0, 0, 0, 0, 0, 0, 0, 0, 1, 1, 0,\n",
              "       0, 0, 0, 0, 0, 0, 0, 0, 0, 0, 0, 0, 0, 0, 0, 0, 0, 0])"
            ]
          },
          "metadata": {},
          "execution_count": 10
        }
      ]
    },
    {
      "cell_type": "code",
      "metadata": {
        "id": "d_lLRvusW1as"
      },
      "source": [
        "import keras\n",
        "from keras.models import Sequential\n",
        "from keras.layers import Dense, Dropout"
      ],
      "execution_count": null,
      "outputs": []
    },
    {
      "cell_type": "code",
      "metadata": {
        "id": "D1xJy1nPl-zi"
      },
      "source": [
        "def create_baseline(x_size, y_size):\n",
        "    # create model\n",
        "    model = Sequential()\n",
        "    model.add(Dense(36, input_dim=x_size, kernel_initializer='normal', activation='relu'))\n",
        "    model.add(Dense(x_size,  activation='relu'))\n",
        "    model.add(Dense(1, activation='sigmoid'))\n",
        "    # Compile model. We use the the logarithmic loss function, and the Adam gradient optimizer. mean_squared_error\n",
        "    model.compile(loss='mean_squared_error', optimizer='adam', metrics=['accuracy'])\n",
        "    return model"
      ],
      "execution_count": null,
      "outputs": []
    },
    {
      "cell_type": "code",
      "metadata": {
        "id": "ufmg2UZpW6nK"
      },
      "source": [
        "# Initialising the ANN\n",
        "#classifier = Sequential()\n",
        "model = create_baseline(X.shape[1], 1)"
      ],
      "execution_count": null,
      "outputs": []
    },
    {
      "cell_type": "code",
      "metadata": {
        "id": "v0jXV3v7XCLq"
      },
      "source": [
        "# Adding the input layer and the first hidden layer\n",
        "#classifier.add(Dense(3, activation='relu', input_dim=5))\n",
        "# Adding dropout to prevent overfitting\n",
        "#classifier.add(Dropout(p=0.1))"
      ],
      "execution_count": null,
      "outputs": []
    },
    {
      "cell_type": "code",
      "metadata": {
        "id": "JQ24zMOpYZz1"
      },
      "source": [
        "# Adding the output layer\n",
        "#classifier.add(Dense(1, activation='sigmoid'))"
      ],
      "execution_count": null,
      "outputs": []
    },
    {
      "cell_type": "code",
      "metadata": {
        "id": "ylKNSU3YYsQr"
      },
      "source": [
        "# Compiling the ANN\n",
        "#classifier.compile(optimizer='adam', loss='binary_crossentropy', metrics=['accuracy'])"
      ],
      "execution_count": null,
      "outputs": []
    },
    {
      "cell_type": "code",
      "metadata": {
        "colab": {
          "base_uri": "https://localhost:8080/"
        },
        "id": "H7MTQuNCYzXE",
        "outputId": "a3988334-3b6d-40e7-d01e-0367e6b06a0b"
      },
      "source": [
        "# Fitting the ANN to the Training set\n",
        "#classifier.fit(X_train, y_train, batch_size=10, epochs=50)\n",
        "# Long scroll ahead but worth\n",
        "# The batch size and number of epochs have been set using trial and error. Still looking for more efficient ways. Open to suggestions.\n",
        "model.fit(X_train, y_train,\n",
        "    batch_size=20,\n",
        "    epochs=150,\n",
        "    #shuffle=True,\n",
        "    verbose=0 # Change it to 2, if wished to observe execution\n",
        "    #validation_data=(kc_x_valid, kc_y_valid)\n",
        "    ) "
      ],
      "execution_count": null,
      "outputs": [
        {
          "output_type": "execute_result",
          "data": {
            "text/plain": [
              "<keras.callbacks.History at 0x7ff1bc8a6f90>"
            ]
          },
          "metadata": {},
          "execution_count": 17
        }
      ]
    },
    {
      "cell_type": "code",
      "metadata": {
        "id": "a-0fp-c6ZKgF"
      },
      "source": [
        "# Predicting the Test set results\n",
        "#y_pred = classifier.predict(X_test)\n",
        "y_pred = model.predict(X_test)\n",
        "y_pred = (y_pred > 0.5)"
      ],
      "execution_count": null,
      "outputs": []
    },
    {
      "cell_type": "code",
      "metadata": {
        "colab": {
          "base_uri": "https://localhost:8080/"
        },
        "id": "dipfx6xBdJ11",
        "outputId": "b5809020-4f99-442a-ed38-0e0e44b446aa"
      },
      "source": [
        "#score = classifier.evaluate(X_test,y_test)\n",
        "score = model.evaluate(X_test,y_test)\n",
        "print(score)"
      ],
      "execution_count": null,
      "outputs": [
        {
          "output_type": "stream",
          "name": "stdout",
          "text": [
            "2/2 [==============================] - 0s 13ms/step - loss: 0.1922 - accuracy: 0.7797\n",
            "[0.19215203821659088, 0.7796609997749329]\n"
          ]
        }
      ]
    },
    {
      "cell_type": "code",
      "metadata": {
        "id": "shO-wZzDZSFK"
      },
      "source": [
        "# Making the Confusion Matrix\n",
        "from sklearn.metrics import confusion_matrix\n",
        "cm = confusion_matrix(y_test, y_pred)\n",
        "tn, fp, fn, tp = confusion_matrix(y_test, y_pred).ravel()\n",
        "Sp = tn / (tn+fp)\n",
        "Sn = tp/(tp + fn)"
      ],
      "execution_count": null,
      "outputs": []
    },
    {
      "cell_type": "code",
      "metadata": {
        "colab": {
          "base_uri": "https://localhost:8080/"
        },
        "id": "ZcWKpCORZYjb",
        "outputId": "0cfc6081-e858-4950-b5fa-3623fa555b00"
      },
      "source": [
        "print(cm)\n",
        "print(Sp)\n",
        "print(Sn)"
      ],
      "execution_count": null,
      "outputs": [
        {
          "output_type": "stream",
          "name": "stdout",
          "text": [
            "[[43  3]\n",
            " [10  3]]\n",
            "0.9347826086956522\n",
            "0.23076923076923078\n"
          ]
        }
      ]
    },
    {
      "cell_type": "code",
      "metadata": {
        "colab": {
          "base_uri": "https://localhost:8080/"
        },
        "id": "9SvilMPIioMa",
        "outputId": "3ed6847e-a832-4282-952a-b2d158ca0912"
      },
      "source": [
        "from sklearn.metrics import cohen_kappa_score\n",
        "cohen_score = cohen_kappa_score(y_test, y_pred)\n",
        "print(cohen_score)"
      ],
      "execution_count": null,
      "outputs": [
        {
          "output_type": "stream",
          "name": "stdout",
          "text": [
            "0.20518134715025904\n"
          ]
        }
      ]
    }
  ]
}