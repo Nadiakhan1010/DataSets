{
  "nbformat": 4,
  "nbformat_minor": 0,
  "metadata": {
    "colab": {
      "name": "KNN-WPBC.ipynb",
      "provenance": []
    },
    "kernelspec": {
      "name": "python3",
      "display_name": "Python 3"
    }
  },
  "cells": [
    {
      "cell_type": "code",
      "metadata": {
        "id": "lMojyoKj2ILa"
      },
      "source": [
        "# performing linear algebra \n",
        "import numpy as np\n",
        "\n",
        "# data processing \n",
        "import pandas as pd\n",
        "\n",
        "# visualisation \n",
        "import matplotlib.pyplot as plt"
      ],
      "execution_count": null,
      "outputs": []
    },
    {
      "cell_type": "code",
      "metadata": {
        "colab": {
          "base_uri": "https://localhost:8080/"
        },
        "id": "O0x0m2fF2ieb",
        "outputId": "7cbf68e4-df6e-4494-ce1c-2a858073a7c5"
      },
      "source": [
        "df = pd.read_csv(\"https://raw.githubusercontent.com/mhmmd-nauman/DataSets/master/black-box-models/CP-Nets/wpbc/original%20ds/wpbc%20-%20complete.csv\")\n",
        "\n",
        "\n",
        "print(df.head)"
      ],
      "execution_count": null,
      "outputs": [
        {
          "output_type": "stream",
          "name": "stdout",
          "text": [
            "<bound method NDFrame.head of     Outcome  Time  Mean Radius  Mean Texture  Mean Perimeter  Mean Area  \\\n",
            "0         N    31        18.02         27.60          117.50     1013.0   \n",
            "1         N    61        17.99         10.38          122.80     1001.0   \n",
            "2         N   116        21.37         17.44          137.50     1373.0   \n",
            "3         N   123        11.42         20.38           77.58      386.1   \n",
            "4         R    27        20.29         14.34          135.10     1297.0   \n",
            "..      ...   ...          ...           ...             ...        ...   \n",
            "189       N     3        14.72         25.26           99.28      657.5   \n",
            "190       N    10        22.52         21.92          146.90     1597.0   \n",
            "191       N     8        15.44         31.18          101.00      740.4   \n",
            "192       N    12        17.17         29.19          110.00      915.3   \n",
            "193       N     6        16.70         28.13          110.30      885.4   \n",
            "\n",
            "     Mean Smoothness  Mean Compactness  Mean Concavity  Mean Concave Points  \\\n",
            "0            0.09489           0.10360         0.10860              0.07055   \n",
            "1            0.11840           0.27760         0.30010              0.14710   \n",
            "2            0.08836           0.11890         0.12550              0.08180   \n",
            "3            0.14250           0.28390         0.24140              0.10520   \n",
            "4            0.10030           0.13280         0.19800              0.10430   \n",
            "..               ...               ...             ...                  ...   \n",
            "189          0.11740           0.21120         0.17290              0.09465   \n",
            "190          0.07592           0.09162         0.06862              0.06367   \n",
            "191          0.09399           0.10620         0.13750              0.06500   \n",
            "192          0.08952           0.06655         0.06583              0.05068   \n",
            "193          0.08896           0.11310         0.10120              0.04989   \n",
            "\n",
            "     ...  Worst Perimeter  Worst Area  Worst Smoothness  Worst Compactness  \\\n",
            "0    ...           139.70      1436.0           0.11950             0.1926   \n",
            "1    ...           184.60      2019.0           0.16220             0.6656   \n",
            "2    ...           159.10      1949.0           0.11880             0.3449   \n",
            "3    ...            98.87       567.7           0.20980             0.8663   \n",
            "4    ...           152.20      1575.0           0.13740             0.2050   \n",
            "..   ...              ...         ...               ...                ...   \n",
            "189  ...           111.60       814.8           0.14640             0.5352   \n",
            "190  ...           162.10      1902.0           0.08191             0.1319   \n",
            "191  ...           112.60       929.0           0.12720             0.2362   \n",
            "192  ...           132.50      1295.0           0.12610             0.1572   \n",
            "193  ...           128.80      1213.0           0.13300             0.2808   \n",
            "\n",
            "     Worst Concavity  Worst Concave Points  Worst Symmetry  \\\n",
            "0             0.3140               0.11700          0.2677   \n",
            "1             0.7119               0.26540          0.4601   \n",
            "2             0.3414               0.20320          0.4334   \n",
            "3             0.6869               0.25750          0.6638   \n",
            "4             0.4000               0.16250          0.2364   \n",
            "..               ...                   ...             ...   \n",
            "189           0.5655               0.19740          0.3778   \n",
            "190           0.1056               0.09378          0.2061   \n",
            "191           0.2975               0.12860          0.2914   \n",
            "192           0.2141               0.09520          0.3362   \n",
            "193           0.3455               0.13170          0.3035   \n",
            "\n",
            "     Worst Fractal Dimension  Tumor size  Lymph node status  \n",
            "0                    0.08113         5.0                  5  \n",
            "1                    0.11890         3.0                  2  \n",
            "2                    0.09067         2.5                  0  \n",
            "3                    0.17300         2.0                  0  \n",
            "4                    0.07678         3.5                  0  \n",
            "..                       ...         ...                ...  \n",
            "189                  0.11320         1.7                 21  \n",
            "190                  0.05788         6.0                  2  \n",
            "191                  0.08024         1.5                  0  \n",
            "192                  0.06033         3.7                  0  \n",
            "193                  0.08036         3.5                  0  \n",
            "\n",
            "[194 rows x 34 columns]>\n"
          ]
        }
      ]
    },
    {
      "cell_type": "code",
      "metadata": {
        "colab": {
          "base_uri": "https://localhost:8080/",
          "height": 428
        },
        "id": "Ph5jUriF2_Dw",
        "outputId": "77327313-9e9f-4542-9e1c-6c8879d8ed94"
      },
      "source": [
        "df.describe()"
      ],
      "execution_count": null,
      "outputs": [
        {
          "output_type": "execute_result",
          "data": {
            "text/plain": [
              "             Time  Mean Radius  Mean Texture  Mean Perimeter    Mean Area  \\\n",
              "count  194.000000   194.000000    194.000000      194.000000   194.000000   \n",
              "mean    46.938144    17.402320     22.300979      114.781495   969.092268   \n",
              "std     34.523646     3.171672      4.335292       21.430694   353.159959   \n",
              "min      1.000000    10.950000     10.380000       71.900000   361.600000   \n",
              "25%     14.250000    15.052500     19.342500       98.160000   702.525000   \n",
              "50%     39.500000    17.290000     21.795000      113.700000   929.100000   \n",
              "75%     73.000000    19.580000     24.782500      129.650000  1193.500000   \n",
              "max    125.000000    27.220000     39.280000      182.100000  2250.000000   \n",
              "\n",
              "       Mean Smoothness  Mean Compactness  Mean Concavity  Mean Concave Points  \\\n",
              "count       194.000000        194.000000      194.000000           194.000000   \n",
              "mean          0.102774          0.142642        0.156309             0.086808   \n",
              "std           0.012607          0.050229        0.070942             0.033962   \n",
              "min           0.074970          0.046050        0.023980             0.020310   \n",
              "25%           0.093900          0.109850        0.106075             0.063760   \n",
              "50%           0.102200          0.131750        0.152050             0.086075   \n",
              "75%           0.111375          0.172200        0.200500             0.103925   \n",
              "max           0.144700          0.311400        0.426800             0.201200   \n",
              "\n",
              "       Mean Symmetry  ...  Worst Perimeter   Worst Area  Worst Smoothness  \\\n",
              "count     194.000000  ...       194.000000   194.000000        194.000000   \n",
              "mean        0.192885  ...       140.136907  1401.756701          0.143921   \n",
              "std         0.027679  ...        28.826843   587.040705          0.022092   \n",
              "min         0.130800  ...        85.100000   508.100000          0.081910   \n",
              "25%         0.174075  ...       117.925000   940.575000          0.129325   \n",
              "50%         0.189350  ...       136.500000  1295.000000          0.141750   \n",
              "75%         0.209550  ...       159.875000  1694.250000          0.154450   \n",
              "max         0.304000  ...       232.200000  3903.000000          0.222600   \n",
              "\n",
              "       Worst Compactness  Worst Concavity  Worst Concave Points  \\\n",
              "count         194.000000       194.000000            194.000000   \n",
              "mean            0.364567         0.436010              0.178449   \n",
              "std             0.165528         0.174757              0.045529   \n",
              "min             0.051310         0.023980              0.028990   \n",
              "25%             0.247550         0.322150              0.152225   \n",
              "50%             0.350450         0.401150              0.178500   \n",
              "75%             0.423675         0.550175              0.207125   \n",
              "max             1.058000         1.170000              0.290300   \n",
              "\n",
              "       Worst Symmetry  Worst Fractal Dimension  Tumor size  Lymph node status  \n",
              "count      194.000000               194.000000  194.000000         194.000000  \n",
              "mean         0.322251                 0.090777    2.867526           3.211340  \n",
              "std          0.074068                 0.021371    1.950588           5.479276  \n",
              "min          0.156500                 0.055040    0.400000           0.000000  \n",
              "25%          0.275950                 0.076368    1.500000           0.000000  \n",
              "50%          0.310300                 0.086540    2.500000           1.000000  \n",
              "75%          0.358475                 0.101775    3.500000           4.000000  \n",
              "max          0.663800                 0.207500   10.000000          27.000000  \n",
              "\n",
              "[8 rows x 33 columns]"
            ],
            "text/html": [
              "\n",
              "  <div id=\"df-53ab634f-15a2-4fa6-af6f-98d354aadc04\">\n",
              "    <div class=\"colab-df-container\">\n",
              "      <div>\n",
              "<style scoped>\n",
              "    .dataframe tbody tr th:only-of-type {\n",
              "        vertical-align: middle;\n",
              "    }\n",
              "\n",
              "    .dataframe tbody tr th {\n",
              "        vertical-align: top;\n",
              "    }\n",
              "\n",
              "    .dataframe thead th {\n",
              "        text-align: right;\n",
              "    }\n",
              "</style>\n",
              "<table border=\"1\" class=\"dataframe\">\n",
              "  <thead>\n",
              "    <tr style=\"text-align: right;\">\n",
              "      <th></th>\n",
              "      <th>Time</th>\n",
              "      <th>Mean Radius</th>\n",
              "      <th>Mean Texture</th>\n",
              "      <th>Mean Perimeter</th>\n",
              "      <th>Mean Area</th>\n",
              "      <th>Mean Smoothness</th>\n",
              "      <th>Mean Compactness</th>\n",
              "      <th>Mean Concavity</th>\n",
              "      <th>Mean Concave Points</th>\n",
              "      <th>Mean Symmetry</th>\n",
              "      <th>...</th>\n",
              "      <th>Worst Perimeter</th>\n",
              "      <th>Worst Area</th>\n",
              "      <th>Worst Smoothness</th>\n",
              "      <th>Worst Compactness</th>\n",
              "      <th>Worst Concavity</th>\n",
              "      <th>Worst Concave Points</th>\n",
              "      <th>Worst Symmetry</th>\n",
              "      <th>Worst Fractal Dimension</th>\n",
              "      <th>Tumor size</th>\n",
              "      <th>Lymph node status</th>\n",
              "    </tr>\n",
              "  </thead>\n",
              "  <tbody>\n",
              "    <tr>\n",
              "      <th>count</th>\n",
              "      <td>194.000000</td>\n",
              "      <td>194.000000</td>\n",
              "      <td>194.000000</td>\n",
              "      <td>194.000000</td>\n",
              "      <td>194.000000</td>\n",
              "      <td>194.000000</td>\n",
              "      <td>194.000000</td>\n",
              "      <td>194.000000</td>\n",
              "      <td>194.000000</td>\n",
              "      <td>194.000000</td>\n",
              "      <td>...</td>\n",
              "      <td>194.000000</td>\n",
              "      <td>194.000000</td>\n",
              "      <td>194.000000</td>\n",
              "      <td>194.000000</td>\n",
              "      <td>194.000000</td>\n",
              "      <td>194.000000</td>\n",
              "      <td>194.000000</td>\n",
              "      <td>194.000000</td>\n",
              "      <td>194.000000</td>\n",
              "      <td>194.000000</td>\n",
              "    </tr>\n",
              "    <tr>\n",
              "      <th>mean</th>\n",
              "      <td>46.938144</td>\n",
              "      <td>17.402320</td>\n",
              "      <td>22.300979</td>\n",
              "      <td>114.781495</td>\n",
              "      <td>969.092268</td>\n",
              "      <td>0.102774</td>\n",
              "      <td>0.142642</td>\n",
              "      <td>0.156309</td>\n",
              "      <td>0.086808</td>\n",
              "      <td>0.192885</td>\n",
              "      <td>...</td>\n",
              "      <td>140.136907</td>\n",
              "      <td>1401.756701</td>\n",
              "      <td>0.143921</td>\n",
              "      <td>0.364567</td>\n",
              "      <td>0.436010</td>\n",
              "      <td>0.178449</td>\n",
              "      <td>0.322251</td>\n",
              "      <td>0.090777</td>\n",
              "      <td>2.867526</td>\n",
              "      <td>3.211340</td>\n",
              "    </tr>\n",
              "    <tr>\n",
              "      <th>std</th>\n",
              "      <td>34.523646</td>\n",
              "      <td>3.171672</td>\n",
              "      <td>4.335292</td>\n",
              "      <td>21.430694</td>\n",
              "      <td>353.159959</td>\n",
              "      <td>0.012607</td>\n",
              "      <td>0.050229</td>\n",
              "      <td>0.070942</td>\n",
              "      <td>0.033962</td>\n",
              "      <td>0.027679</td>\n",
              "      <td>...</td>\n",
              "      <td>28.826843</td>\n",
              "      <td>587.040705</td>\n",
              "      <td>0.022092</td>\n",
              "      <td>0.165528</td>\n",
              "      <td>0.174757</td>\n",
              "      <td>0.045529</td>\n",
              "      <td>0.074068</td>\n",
              "      <td>0.021371</td>\n",
              "      <td>1.950588</td>\n",
              "      <td>5.479276</td>\n",
              "    </tr>\n",
              "    <tr>\n",
              "      <th>min</th>\n",
              "      <td>1.000000</td>\n",
              "      <td>10.950000</td>\n",
              "      <td>10.380000</td>\n",
              "      <td>71.900000</td>\n",
              "      <td>361.600000</td>\n",
              "      <td>0.074970</td>\n",
              "      <td>0.046050</td>\n",
              "      <td>0.023980</td>\n",
              "      <td>0.020310</td>\n",
              "      <td>0.130800</td>\n",
              "      <td>...</td>\n",
              "      <td>85.100000</td>\n",
              "      <td>508.100000</td>\n",
              "      <td>0.081910</td>\n",
              "      <td>0.051310</td>\n",
              "      <td>0.023980</td>\n",
              "      <td>0.028990</td>\n",
              "      <td>0.156500</td>\n",
              "      <td>0.055040</td>\n",
              "      <td>0.400000</td>\n",
              "      <td>0.000000</td>\n",
              "    </tr>\n",
              "    <tr>\n",
              "      <th>25%</th>\n",
              "      <td>14.250000</td>\n",
              "      <td>15.052500</td>\n",
              "      <td>19.342500</td>\n",
              "      <td>98.160000</td>\n",
              "      <td>702.525000</td>\n",
              "      <td>0.093900</td>\n",
              "      <td>0.109850</td>\n",
              "      <td>0.106075</td>\n",
              "      <td>0.063760</td>\n",
              "      <td>0.174075</td>\n",
              "      <td>...</td>\n",
              "      <td>117.925000</td>\n",
              "      <td>940.575000</td>\n",
              "      <td>0.129325</td>\n",
              "      <td>0.247550</td>\n",
              "      <td>0.322150</td>\n",
              "      <td>0.152225</td>\n",
              "      <td>0.275950</td>\n",
              "      <td>0.076368</td>\n",
              "      <td>1.500000</td>\n",
              "      <td>0.000000</td>\n",
              "    </tr>\n",
              "    <tr>\n",
              "      <th>50%</th>\n",
              "      <td>39.500000</td>\n",
              "      <td>17.290000</td>\n",
              "      <td>21.795000</td>\n",
              "      <td>113.700000</td>\n",
              "      <td>929.100000</td>\n",
              "      <td>0.102200</td>\n",
              "      <td>0.131750</td>\n",
              "      <td>0.152050</td>\n",
              "      <td>0.086075</td>\n",
              "      <td>0.189350</td>\n",
              "      <td>...</td>\n",
              "      <td>136.500000</td>\n",
              "      <td>1295.000000</td>\n",
              "      <td>0.141750</td>\n",
              "      <td>0.350450</td>\n",
              "      <td>0.401150</td>\n",
              "      <td>0.178500</td>\n",
              "      <td>0.310300</td>\n",
              "      <td>0.086540</td>\n",
              "      <td>2.500000</td>\n",
              "      <td>1.000000</td>\n",
              "    </tr>\n",
              "    <tr>\n",
              "      <th>75%</th>\n",
              "      <td>73.000000</td>\n",
              "      <td>19.580000</td>\n",
              "      <td>24.782500</td>\n",
              "      <td>129.650000</td>\n",
              "      <td>1193.500000</td>\n",
              "      <td>0.111375</td>\n",
              "      <td>0.172200</td>\n",
              "      <td>0.200500</td>\n",
              "      <td>0.103925</td>\n",
              "      <td>0.209550</td>\n",
              "      <td>...</td>\n",
              "      <td>159.875000</td>\n",
              "      <td>1694.250000</td>\n",
              "      <td>0.154450</td>\n",
              "      <td>0.423675</td>\n",
              "      <td>0.550175</td>\n",
              "      <td>0.207125</td>\n",
              "      <td>0.358475</td>\n",
              "      <td>0.101775</td>\n",
              "      <td>3.500000</td>\n",
              "      <td>4.000000</td>\n",
              "    </tr>\n",
              "    <tr>\n",
              "      <th>max</th>\n",
              "      <td>125.000000</td>\n",
              "      <td>27.220000</td>\n",
              "      <td>39.280000</td>\n",
              "      <td>182.100000</td>\n",
              "      <td>2250.000000</td>\n",
              "      <td>0.144700</td>\n",
              "      <td>0.311400</td>\n",
              "      <td>0.426800</td>\n",
              "      <td>0.201200</td>\n",
              "      <td>0.304000</td>\n",
              "      <td>...</td>\n",
              "      <td>232.200000</td>\n",
              "      <td>3903.000000</td>\n",
              "      <td>0.222600</td>\n",
              "      <td>1.058000</td>\n",
              "      <td>1.170000</td>\n",
              "      <td>0.290300</td>\n",
              "      <td>0.663800</td>\n",
              "      <td>0.207500</td>\n",
              "      <td>10.000000</td>\n",
              "      <td>27.000000</td>\n",
              "    </tr>\n",
              "  </tbody>\n",
              "</table>\n",
              "<p>8 rows × 33 columns</p>\n",
              "</div>\n",
              "      <button class=\"colab-df-convert\" onclick=\"convertToInteractive('df-53ab634f-15a2-4fa6-af6f-98d354aadc04')\"\n",
              "              title=\"Convert this dataframe to an interactive table.\"\n",
              "              style=\"display:none;\">\n",
              "        \n",
              "  <svg xmlns=\"http://www.w3.org/2000/svg\" height=\"24px\"viewBox=\"0 0 24 24\"\n",
              "       width=\"24px\">\n",
              "    <path d=\"M0 0h24v24H0V0z\" fill=\"none\"/>\n",
              "    <path d=\"M18.56 5.44l.94 2.06.94-2.06 2.06-.94-2.06-.94-.94-2.06-.94 2.06-2.06.94zm-11 1L8.5 8.5l.94-2.06 2.06-.94-2.06-.94L8.5 2.5l-.94 2.06-2.06.94zm10 10l.94 2.06.94-2.06 2.06-.94-2.06-.94-.94-2.06-.94 2.06-2.06.94z\"/><path d=\"M17.41 7.96l-1.37-1.37c-.4-.4-.92-.59-1.43-.59-.52 0-1.04.2-1.43.59L10.3 9.45l-7.72 7.72c-.78.78-.78 2.05 0 2.83L4 21.41c.39.39.9.59 1.41.59.51 0 1.02-.2 1.41-.59l7.78-7.78 2.81-2.81c.8-.78.8-2.07 0-2.86zM5.41 20L4 18.59l7.72-7.72 1.47 1.35L5.41 20z\"/>\n",
              "  </svg>\n",
              "      </button>\n",
              "      \n",
              "  <style>\n",
              "    .colab-df-container {\n",
              "      display:flex;\n",
              "      flex-wrap:wrap;\n",
              "      gap: 12px;\n",
              "    }\n",
              "\n",
              "    .colab-df-convert {\n",
              "      background-color: #E8F0FE;\n",
              "      border: none;\n",
              "      border-radius: 50%;\n",
              "      cursor: pointer;\n",
              "      display: none;\n",
              "      fill: #1967D2;\n",
              "      height: 32px;\n",
              "      padding: 0 0 0 0;\n",
              "      width: 32px;\n",
              "    }\n",
              "\n",
              "    .colab-df-convert:hover {\n",
              "      background-color: #E2EBFA;\n",
              "      box-shadow: 0px 1px 2px rgba(60, 64, 67, 0.3), 0px 1px 3px 1px rgba(60, 64, 67, 0.15);\n",
              "      fill: #174EA6;\n",
              "    }\n",
              "\n",
              "    [theme=dark] .colab-df-convert {\n",
              "      background-color: #3B4455;\n",
              "      fill: #D2E3FC;\n",
              "    }\n",
              "\n",
              "    [theme=dark] .colab-df-convert:hover {\n",
              "      background-color: #434B5C;\n",
              "      box-shadow: 0px 1px 3px 1px rgba(0, 0, 0, 0.15);\n",
              "      filter: drop-shadow(0px 1px 2px rgba(0, 0, 0, 0.3));\n",
              "      fill: #FFFFFF;\n",
              "    }\n",
              "  </style>\n",
              "\n",
              "      <script>\n",
              "        const buttonEl =\n",
              "          document.querySelector('#df-53ab634f-15a2-4fa6-af6f-98d354aadc04 button.colab-df-convert');\n",
              "        buttonEl.style.display =\n",
              "          google.colab.kernel.accessAllowed ? 'block' : 'none';\n",
              "\n",
              "        async function convertToInteractive(key) {\n",
              "          const element = document.querySelector('#df-53ab634f-15a2-4fa6-af6f-98d354aadc04');\n",
              "          const dataTable =\n",
              "            await google.colab.kernel.invokeFunction('convertToInteractive',\n",
              "                                                     [key], {});\n",
              "          if (!dataTable) return;\n",
              "\n",
              "          const docLinkHtml = 'Like what you see? Visit the ' +\n",
              "            '<a target=\"_blank\" href=https://colab.research.google.com/notebooks/data_table.ipynb>data table notebook</a>'\n",
              "            + ' to learn more about interactive tables.';\n",
              "          element.innerHTML = '';\n",
              "          dataTable['output_type'] = 'display_data';\n",
              "          await google.colab.output.renderOutput(dataTable, element);\n",
              "          const docLink = document.createElement('div');\n",
              "          docLink.innerHTML = docLinkHtml;\n",
              "          element.appendChild(docLink);\n",
              "        }\n",
              "      </script>\n",
              "    </div>\n",
              "  </div>\n",
              "  "
            ]
          },
          "metadata": {},
          "execution_count": 3
        }
      ]
    },
    {
      "cell_type": "code",
      "metadata": {
        "colab": {
          "base_uri": "https://localhost:8080/",
          "height": 314
        },
        "id": "ZPrlNzkgEWg4",
        "outputId": "914558c8-49ba-4942-8805-3ce7f6c40a07"
      },
      "source": [
        "df.head()"
      ],
      "execution_count": null,
      "outputs": [
        {
          "output_type": "execute_result",
          "data": {
            "text/plain": [
              "  Outcome  Time  Mean Radius  Mean Texture  Mean Perimeter  Mean Area  \\\n",
              "0       N    31        18.02         27.60          117.50     1013.0   \n",
              "1       N    61        17.99         10.38          122.80     1001.0   \n",
              "2       N   116        21.37         17.44          137.50     1373.0   \n",
              "3       N   123        11.42         20.38           77.58      386.1   \n",
              "4       R    27        20.29         14.34          135.10     1297.0   \n",
              "\n",
              "   Mean Smoothness  Mean Compactness  Mean Concavity  Mean Concave Points  \\\n",
              "0          0.09489            0.1036          0.1086              0.07055   \n",
              "1          0.11840            0.2776          0.3001              0.14710   \n",
              "2          0.08836            0.1189          0.1255              0.08180   \n",
              "3          0.14250            0.2839          0.2414              0.10520   \n",
              "4          0.10030            0.1328          0.1980              0.10430   \n",
              "\n",
              "   ...  Worst Perimeter  Worst Area  Worst Smoothness  Worst Compactness  \\\n",
              "0  ...           139.70      1436.0            0.1195             0.1926   \n",
              "1  ...           184.60      2019.0            0.1622             0.6656   \n",
              "2  ...           159.10      1949.0            0.1188             0.3449   \n",
              "3  ...            98.87       567.7            0.2098             0.8663   \n",
              "4  ...           152.20      1575.0            0.1374             0.2050   \n",
              "\n",
              "   Worst Concavity  Worst Concave Points  Worst Symmetry  \\\n",
              "0           0.3140                0.1170          0.2677   \n",
              "1           0.7119                0.2654          0.4601   \n",
              "2           0.3414                0.2032          0.4334   \n",
              "3           0.6869                0.2575          0.6638   \n",
              "4           0.4000                0.1625          0.2364   \n",
              "\n",
              "   Worst Fractal Dimension  Tumor size  Lymph node status  \n",
              "0                  0.08113         5.0                  5  \n",
              "1                  0.11890         3.0                  2  \n",
              "2                  0.09067         2.5                  0  \n",
              "3                  0.17300         2.0                  0  \n",
              "4                  0.07678         3.5                  0  \n",
              "\n",
              "[5 rows x 34 columns]"
            ],
            "text/html": [
              "\n",
              "  <div id=\"df-3933e158-2cdf-40a3-9557-2ec21b0885e0\">\n",
              "    <div class=\"colab-df-container\">\n",
              "      <div>\n",
              "<style scoped>\n",
              "    .dataframe tbody tr th:only-of-type {\n",
              "        vertical-align: middle;\n",
              "    }\n",
              "\n",
              "    .dataframe tbody tr th {\n",
              "        vertical-align: top;\n",
              "    }\n",
              "\n",
              "    .dataframe thead th {\n",
              "        text-align: right;\n",
              "    }\n",
              "</style>\n",
              "<table border=\"1\" class=\"dataframe\">\n",
              "  <thead>\n",
              "    <tr style=\"text-align: right;\">\n",
              "      <th></th>\n",
              "      <th>Outcome</th>\n",
              "      <th>Time</th>\n",
              "      <th>Mean Radius</th>\n",
              "      <th>Mean Texture</th>\n",
              "      <th>Mean Perimeter</th>\n",
              "      <th>Mean Area</th>\n",
              "      <th>Mean Smoothness</th>\n",
              "      <th>Mean Compactness</th>\n",
              "      <th>Mean Concavity</th>\n",
              "      <th>Mean Concave Points</th>\n",
              "      <th>...</th>\n",
              "      <th>Worst Perimeter</th>\n",
              "      <th>Worst Area</th>\n",
              "      <th>Worst Smoothness</th>\n",
              "      <th>Worst Compactness</th>\n",
              "      <th>Worst Concavity</th>\n",
              "      <th>Worst Concave Points</th>\n",
              "      <th>Worst Symmetry</th>\n",
              "      <th>Worst Fractal Dimension</th>\n",
              "      <th>Tumor size</th>\n",
              "      <th>Lymph node status</th>\n",
              "    </tr>\n",
              "  </thead>\n",
              "  <tbody>\n",
              "    <tr>\n",
              "      <th>0</th>\n",
              "      <td>N</td>\n",
              "      <td>31</td>\n",
              "      <td>18.02</td>\n",
              "      <td>27.60</td>\n",
              "      <td>117.50</td>\n",
              "      <td>1013.0</td>\n",
              "      <td>0.09489</td>\n",
              "      <td>0.1036</td>\n",
              "      <td>0.1086</td>\n",
              "      <td>0.07055</td>\n",
              "      <td>...</td>\n",
              "      <td>139.70</td>\n",
              "      <td>1436.0</td>\n",
              "      <td>0.1195</td>\n",
              "      <td>0.1926</td>\n",
              "      <td>0.3140</td>\n",
              "      <td>0.1170</td>\n",
              "      <td>0.2677</td>\n",
              "      <td>0.08113</td>\n",
              "      <td>5.0</td>\n",
              "      <td>5</td>\n",
              "    </tr>\n",
              "    <tr>\n",
              "      <th>1</th>\n",
              "      <td>N</td>\n",
              "      <td>61</td>\n",
              "      <td>17.99</td>\n",
              "      <td>10.38</td>\n",
              "      <td>122.80</td>\n",
              "      <td>1001.0</td>\n",
              "      <td>0.11840</td>\n",
              "      <td>0.2776</td>\n",
              "      <td>0.3001</td>\n",
              "      <td>0.14710</td>\n",
              "      <td>...</td>\n",
              "      <td>184.60</td>\n",
              "      <td>2019.0</td>\n",
              "      <td>0.1622</td>\n",
              "      <td>0.6656</td>\n",
              "      <td>0.7119</td>\n",
              "      <td>0.2654</td>\n",
              "      <td>0.4601</td>\n",
              "      <td>0.11890</td>\n",
              "      <td>3.0</td>\n",
              "      <td>2</td>\n",
              "    </tr>\n",
              "    <tr>\n",
              "      <th>2</th>\n",
              "      <td>N</td>\n",
              "      <td>116</td>\n",
              "      <td>21.37</td>\n",
              "      <td>17.44</td>\n",
              "      <td>137.50</td>\n",
              "      <td>1373.0</td>\n",
              "      <td>0.08836</td>\n",
              "      <td>0.1189</td>\n",
              "      <td>0.1255</td>\n",
              "      <td>0.08180</td>\n",
              "      <td>...</td>\n",
              "      <td>159.10</td>\n",
              "      <td>1949.0</td>\n",
              "      <td>0.1188</td>\n",
              "      <td>0.3449</td>\n",
              "      <td>0.3414</td>\n",
              "      <td>0.2032</td>\n",
              "      <td>0.4334</td>\n",
              "      <td>0.09067</td>\n",
              "      <td>2.5</td>\n",
              "      <td>0</td>\n",
              "    </tr>\n",
              "    <tr>\n",
              "      <th>3</th>\n",
              "      <td>N</td>\n",
              "      <td>123</td>\n",
              "      <td>11.42</td>\n",
              "      <td>20.38</td>\n",
              "      <td>77.58</td>\n",
              "      <td>386.1</td>\n",
              "      <td>0.14250</td>\n",
              "      <td>0.2839</td>\n",
              "      <td>0.2414</td>\n",
              "      <td>0.10520</td>\n",
              "      <td>...</td>\n",
              "      <td>98.87</td>\n",
              "      <td>567.7</td>\n",
              "      <td>0.2098</td>\n",
              "      <td>0.8663</td>\n",
              "      <td>0.6869</td>\n",
              "      <td>0.2575</td>\n",
              "      <td>0.6638</td>\n",
              "      <td>0.17300</td>\n",
              "      <td>2.0</td>\n",
              "      <td>0</td>\n",
              "    </tr>\n",
              "    <tr>\n",
              "      <th>4</th>\n",
              "      <td>R</td>\n",
              "      <td>27</td>\n",
              "      <td>20.29</td>\n",
              "      <td>14.34</td>\n",
              "      <td>135.10</td>\n",
              "      <td>1297.0</td>\n",
              "      <td>0.10030</td>\n",
              "      <td>0.1328</td>\n",
              "      <td>0.1980</td>\n",
              "      <td>0.10430</td>\n",
              "      <td>...</td>\n",
              "      <td>152.20</td>\n",
              "      <td>1575.0</td>\n",
              "      <td>0.1374</td>\n",
              "      <td>0.2050</td>\n",
              "      <td>0.4000</td>\n",
              "      <td>0.1625</td>\n",
              "      <td>0.2364</td>\n",
              "      <td>0.07678</td>\n",
              "      <td>3.5</td>\n",
              "      <td>0</td>\n",
              "    </tr>\n",
              "  </tbody>\n",
              "</table>\n",
              "<p>5 rows × 34 columns</p>\n",
              "</div>\n",
              "      <button class=\"colab-df-convert\" onclick=\"convertToInteractive('df-3933e158-2cdf-40a3-9557-2ec21b0885e0')\"\n",
              "              title=\"Convert this dataframe to an interactive table.\"\n",
              "              style=\"display:none;\">\n",
              "        \n",
              "  <svg xmlns=\"http://www.w3.org/2000/svg\" height=\"24px\"viewBox=\"0 0 24 24\"\n",
              "       width=\"24px\">\n",
              "    <path d=\"M0 0h24v24H0V0z\" fill=\"none\"/>\n",
              "    <path d=\"M18.56 5.44l.94 2.06.94-2.06 2.06-.94-2.06-.94-.94-2.06-.94 2.06-2.06.94zm-11 1L8.5 8.5l.94-2.06 2.06-.94-2.06-.94L8.5 2.5l-.94 2.06-2.06.94zm10 10l.94 2.06.94-2.06 2.06-.94-2.06-.94-.94-2.06-.94 2.06-2.06.94z\"/><path d=\"M17.41 7.96l-1.37-1.37c-.4-.4-.92-.59-1.43-.59-.52 0-1.04.2-1.43.59L10.3 9.45l-7.72 7.72c-.78.78-.78 2.05 0 2.83L4 21.41c.39.39.9.59 1.41.59.51 0 1.02-.2 1.41-.59l7.78-7.78 2.81-2.81c.8-.78.8-2.07 0-2.86zM5.41 20L4 18.59l7.72-7.72 1.47 1.35L5.41 20z\"/>\n",
              "  </svg>\n",
              "      </button>\n",
              "      \n",
              "  <style>\n",
              "    .colab-df-container {\n",
              "      display:flex;\n",
              "      flex-wrap:wrap;\n",
              "      gap: 12px;\n",
              "    }\n",
              "\n",
              "    .colab-df-convert {\n",
              "      background-color: #E8F0FE;\n",
              "      border: none;\n",
              "      border-radius: 50%;\n",
              "      cursor: pointer;\n",
              "      display: none;\n",
              "      fill: #1967D2;\n",
              "      height: 32px;\n",
              "      padding: 0 0 0 0;\n",
              "      width: 32px;\n",
              "    }\n",
              "\n",
              "    .colab-df-convert:hover {\n",
              "      background-color: #E2EBFA;\n",
              "      box-shadow: 0px 1px 2px rgba(60, 64, 67, 0.3), 0px 1px 3px 1px rgba(60, 64, 67, 0.15);\n",
              "      fill: #174EA6;\n",
              "    }\n",
              "\n",
              "    [theme=dark] .colab-df-convert {\n",
              "      background-color: #3B4455;\n",
              "      fill: #D2E3FC;\n",
              "    }\n",
              "\n",
              "    [theme=dark] .colab-df-convert:hover {\n",
              "      background-color: #434B5C;\n",
              "      box-shadow: 0px 1px 3px 1px rgba(0, 0, 0, 0.15);\n",
              "      filter: drop-shadow(0px 1px 2px rgba(0, 0, 0, 0.3));\n",
              "      fill: #FFFFFF;\n",
              "    }\n",
              "  </style>\n",
              "\n",
              "      <script>\n",
              "        const buttonEl =\n",
              "          document.querySelector('#df-3933e158-2cdf-40a3-9557-2ec21b0885e0 button.colab-df-convert');\n",
              "        buttonEl.style.display =\n",
              "          google.colab.kernel.accessAllowed ? 'block' : 'none';\n",
              "\n",
              "        async function convertToInteractive(key) {\n",
              "          const element = document.querySelector('#df-3933e158-2cdf-40a3-9557-2ec21b0885e0');\n",
              "          const dataTable =\n",
              "            await google.colab.kernel.invokeFunction('convertToInteractive',\n",
              "                                                     [key], {});\n",
              "          if (!dataTable) return;\n",
              "\n",
              "          const docLinkHtml = 'Like what you see? Visit the ' +\n",
              "            '<a target=\"_blank\" href=https://colab.research.google.com/notebooks/data_table.ipynb>data table notebook</a>'\n",
              "            + ' to learn more about interactive tables.';\n",
              "          element.innerHTML = '';\n",
              "          dataTable['output_type'] = 'display_data';\n",
              "          await google.colab.output.renderOutput(dataTable, element);\n",
              "          const docLink = document.createElement('div');\n",
              "          docLink.innerHTML = docLinkHtml;\n",
              "          element.appendChild(docLink);\n",
              "        }\n",
              "      </script>\n",
              "    </div>\n",
              "  </div>\n",
              "  "
            ]
          },
          "metadata": {},
          "execution_count": 4
        }
      ]
    },
    {
      "cell_type": "code",
      "metadata": {
        "id": "BHb2Huv23O9U"
      },
      "source": [
        "\n",
        "from sklearn.preprocessing import LabelEncoder\n",
        "labelencoder_X_1 = LabelEncoder()\n",
        "df['Outcome'] = labelencoder_X_1.fit_transform(df['Outcome'])"
      ],
      "execution_count": null,
      "outputs": []
    },
    {
      "cell_type": "code",
      "metadata": {
        "colab": {
          "base_uri": "https://localhost:8080/"
        },
        "id": "H92biJfPGJVf",
        "outputId": "c631f622-d8c7-4a80-a2b9-7cb25306e758"
      },
      "source": [
        "df['Outcome']"
      ],
      "execution_count": null,
      "outputs": [
        {
          "output_type": "execute_result",
          "data": {
            "text/plain": [
              "0      0\n",
              "1      0\n",
              "2      0\n",
              "3      0\n",
              "4      1\n",
              "      ..\n",
              "189    0\n",
              "190    0\n",
              "191    0\n",
              "192    0\n",
              "193    0\n",
              "Name: Outcome, Length: 194, dtype: int64"
            ]
          },
          "metadata": {},
          "execution_count": 6
        }
      ]
    },
    {
      "cell_type": "code",
      "metadata": {
        "id": "0Ifr16P43dYR"
      },
      "source": [
        "#sns.lmplot(x = 'radius_mean', y = 'texture_mean', hue = 'diagnosis', data = df)"
      ],
      "execution_count": null,
      "outputs": []
    },
    {
      "cell_type": "code",
      "metadata": {
        "id": "vXomIWNc3wti"
      },
      "source": [
        "#sns.lmplot(x ='smoothness_mean', y = 'compactness_mean', data = df, hue = 'diagnosis')"
      ],
      "execution_count": null,
      "outputs": []
    },
    {
      "cell_type": "code",
      "metadata": {
        "id": "G2mS1Zgjy3fN"
      },
      "source": [
        "data_df= list(df.columns[1:34]) \n",
        "data_df_main = df.loc[:,data_df]"
      ],
      "execution_count": null,
      "outputs": []
    },
    {
      "cell_type": "code",
      "metadata": {
        "id": "ZE3Tky5839_S"
      },
      "source": [
        "X = data_df_main\n",
        "y = np.array(df['Outcome'])"
      ],
      "execution_count": null,
      "outputs": []
    },
    {
      "cell_type": "code",
      "metadata": {
        "colab": {
          "base_uri": "https://localhost:8080/"
        },
        "id": "fASGZdL0EHqz",
        "outputId": "b6ec82dd-98b1-42e9-a7b8-57efd8db00f2"
      },
      "source": [
        "print(X)"
      ],
      "execution_count": null,
      "outputs": [
        {
          "output_type": "stream",
          "name": "stdout",
          "text": [
            "     Time  Mean Radius  Mean Texture  Mean Perimeter  Mean Area  \\\n",
            "0      31        18.02         27.60          117.50     1013.0   \n",
            "1      61        17.99         10.38          122.80     1001.0   \n",
            "2     116        21.37         17.44          137.50     1373.0   \n",
            "3     123        11.42         20.38           77.58      386.1   \n",
            "4      27        20.29         14.34          135.10     1297.0   \n",
            "..    ...          ...           ...             ...        ...   \n",
            "189     3        14.72         25.26           99.28      657.5   \n",
            "190    10        22.52         21.92          146.90     1597.0   \n",
            "191     8        15.44         31.18          101.00      740.4   \n",
            "192    12        17.17         29.19          110.00      915.3   \n",
            "193     6        16.70         28.13          110.30      885.4   \n",
            "\n",
            "     Mean Smoothness  Mean Compactness  Mean Concavity  Mean Concave Points  \\\n",
            "0            0.09489           0.10360         0.10860              0.07055   \n",
            "1            0.11840           0.27760         0.30010              0.14710   \n",
            "2            0.08836           0.11890         0.12550              0.08180   \n",
            "3            0.14250           0.28390         0.24140              0.10520   \n",
            "4            0.10030           0.13280         0.19800              0.10430   \n",
            "..               ...               ...             ...                  ...   \n",
            "189          0.11740           0.21120         0.17290              0.09465   \n",
            "190          0.07592           0.09162         0.06862              0.06367   \n",
            "191          0.09399           0.10620         0.13750              0.06500   \n",
            "192          0.08952           0.06655         0.06583              0.05068   \n",
            "193          0.08896           0.11310         0.10120              0.04989   \n",
            "\n",
            "     Mean Symmetry  ...  Worst Perimeter  Worst Area  Worst Smoothness  \\\n",
            "0           0.1865  ...           139.70      1436.0           0.11950   \n",
            "1           0.2419  ...           184.60      2019.0           0.16220   \n",
            "2           0.2333  ...           159.10      1949.0           0.11880   \n",
            "3           0.2597  ...            98.87       567.7           0.20980   \n",
            "4           0.1809  ...           152.20      1575.0           0.13740   \n",
            "..             ...  ...              ...         ...               ...   \n",
            "189         0.2079  ...           111.60       814.8           0.14640   \n",
            "190         0.1728  ...           162.10      1902.0           0.08191   \n",
            "191         0.1735  ...           112.60       929.0           0.12720   \n",
            "192         0.1793  ...           132.50      1295.0           0.12610   \n",
            "193         0.1890  ...           128.80      1213.0           0.13300   \n",
            "\n",
            "     Worst Compactness  Worst Concavity  Worst Concave Points  Worst Symmetry  \\\n",
            "0               0.1926           0.3140               0.11700          0.2677   \n",
            "1               0.6656           0.7119               0.26540          0.4601   \n",
            "2               0.3449           0.3414               0.20320          0.4334   \n",
            "3               0.8663           0.6869               0.25750          0.6638   \n",
            "4               0.2050           0.4000               0.16250          0.2364   \n",
            "..                 ...              ...                   ...             ...   \n",
            "189             0.5352           0.5655               0.19740          0.3778   \n",
            "190             0.1319           0.1056               0.09378          0.2061   \n",
            "191             0.2362           0.2975               0.12860          0.2914   \n",
            "192             0.1572           0.2141               0.09520          0.3362   \n",
            "193             0.2808           0.3455               0.13170          0.3035   \n",
            "\n",
            "     Worst Fractal Dimension  Tumor size  Lymph node status  \n",
            "0                    0.08113         5.0                  5  \n",
            "1                    0.11890         3.0                  2  \n",
            "2                    0.09067         2.5                  0  \n",
            "3                    0.17300         2.0                  0  \n",
            "4                    0.07678         3.5                  0  \n",
            "..                       ...         ...                ...  \n",
            "189                  0.11320         1.7                 21  \n",
            "190                  0.05788         6.0                  2  \n",
            "191                  0.08024         1.5                  0  \n",
            "192                  0.06033         3.7                  0  \n",
            "193                  0.08036         3.5                  0  \n",
            "\n",
            "[194 rows x 33 columns]\n"
          ]
        }
      ]
    },
    {
      "cell_type": "code",
      "metadata": {
        "colab": {
          "base_uri": "https://localhost:8080/"
        },
        "id": "7p3hpp5XELXp",
        "outputId": "8c9c314b-c9fb-423f-c777-f71e6669a571"
      },
      "source": [
        "y"
      ],
      "execution_count": null,
      "outputs": [
        {
          "output_type": "execute_result",
          "data": {
            "text/plain": [
              "array([0, 0, 0, 0, 1, 1, 1, 0, 0, 0, 0, 0, 1, 0, 1, 0, 1, 0, 0, 0, 0, 0,\n",
              "       0, 0, 0, 0, 0, 0, 0, 0, 0, 0, 1, 0, 0, 1, 0, 1, 1, 0, 1, 1, 0, 0,\n",
              "       1, 0, 1, 0, 1, 0, 0, 0, 0, 0, 1, 0, 0, 1, 0, 0, 1, 0, 0, 0, 0, 1,\n",
              "       0, 1, 0, 0, 0, 0, 0, 1, 0, 0, 0, 0, 0, 1, 0, 0, 0, 0, 0, 1, 0, 0,\n",
              "       0, 0, 0, 0, 0, 0, 0, 0, 0, 0, 0, 0, 0, 0, 1, 0, 0, 0, 1, 1, 0, 1,\n",
              "       0, 1, 0, 0, 0, 0, 0, 1, 0, 0, 0, 0, 1, 0, 0, 1, 1, 0, 1, 1, 0, 0,\n",
              "       1, 0, 0, 0, 0, 0, 0, 0, 1, 0, 1, 0, 1, 0, 0, 1, 0, 1, 0, 0, 1, 0,\n",
              "       1, 0, 1, 0, 1, 0, 0, 0, 0, 0, 0, 0, 0, 0, 0, 0, 0, 0, 0, 1, 1, 0,\n",
              "       0, 0, 0, 0, 0, 0, 0, 0, 0, 0, 0, 0, 0, 0, 0, 0, 0, 0])"
            ]
          },
          "metadata": {},
          "execution_count": 12
        }
      ]
    },
    {
      "cell_type": "code",
      "metadata": {
        "id": "eVAlPg96B0UZ"
      },
      "source": [
        "from sklearn.model_selection import train_test_split \n",
        "X_train, X_test, y_train, y_test = train_test_split(X, y, test_size = 0.33, random_state = 42)"
      ],
      "execution_count": null,
      "outputs": []
    },
    {
      "cell_type": "code",
      "metadata": {
        "colab": {
          "base_uri": "https://localhost:8080/"
        },
        "id": "Iz_RZTj_B31d",
        "outputId": "cfa10b15-876a-4965-bd3a-326217126b07"
      },
      "source": [
        "from sklearn.neighbors import KNeighborsClassifier\n",
        "knn = KNeighborsClassifier(n_neighbors = 5)\n",
        "knn.fit(X_train, y_train)"
      ],
      "execution_count": null,
      "outputs": [
        {
          "output_type": "execute_result",
          "data": {
            "text/plain": [
              "KNeighborsClassifier()"
            ]
          },
          "metadata": {},
          "execution_count": 14
        }
      ]
    },
    {
      "cell_type": "code",
      "metadata": {
        "colab": {
          "base_uri": "https://localhost:8080/"
        },
        "id": "rwupglpVCIDN",
        "outputId": "867f6c69-fbc9-4af5-95c8-30ff9d9f9265"
      },
      "source": [
        "knn.score(X_test, y_test)"
      ],
      "execution_count": null,
      "outputs": [
        {
          "output_type": "execute_result",
          "data": {
            "text/plain": [
              "0.7230769230769231"
            ]
          },
          "metadata": {},
          "execution_count": 15
        }
      ]
    },
    {
      "cell_type": "code",
      "metadata": {
        "id": "06aZxr0lXpIT"
      },
      "source": [
        "y_pred = knn.predict(X_test)\n",
        "from sklearn.metrics import confusion_matrix\n",
        "cm=confusion_matrix(y_test, y_pred)\n",
        "tn, fp, fn, tp = confusion_matrix(y_test, y_pred).ravel()\n",
        "Sp = tn / (tn+fp)\n",
        "Sn = tp/(tp + fn)"
      ],
      "execution_count": null,
      "outputs": []
    },
    {
      "cell_type": "code",
      "metadata": {
        "colab": {
          "base_uri": "https://localhost:8080/"
        },
        "id": "u6g9aSlUX0zJ",
        "outputId": "1bafceb1-251e-4378-b716-09feb40d727b"
      },
      "source": [
        "print(cm)\n",
        "print(Sp)\n",
        "print(Sn)"
      ],
      "execution_count": null,
      "outputs": [
        {
          "output_type": "stream",
          "name": "stdout",
          "text": [
            "[[46  1]\n",
            " [17  1]]\n",
            "0.9787234042553191\n",
            "0.05555555555555555\n"
          ]
        }
      ]
    },
    {
      "cell_type": "code",
      "metadata": {
        "id": "_86pDg6NchHH"
      },
      "source": [
        "from sklearn.metrics import cohen_kappa_score\n",
        "cohen_score = cohen_kappa_score(y_test, y_pred)"
      ],
      "execution_count": null,
      "outputs": []
    },
    {
      "cell_type": "code",
      "metadata": {
        "colab": {
          "base_uri": "https://localhost:8080/"
        },
        "id": "olrm-i5Rcz5l",
        "outputId": "2e1d359b-ce32-43a3-f07c-a3bed92ff8c4"
      },
      "source": [
        "cohen_score"
      ],
      "execution_count": null,
      "outputs": [
        {
          "output_type": "execute_result",
          "data": {
            "text/plain": [
              "0.04723127035830599"
            ]
          },
          "metadata": {},
          "execution_count": 19
        }
      ]
    },
    {
      "cell_type": "code",
      "metadata": {
        "id": "LRFtcnV4ClcK"
      },
      "source": [
        "neighbors = []\n",
        "cv_scores = []\n",
        "\n",
        "from sklearn.model_selection import cross_val_score\n",
        "# perform 10 fold cross validation \n",
        "for k in range(1, 51, 2):\n",
        "\tneighbors.append(k)\n",
        "\tknn = KNeighborsClassifier(n_neighbors = k)\n",
        "\tscores = cross_val_score(\n",
        "\t\tknn, X_train, y_train, cv = 10, scoring = 'accuracy')\n",
        "\tcv_scores.append(scores.mean())"
      ],
      "execution_count": null,
      "outputs": []
    },
    {
      "cell_type": "code",
      "metadata": {
        "id": "ghg-xpEOHN-y",
        "colab": {
          "base_uri": "https://localhost:8080/",
          "height": 405
        },
        "outputId": "fa232def-8b17-45c8-f738-7157589d2587"
      },
      "source": [
        "MSE = [1-x for x in cv_scores]\n",
        "\n",
        "# determining the best k\n",
        "optimal_k = neighbors[MSE.index(min(MSE))]\n",
        "print('The optimal number of neighbors is % d ' % optimal_k)\n",
        "\n",
        "# plot misclassification error versus k \n",
        "plt.figure(figsize = (10, 6))\n",
        "plt.plot(neighbors, MSE)\n",
        "plt.xlabel('Number of neighbors')\n",
        "plt.ylabel('Misclassification Error')\n",
        "plt.show()"
      ],
      "execution_count": null,
      "outputs": [
        {
          "output_type": "stream",
          "name": "stdout",
          "text": [
            "The optimal number of neighbors is  7 \n"
          ]
        },
        {
          "output_type": "display_data",
          "data": {
            "text/plain": [
              "<Figure size 720x432 with 1 Axes>"
            ],
            "image/png": "[encoded data removed]"
          },
          "metadata": {
            "needs_background": "light"
          }
        }
      ]
    },
    {
      "cell_type": "code",
      "metadata": {
        "id": "7am3z982W4Xj"
      },
      "source": [
        "#knn.fit(X_train, y_train)\n"
      ],
      "execution_count": null,
      "outputs": []
    },
    {
      "cell_type": "code",
      "metadata": {
        "id": "IDJjDQ8RVrGz"
      },
      "source": [
        "#trying f1 score\n",
        "neighbors = []\n",
        "cv_scores = []\n",
        "\n",
        "from sklearn.model_selection import cross_val_score\n",
        "# perform 10 fold cross validation \n",
        "for k in range(1, 51, 2):\n",
        "\tneighbors.append(k)\n",
        "\tknn = KNeighborsClassifier(n_neighbors = k)\n",
        "\tscores = cross_val_score(\n",
        "\t\tknn, X_train, y_train, cv = 10, scoring = 'f1')\n",
        "\tcv_scores.append(scores.mean())"
      ],
      "execution_count": null,
      "outputs": []
    },
    {
      "cell_type": "code",
      "metadata": {
        "colab": {
          "base_uri": "https://localhost:8080/",
          "height": 405
        },
        "id": "An84In4CV8pQ",
        "outputId": "c5c0c2bb-3e43-4c28-92d4-fb4165b33b52"
      },
      "source": [
        "MSE = [1-x for x in cv_scores]\n",
        "\n",
        "# determining the best k\n",
        "optimal_k = neighbors[MSE.index(min(MSE))]\n",
        "print('The optimal number of neighbors is % d ' % optimal_k)\n",
        "\n",
        "# plot misclassification error versus k \n",
        "plt.figure(figsize = (10, 6))\n",
        "plt.plot(neighbors, MSE)\n",
        "plt.xlabel('Number of neighbors')\n",
        "plt.ylabel('Misclassification Error')\n",
        "plt.show()"
      ],
      "execution_count": null,
      "outputs": [
        {
          "output_type": "stream",
          "name": "stdout",
          "text": [
            "The optimal number of neighbors is  1 \n"
          ]
        },
        {
          "output_type": "display_data",
          "data": {
            "text/plain": [
              "<Figure size 720x432 with 1 Axes>"
            ],
            "image/png": "[encoded data removed]"
          },
          "metadata": {
            "needs_background": "light"
          }
        }
      ]
    }
  ]
}