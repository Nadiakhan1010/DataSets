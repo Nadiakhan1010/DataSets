{
  "nbformat": 4,
  "nbformat_minor": 0,
  "metadata": {
    "colab": {
      "name": "RF-WPBC.ipynb",
      "provenance": []
    },
    "kernelspec": {
      "name": "python3",
      "display_name": "Python 3"
    }
  },
  "cells": [
    {
      "cell_type": "code",
      "metadata": {
        "id": "Cs2VJyHyy9Mx"
      },
      "source": [
        "import numpy as np # linear algebra\n",
        "import pandas as pd # data processing, CSV file I/O (e.g. pd.read_csv), data manipulation as in SQL\n",
        "import matplotlib.pyplot as plt # this is used for the plot the graph \n",
        "import seaborn as sns # used for plot interactive graph. I like it most for plot\n",
        "%matplotlib inline\n",
        "from sklearn.linear_model import LogisticRegression # to apply the Logistic regression\n",
        "from sklearn.model_selection import train_test_split # to split the data into two parts\n",
        "#from sklearn.cross_validation import KFold # use for cross validation\n",
        "from sklearn.model_selection import GridSearchCV# for tuning parameter\n",
        "from sklearn.ensemble import RandomForestClassifier # for random forest classifier\n",
        "from sklearn.naive_bayes import GaussianNB\n",
        "from sklearn.neighbors import KNeighborsClassifier\n",
        "from sklearn.tree import DecisionTreeClassifier\n",
        "from sklearn import svm # for Support Vector Machine\n",
        "from sklearn import metrics #"
      ],
      "execution_count": null,
      "outputs": []
    },
    {
      "cell_type": "code",
      "metadata": {
        "colab": {
          "base_uri": "https://localhost:8080/"
        },
        "id": "lQsyZb9kzVVm",
        "outputId": "f55ba919-2093-415b-c786-ed8dc8e89f53"
      },
      "source": [
        "df = pd.read_csv(\"https://raw.githubusercontent.com/mhmmd-nauman/DataSets/master/black-box-models/CP-Nets/wpbc/original%20ds/wpbc%20-%20complete.csv\")\n",
        "\n",
        "print(df.head)"
      ],
      "execution_count": null,
      "outputs": [
        {
          "output_type": "stream",
          "name": "stdout",
          "text": [
            "<bound method NDFrame.head of     Outcome  Time  Mean Radius  Mean Texture  Mean Perimeter  Mean Area  \\\n",
            "0         N    31        18.02         27.60          117.50     1013.0   \n",
            "1         N    61        17.99         10.38          122.80     1001.0   \n",
            "2         N   116        21.37         17.44          137.50     1373.0   \n",
            "3         N   123        11.42         20.38           77.58      386.1   \n",
            "4         R    27        20.29         14.34          135.10     1297.0   \n",
            "..      ...   ...          ...           ...             ...        ...   \n",
            "189       N     3        14.72         25.26           99.28      657.5   \n",
            "190       N    10        22.52         21.92          146.90     1597.0   \n",
            "191       N     8        15.44         31.18          101.00      740.4   \n",
            "192       N    12        17.17         29.19          110.00      915.3   \n",
            "193       N     6        16.70         28.13          110.30      885.4   \n",
            "\n",
            "     Mean Smoothness  Mean Compactness  Mean Concavity  Mean Concave Points  \\\n",
            "0            0.09489           0.10360         0.10860              0.07055   \n",
            "1            0.11840           0.27760         0.30010              0.14710   \n",
            "2            0.08836           0.11890         0.12550              0.08180   \n",
            "3            0.14250           0.28390         0.24140              0.10520   \n",
            "4            0.10030           0.13280         0.19800              0.10430   \n",
            "..               ...               ...             ...                  ...   \n",
            "189          0.11740           0.21120         0.17290              0.09465   \n",
            "190          0.07592           0.09162         0.06862              0.06367   \n",
            "191          0.09399           0.10620         0.13750              0.06500   \n",
            "192          0.08952           0.06655         0.06583              0.05068   \n",
            "193          0.08896           0.11310         0.10120              0.04989   \n",
            "\n",
            "     ...  Worst Perimeter  Worst Area  Worst Smoothness  Worst Compactness  \\\n",
            "0    ...           139.70      1436.0           0.11950             0.1926   \n",
            "1    ...           184.60      2019.0           0.16220             0.6656   \n",
            "2    ...           159.10      1949.0           0.11880             0.3449   \n",
            "3    ...            98.87       567.7           0.20980             0.8663   \n",
            "4    ...           152.20      1575.0           0.13740             0.2050   \n",
            "..   ...              ...         ...               ...                ...   \n",
            "189  ...           111.60       814.8           0.14640             0.5352   \n",
            "190  ...           162.10      1902.0           0.08191             0.1319   \n",
            "191  ...           112.60       929.0           0.12720             0.2362   \n",
            "192  ...           132.50      1295.0           0.12610             0.1572   \n",
            "193  ...           128.80      1213.0           0.13300             0.2808   \n",
            "\n",
            "     Worst Concavity  Worst Concave Points  Worst Symmetry  \\\n",
            "0             0.3140               0.11700          0.2677   \n",
            "1             0.7119               0.26540          0.4601   \n",
            "2             0.3414               0.20320          0.4334   \n",
            "3             0.6869               0.25750          0.6638   \n",
            "4             0.4000               0.16250          0.2364   \n",
            "..               ...                   ...             ...   \n",
            "189           0.5655               0.19740          0.3778   \n",
            "190           0.1056               0.09378          0.2061   \n",
            "191           0.2975               0.12860          0.2914   \n",
            "192           0.2141               0.09520          0.3362   \n",
            "193           0.3455               0.13170          0.3035   \n",
            "\n",
            "     Worst Fractal Dimension  Tumor size  Lymph node status  \n",
            "0                    0.08113         5.0                  5  \n",
            "1                    0.11890         3.0                  2  \n",
            "2                    0.09067         2.5                  0  \n",
            "3                    0.17300         2.0                  0  \n",
            "4                    0.07678         3.5                  0  \n",
            "..                       ...         ...                ...  \n",
            "189                  0.11320         1.7                 21  \n",
            "190                  0.05788         6.0                  2  \n",
            "191                  0.08024         1.5                  0  \n",
            "192                  0.06033         3.7                  0  \n",
            "193                  0.08036         3.5                  0  \n",
            "\n",
            "[194 rows x 34 columns]>\n"
          ]
        }
      ]
    },
    {
      "cell_type": "code",
      "metadata": {
        "id": "eBdAbI6Dzr3F"
      },
      "source": [
        "#df=df[df.columns[:-1]]"
      ],
      "execution_count": null,
      "outputs": []
    },
    {
      "cell_type": "code",
      "metadata": {
        "colab": {
          "base_uri": "https://localhost:8080/",
          "height": 314
        },
        "id": "YV5H89aF0E5X",
        "outputId": "4ff461cf-c971-4c9c-b87d-3cb206cbcf92"
      },
      "source": [
        "df.head()"
      ],
      "execution_count": null,
      "outputs": [
        {
          "output_type": "execute_result",
          "data": {
            "text/plain": [
              "  Outcome  Time  Mean Radius  Mean Texture  Mean Perimeter  Mean Area  \\\n",
              "0       N    31        18.02         27.60          117.50     1013.0   \n",
              "1       N    61        17.99         10.38          122.80     1001.0   \n",
              "2       N   116        21.37         17.44          137.50     1373.0   \n",
              "3       N   123        11.42         20.38           77.58      386.1   \n",
              "4       R    27        20.29         14.34          135.10     1297.0   \n",
              "\n",
              "   Mean Smoothness  Mean Compactness  Mean Concavity  Mean Concave Points  \\\n",
              "0          0.09489            0.1036          0.1086              0.07055   \n",
              "1          0.11840            0.2776          0.3001              0.14710   \n",
              "2          0.08836            0.1189          0.1255              0.08180   \n",
              "3          0.14250            0.2839          0.2414              0.10520   \n",
              "4          0.10030            0.1328          0.1980              0.10430   \n",
              "\n",
              "   ...  Worst Perimeter  Worst Area  Worst Smoothness  Worst Compactness  \\\n",
              "0  ...           139.70      1436.0            0.1195             0.1926   \n",
              "1  ...           184.60      2019.0            0.1622             0.6656   \n",
              "2  ...           159.10      1949.0            0.1188             0.3449   \n",
              "3  ...            98.87       567.7            0.2098             0.8663   \n",
              "4  ...           152.20      1575.0            0.1374             0.2050   \n",
              "\n",
              "   Worst Concavity  Worst Concave Points  Worst Symmetry  \\\n",
              "0           0.3140                0.1170          0.2677   \n",
              "1           0.7119                0.2654          0.4601   \n",
              "2           0.3414                0.2032          0.4334   \n",
              "3           0.6869                0.2575          0.6638   \n",
              "4           0.4000                0.1625          0.2364   \n",
              "\n",
              "   Worst Fractal Dimension  Tumor size  Lymph node status  \n",
              "0                  0.08113         5.0                  5  \n",
              "1                  0.11890         3.0                  2  \n",
              "2                  0.09067         2.5                  0  \n",
              "3                  0.17300         2.0                  0  \n",
              "4                  0.07678         3.5                  0  \n",
              "\n",
              "[5 rows x 34 columns]"
            ],
            "text/html": [
              "\n",
              "  <div id=\"df-6d054e7a-faeb-48b3-a2c2-6a6213170e98\">\n",
              "    <div class=\"colab-df-container\">\n",
              "      <div>\n",
              "<style scoped>\n",
              "    .dataframe tbody tr th:only-of-type {\n",
              "        vertical-align: middle;\n",
              "    }\n",
              "\n",
              "    .dataframe tbody tr th {\n",
              "        vertical-align: top;\n",
              "    }\n",
              "\n",
              "    .dataframe thead th {\n",
              "        text-align: right;\n",
              "    }\n",
              "</style>\n",
              "<table border=\"1\" class=\"dataframe\">\n",
              "  <thead>\n",
              "    <tr style=\"text-align: right;\">\n",
              "      <th></th>\n",
              "      <th>Outcome</th>\n",
              "      <th>Time</th>\n",
              "      <th>Mean Radius</th>\n",
              "      <th>Mean Texture</th>\n",
              "      <th>Mean Perimeter</th>\n",
              "      <th>Mean Area</th>\n",
              "      <th>Mean Smoothness</th>\n",
              "      <th>Mean Compactness</th>\n",
              "      <th>Mean Concavity</th>\n",
              "      <th>Mean Concave Points</th>\n",
              "      <th>...</th>\n",
              "      <th>Worst Perimeter</th>\n",
              "      <th>Worst Area</th>\n",
              "      <th>Worst Smoothness</th>\n",
              "      <th>Worst Compactness</th>\n",
              "      <th>Worst Concavity</th>\n",
              "      <th>Worst Concave Points</th>\n",
              "      <th>Worst Symmetry</th>\n",
              "      <th>Worst Fractal Dimension</th>\n",
              "      <th>Tumor size</th>\n",
              "      <th>Lymph node status</th>\n",
              "    </tr>\n",
              "  </thead>\n",
              "  <tbody>\n",
              "    <tr>\n",
              "      <th>0</th>\n",
              "      <td>N</td>\n",
              "      <td>31</td>\n",
              "      <td>18.02</td>\n",
              "      <td>27.60</td>\n",
              "      <td>117.50</td>\n",
              "      <td>1013.0</td>\n",
              "      <td>0.09489</td>\n",
              "      <td>0.1036</td>\n",
              "      <td>0.1086</td>\n",
              "      <td>0.07055</td>\n",
              "      <td>...</td>\n",
              "      <td>139.70</td>\n",
              "      <td>1436.0</td>\n",
              "      <td>0.1195</td>\n",
              "      <td>0.1926</td>\n",
              "      <td>0.3140</td>\n",
              "      <td>0.1170</td>\n",
              "      <td>0.2677</td>\n",
              "      <td>0.08113</td>\n",
              "      <td>5.0</td>\n",
              "      <td>5</td>\n",
              "    </tr>\n",
              "    <tr>\n",
              "      <th>1</th>\n",
              "      <td>N</td>\n",
              "      <td>61</td>\n",
              "      <td>17.99</td>\n",
              "      <td>10.38</td>\n",
              "      <td>122.80</td>\n",
              "      <td>1001.0</td>\n",
              "      <td>0.11840</td>\n",
              "      <td>0.2776</td>\n",
              "      <td>0.3001</td>\n",
              "      <td>0.14710</td>\n",
              "      <td>...</td>\n",
              "      <td>184.60</td>\n",
              "      <td>2019.0</td>\n",
              "      <td>0.1622</td>\n",
              "      <td>0.6656</td>\n",
              "      <td>0.7119</td>\n",
              "      <td>0.2654</td>\n",
              "      <td>0.4601</td>\n",
              "      <td>0.11890</td>\n",
              "      <td>3.0</td>\n",
              "      <td>2</td>\n",
              "    </tr>\n",
              "    <tr>\n",
              "      <th>2</th>\n",
              "      <td>N</td>\n",
              "      <td>116</td>\n",
              "      <td>21.37</td>\n",
              "      <td>17.44</td>\n",
              "      <td>137.50</td>\n",
              "      <td>1373.0</td>\n",
              "      <td>0.08836</td>\n",
              "      <td>0.1189</td>\n",
              "      <td>0.1255</td>\n",
              "      <td>0.08180</td>\n",
              "      <td>...</td>\n",
              "      <td>159.10</td>\n",
              "      <td>1949.0</td>\n",
              "      <td>0.1188</td>\n",
              "      <td>0.3449</td>\n",
              "      <td>0.3414</td>\n",
              "      <td>0.2032</td>\n",
              "      <td>0.4334</td>\n",
              "      <td>0.09067</td>\n",
              "      <td>2.5</td>\n",
              "      <td>0</td>\n",
              "    </tr>\n",
              "    <tr>\n",
              "      <th>3</th>\n",
              "      <td>N</td>\n",
              "      <td>123</td>\n",
              "      <td>11.42</td>\n",
              "      <td>20.38</td>\n",
              "      <td>77.58</td>\n",
              "      <td>386.1</td>\n",
              "      <td>0.14250</td>\n",
              "      <td>0.2839</td>\n",
              "      <td>0.2414</td>\n",
              "      <td>0.10520</td>\n",
              "      <td>...</td>\n",
              "      <td>98.87</td>\n",
              "      <td>567.7</td>\n",
              "      <td>0.2098</td>\n",
              "      <td>0.8663</td>\n",
              "      <td>0.6869</td>\n",
              "      <td>0.2575</td>\n",
              "      <td>0.6638</td>\n",
              "      <td>0.17300</td>\n",
              "      <td>2.0</td>\n",
              "      <td>0</td>\n",
              "    </tr>\n",
              "    <tr>\n",
              "      <th>4</th>\n",
              "      <td>R</td>\n",
              "      <td>27</td>\n",
              "      <td>20.29</td>\n",
              "      <td>14.34</td>\n",
              "      <td>135.10</td>\n",
              "      <td>1297.0</td>\n",
              "      <td>0.10030</td>\n",
              "      <td>0.1328</td>\n",
              "      <td>0.1980</td>\n",
              "      <td>0.10430</td>\n",
              "      <td>...</td>\n",
              "      <td>152.20</td>\n",
              "      <td>1575.0</td>\n",
              "      <td>0.1374</td>\n",
              "      <td>0.2050</td>\n",
              "      <td>0.4000</td>\n",
              "      <td>0.1625</td>\n",
              "      <td>0.2364</td>\n",
              "      <td>0.07678</td>\n",
              "      <td>3.5</td>\n",
              "      <td>0</td>\n",
              "    </tr>\n",
              "  </tbody>\n",
              "</table>\n",
              "<p>5 rows × 34 columns</p>\n",
              "</div>\n",
              "      <button class=\"colab-df-convert\" onclick=\"convertToInteractive('df-6d054e7a-faeb-48b3-a2c2-6a6213170e98')\"\n",
              "              title=\"Convert this dataframe to an interactive table.\"\n",
              "              style=\"display:none;\">\n",
              "        \n",
              "  <svg xmlns=\"http://www.w3.org/2000/svg\" height=\"24px\"viewBox=\"0 0 24 24\"\n",
              "       width=\"24px\">\n",
              "    <path d=\"M0 0h24v24H0V0z\" fill=\"none\"/>\n",
              "    <path d=\"M18.56 5.44l.94 2.06.94-2.06 2.06-.94-2.06-.94-.94-2.06-.94 2.06-2.06.94zm-11 1L8.5 8.5l.94-2.06 2.06-.94-2.06-.94L8.5 2.5l-.94 2.06-2.06.94zm10 10l.94 2.06.94-2.06 2.06-.94-2.06-.94-.94-2.06-.94 2.06-2.06.94z\"/><path d=\"M17.41 7.96l-1.37-1.37c-.4-.4-.92-.59-1.43-.59-.52 0-1.04.2-1.43.59L10.3 9.45l-7.72 7.72c-.78.78-.78 2.05 0 2.83L4 21.41c.39.39.9.59 1.41.59.51 0 1.02-.2 1.41-.59l7.78-7.78 2.81-2.81c.8-.78.8-2.07 0-2.86zM5.41 20L4 18.59l7.72-7.72 1.47 1.35L5.41 20z\"/>\n",
              "  </svg>\n",
              "      </button>\n",
              "      \n",
              "  <style>\n",
              "    .colab-df-container {\n",
              "      display:flex;\n",
              "      flex-wrap:wrap;\n",
              "      gap: 12px;\n",
              "    }\n",
              "\n",
              "    .colab-df-convert {\n",
              "      background-color: #E8F0FE;\n",
              "      border: none;\n",
              "      border-radius: 50%;\n",
              "      cursor: pointer;\n",
              "      display: none;\n",
              "      fill: #1967D2;\n",
              "      height: 32px;\n",
              "      padding: 0 0 0 0;\n",
              "      width: 32px;\n",
              "    }\n",
              "\n",
              "    .colab-df-convert:hover {\n",
              "      background-color: #E2EBFA;\n",
              "      box-shadow: 0px 1px 2px rgba(60, 64, 67, 0.3), 0px 1px 3px 1px rgba(60, 64, 67, 0.15);\n",
              "      fill: #174EA6;\n",
              "    }\n",
              "\n",
              "    [theme=dark] .colab-df-convert {\n",
              "      background-color: #3B4455;\n",
              "      fill: #D2E3FC;\n",
              "    }\n",
              "\n",
              "    [theme=dark] .colab-df-convert:hover {\n",
              "      background-color: #434B5C;\n",
              "      box-shadow: 0px 1px 3px 1px rgba(0, 0, 0, 0.15);\n",
              "      filter: drop-shadow(0px 1px 2px rgba(0, 0, 0, 0.3));\n",
              "      fill: #FFFFFF;\n",
              "    }\n",
              "  </style>\n",
              "\n",
              "      <script>\n",
              "        const buttonEl =\n",
              "          document.querySelector('#df-6d054e7a-faeb-48b3-a2c2-6a6213170e98 button.colab-df-convert');\n",
              "        buttonEl.style.display =\n",
              "          google.colab.kernel.accessAllowed ? 'block' : 'none';\n",
              "\n",
              "        async function convertToInteractive(key) {\n",
              "          const element = document.querySelector('#df-6d054e7a-faeb-48b3-a2c2-6a6213170e98');\n",
              "          const dataTable =\n",
              "            await google.colab.kernel.invokeFunction('convertToInteractive',\n",
              "                                                     [key], {});\n",
              "          if (!dataTable) return;\n",
              "\n",
              "          const docLinkHtml = 'Like what you see? Visit the ' +\n",
              "            '<a target=\"_blank\" href=https://colab.research.google.com/notebooks/data_table.ipynb>data table notebook</a>'\n",
              "            + ' to learn more about interactive tables.';\n",
              "          element.innerHTML = '';\n",
              "          dataTable['output_type'] = 'display_data';\n",
              "          await google.colab.output.renderOutput(dataTable, element);\n",
              "          const docLink = document.createElement('div');\n",
              "          docLink.innerHTML = docLinkHtml;\n",
              "          element.appendChild(docLink);\n",
              "        }\n",
              "      </script>\n",
              "    </div>\n",
              "  </div>\n",
              "  "
            ]
          },
          "metadata": {},
          "execution_count": 124
        }
      ]
    },
    {
      "cell_type": "code",
      "metadata": {
        "id": "URIZMK2d0Yd9"
      },
      "source": [
        "from sklearn.preprocessing import LabelEncoder\n",
        "labelencoder_X_1 = LabelEncoder()\n",
        "df['Outcome'] = labelencoder_X_1.fit_transform(df['Outcome'])"
      ],
      "execution_count": null,
      "outputs": []
    },
    {
      "cell_type": "code",
      "metadata": {
        "id": "rX19z96V_hju"
      },
      "source": [
        "def clean_dataset(df):\n",
        "    assert isinstance(df, pd.DataFrame), \"df needs to be a pd.DataFrame\"\n",
        "    df.dropna(inplace=True)\n",
        "    indices_to_keep = ~df.isin([np.nan, np.inf, -np.inf]).any(1)\n",
        "    return df[indices_to_keep].astype(np.float64)"
      ],
      "execution_count": null,
      "outputs": []
    },
    {
      "cell_type": "code",
      "metadata": {
        "id": "nJAl4Ixa_lQi"
      },
      "source": [
        "df = clean_dataset(df)"
      ],
      "execution_count": null,
      "outputs": []
    },
    {
      "cell_type": "code",
      "metadata": {
        "colab": {
          "base_uri": "https://localhost:8080/",
          "height": 351
        },
        "id": "qrhnSlQR0dfV",
        "outputId": "7d4690be-3177-4e0c-8698-8ecb21a39b2a"
      },
      "source": [
        "sns.countplot(df['Outcome'],label=\"Count\")"
      ],
      "execution_count": null,
      "outputs": [
        {
          "output_type": "stream",
          "name": "stderr",
          "text": [
            "/usr/local/lib/python3.7/dist-packages/seaborn/_decorators.py:43: FutureWarning: Pass the following variable as a keyword arg: x. From version 0.12, the only valid positional argument will be `data`, and passing other arguments without an explicit keyword will result in an error or misinterpretation.\n",
            "  FutureWarning\n"
          ]
        },
        {
          "output_type": "execute_result",
          "data": {
            "text/plain": [
              "<matplotlib.axes._subplots.AxesSubplot at 0x7f6ec19bced0>"
            ]
          },
          "metadata": {},
          "execution_count": 128
        },
        {
          "output_type": "display_data",
          "data": {
            "text/plain": [
              "<Figure size 432x288 with 1 Axes>"
            ],
            "image/png": "[encoded data removed]"
          },
          "metadata": {
            "needs_background": "light"
          }
        }
      ]
    },
    {
      "cell_type": "code",
      "metadata": {
        "colab": {
          "base_uri": "https://localhost:8080/"
        },
        "id": "6kChCYho14iw",
        "outputId": "115ab873-8036-49db-c8d9-047411f437c3"
      },
      "source": [
        "df.columns[1:34]"
      ],
      "execution_count": null,
      "outputs": [
        {
          "output_type": "execute_result",
          "data": {
            "text/plain": [
              "Index(['Time', 'Mean Radius', 'Mean Texture', 'Mean Perimeter', 'Mean Area',\n",
              "       'Mean Smoothness', 'Mean Compactness', 'Mean Concavity',\n",
              "       'Mean Concave Points', 'Mean Symmetry', 'Mean Fractal Dimension',\n",
              "       'Radius SE', 'Texture SE', 'Perimeter SE', 'SE Area', 'SE Smoothness',\n",
              "       'SE Compactness', 'SE Concavity', 'SE Concave Points', 'SE Symmetry',\n",
              "       'SE Fractal Dimension', 'Worst Radius', 'Worst Texture',\n",
              "       'Worst Perimeter', 'Worst Area', 'Worst Smoothness',\n",
              "       'Worst Compactness', 'Worst Concavity', 'Worst Concave Points',\n",
              "       'Worst Symmetry', 'Worst Fractal Dimension', 'Tumor size',\n",
              "       'Lymph node status'],\n",
              "      dtype='object')"
            ]
          },
          "metadata": {},
          "execution_count": 129
        }
      ]
    },
    {
      "cell_type": "code",
      "metadata": {
        "id": "T2Yo2nH01T4N"
      },
      "source": [
        "#prediction_var = ['Application Status','SSC','Admission Test','Terminal Degree','Document Verified','Domicile','Gender','Province','English Marks']"
      ],
      "execution_count": null,
      "outputs": []
    },
    {
      "cell_type": "code",
      "metadata": {
        "colab": {
          "base_uri": "https://localhost:8080/"
        },
        "id": "SDSZYLd-0oSd",
        "outputId": "077de90f-8a47-4667-9944-1d20165bcc2b"
      },
      "source": [
        "train, test = train_test_split(df, test_size = 0.3)# in this our main data is splitted into train and test\n",
        "# we can check their dimension\n",
        "print(train.shape)\n",
        "print(test.shape)"
      ],
      "execution_count": null,
      "outputs": [
        {
          "output_type": "stream",
          "name": "stdout",
          "text": [
            "(135, 34)\n",
            "(59, 34)\n"
          ]
        }
      ]
    },
    {
      "cell_type": "code",
      "metadata": {
        "id": "d58llxX02g4l"
      },
      "source": [
        "data_df= list(df.columns[1:34]) \n",
        "data_df_main = df.loc[:,data_df]"
      ],
      "execution_count": null,
      "outputs": []
    },
    {
      "cell_type": "code",
      "metadata": {
        "id": "L0oVpuXT1AMf"
      },
      "source": [
        "train_X = train[df.columns[1:34]]# taking the training data input \n",
        "train_y=train.Outcome # This is output of our training data\n",
        "# same we have to do for test\n",
        "test_X= test[df.columns[1:34]] # taking test data inputs\n",
        "test_y =test.Outcome   #output value of test dat\n",
        "y_test = test_y"
      ],
      "execution_count": null,
      "outputs": []
    },
    {
      "cell_type": "code",
      "metadata": {
        "id": "xc6MUx0x1XBO"
      },
      "source": [
        "model=RandomForestClassifier(n_estimators=100)"
      ],
      "execution_count": null,
      "outputs": []
    },
    {
      "cell_type": "code",
      "metadata": {
        "colab": {
          "base_uri": "https://localhost:8080/"
        },
        "id": "zWD5Cnfe1cd1",
        "outputId": "8e9caa23-dc8f-49af-95ad-cebafc8cef39"
      },
      "source": [
        "model.fit(train_X,train_y)# "
      ],
      "execution_count": null,
      "outputs": [
        {
          "output_type": "execute_result",
          "data": {
            "text/plain": [
              "RandomForestClassifier()"
            ]
          },
          "metadata": {},
          "execution_count": 135
        }
      ]
    },
    {
      "cell_type": "code",
      "metadata": {
        "id": "z8qY-9qV1iDu"
      },
      "source": [
        "y_pred=model.predict(test_X)"
      ],
      "execution_count": null,
      "outputs": []
    },
    {
      "cell_type": "code",
      "metadata": {
        "colab": {
          "base_uri": "https://localhost:8080/"
        },
        "id": "DAand99d1pvw",
        "outputId": "fad8c059-05d0-48f3-8505-3b7d65023e7f"
      },
      "source": [
        "metrics.accuracy_score(y_pred,y_test)"
      ],
      "execution_count": null,
      "outputs": [
        {
          "output_type": "execute_result",
          "data": {
            "text/plain": [
              "0.8305084745762712"
            ]
          },
          "metadata": {},
          "execution_count": 137
        }
      ]
    },
    {
      "cell_type": "code",
      "metadata": {
        "id": "9PK-T0xuHuTX"
      },
      "source": [
        "# Making the Confusion Matrix\n",
        "from sklearn.metrics import confusion_matrix\n",
        "cm = confusion_matrix(test_y, y_pred)\n",
        "tn, fp, fn, tp = confusion_matrix(y_test, y_pred).ravel()\n",
        "Sp = tn / (tn+fp)\n",
        "Sn = tp/(tp + fn)"
      ],
      "execution_count": null,
      "outputs": []
    },
    {
      "cell_type": "code",
      "metadata": {
        "colab": {
          "base_uri": "https://localhost:8080/"
        },
        "id": "1hdVczbOH4lm",
        "outputId": "bd9cbbe0-8712-4fb8-98d5-3c0fa9c75eee"
      },
      "source": [
        "print(cm)\n",
        "print(Sp)\n",
        "print(Sn)"
      ],
      "execution_count": null,
      "outputs": [
        {
          "output_type": "stream",
          "name": "stdout",
          "text": [
            "[[44  0]\n",
            " [10  5]]\n",
            "1.0\n",
            "0.3333333333333333\n"
          ]
        }
      ]
    },
    {
      "cell_type": "code",
      "metadata": {
        "colab": {
          "base_uri": "https://localhost:8080/"
        },
        "id": "f9ZI_hIcOmqN",
        "outputId": "d13a5dd5-1971-4c82-bca8-bed6b041ed78"
      },
      "source": [
        "from sklearn.metrics import cohen_kappa_score\n",
        "cohen_score = cohen_kappa_score(y_test, y_pred)\n",
        "print(cohen_score)"
      ],
      "execution_count": null,
      "outputs": [
        {
          "output_type": "stream",
          "name": "stdout",
          "text": [
            "0.4271844660194175\n"
          ]
        }
      ]
    }
  ]
}