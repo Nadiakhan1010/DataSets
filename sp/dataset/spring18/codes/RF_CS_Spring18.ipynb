{
  "nbformat": 4,
  "nbformat_minor": 0,
  "metadata": {
    "colab": {
      "name": "RF-Spring18.ipynb",
      "provenance": []
    },
    "kernelspec": {
      "name": "python3",
      "display_name": "Python 3"
    }
  },
  "cells": [
    {
      "cell_type": "code",
      "metadata": {
        "id": "Cs2VJyHyy9Mx"
      },
      "source": [
        "import numpy as np # linear algebra\n",
        "import pandas as pd # data processing, CSV file I/O (e.g. pd.read_csv), data manipulation as in SQL\n",
        "import matplotlib.pyplot as plt # this is used for the plot the graph \n",
        "import seaborn as sns # used for plot interactive graph. I like it most for plot\n",
        "%matplotlib inline\n",
        "from sklearn.linear_model import LogisticRegression # to apply the Logistic regression\n",
        "from sklearn.model_selection import train_test_split # to split the data into two parts\n",
        "#from sklearn.cross_validation import KFold # use for cross validation\n",
        "from sklearn.model_selection import GridSearchCV# for tuning parameter\n",
        "from sklearn.ensemble import RandomForestClassifier # for random forest classifier\n",
        "from sklearn.naive_bayes import GaussianNB\n",
        "from sklearn.neighbors import KNeighborsClassifier\n",
        "from sklearn.tree import DecisionTreeClassifier\n",
        "from sklearn import svm # for Support Vector Machine\n",
        "from sklearn import metrics #"
      ],
      "execution_count": null,
      "outputs": []
    },
    {
      "cell_type": "code",
      "metadata": {
        "colab": {
          "base_uri": "https://localhost:8080/"
        },
        "id": "lQsyZb9kzVVm",
        "outputId": "d1b5b085-f094-44ef-db63-7ef071e3f12a"
      },
      "source": [
        "df = pd.read_csv(\"https://raw.githubusercontent.com/mhmmd-nauman/DataSets/master/spring18/department-wise/top15%20features/selected%20features/Computer-science-Department.csv\")\n",
        "\n",
        "print(df.head)"
      ],
      "execution_count": null,
      "outputs": [
        {
          "output_type": "stream",
          "text": [
            "<bound method NDFrame.head of     Application Status    Domicile  ... English Marks Offered\n",
            "0                   No        OPEN  ...             0      No\n",
            "1             Complete  Bahawalpur  ...             0     Yes\n",
            "2                   No  Bahawalpur  ...             0      No\n",
            "3             Complete  Bahawalpur  ...             0      No\n",
            "4                   No  Bahawalpur  ...             0      No\n",
            "..                 ...         ...  ...           ...     ...\n",
            "726           Complete        OPEN  ...             0      No\n",
            "727                 No        OPEN  ...             0      No\n",
            "728           Complete        OPEN  ...             0      No\n",
            "729                 No        OPEN  ...             0      No\n",
            "730           Complete        OPEN  ...             0      No\n",
            "\n",
            "[731 rows x 10 columns]>\n"
          ],
          "name": "stdout"
        }
      ]
    },
    {
      "cell_type": "code",
      "metadata": {
        "id": "eBdAbI6Dzr3F"
      },
      "source": [
        "#df=df[df.columns[:-1]]"
      ],
      "execution_count": null,
      "outputs": []
    },
    {
      "cell_type": "code",
      "metadata": {
        "colab": {
          "base_uri": "https://localhost:8080/",
          "height": 204
        },
        "id": "YV5H89aF0E5X",
        "outputId": "e114055a-b6fc-4de2-ee70-99338463aefe"
      },
      "source": [
        "df.head()"
      ],
      "execution_count": null,
      "outputs": [
        {
          "output_type": "execute_result",
          "data": {
            "text/html": [
              "<div>\n",
              "<style scoped>\n",
              "    .dataframe tbody tr th:only-of-type {\n",
              "        vertical-align: middle;\n",
              "    }\n",
              "\n",
              "    .dataframe tbody tr th {\n",
              "        vertical-align: top;\n",
              "    }\n",
              "\n",
              "    .dataframe thead th {\n",
              "        text-align: right;\n",
              "    }\n",
              "</style>\n",
              "<table border=\"1\" class=\"dataframe\">\n",
              "  <thead>\n",
              "    <tr style=\"text-align: right;\">\n",
              "      <th></th>\n",
              "      <th>Application Status</th>\n",
              "      <th>Domicile</th>\n",
              "      <th>Gender</th>\n",
              "      <th>Province</th>\n",
              "      <th>Admission Test</th>\n",
              "      <th>SSC</th>\n",
              "      <th>Terminal Degree</th>\n",
              "      <th>Document Verified</th>\n",
              "      <th>English Marks</th>\n",
              "      <th>Offered</th>\n",
              "    </tr>\n",
              "  </thead>\n",
              "  <tbody>\n",
              "    <tr>\n",
              "      <th>0</th>\n",
              "      <td>No</td>\n",
              "      <td>OPEN</td>\n",
              "      <td>male</td>\n",
              "      <td>Khyber Pakhtunkhwa</td>\n",
              "      <td>0</td>\n",
              "      <td>637</td>\n",
              "      <td>667</td>\n",
              "      <td>0</td>\n",
              "      <td>0</td>\n",
              "      <td>No</td>\n",
              "    </tr>\n",
              "    <tr>\n",
              "      <th>1</th>\n",
              "      <td>Complete</td>\n",
              "      <td>Bahawalpur</td>\n",
              "      <td>male</td>\n",
              "      <td>Punjab</td>\n",
              "      <td>59</td>\n",
              "      <td>1050</td>\n",
              "      <td>1100</td>\n",
              "      <td>1</td>\n",
              "      <td>0</td>\n",
              "      <td>Yes</td>\n",
              "    </tr>\n",
              "    <tr>\n",
              "      <th>2</th>\n",
              "      <td>No</td>\n",
              "      <td>Bahawalpur</td>\n",
              "      <td>male</td>\n",
              "      <td>Punjab</td>\n",
              "      <td>60</td>\n",
              "      <td>916</td>\n",
              "      <td>825</td>\n",
              "      <td>0</td>\n",
              "      <td>0</td>\n",
              "      <td>No</td>\n",
              "    </tr>\n",
              "    <tr>\n",
              "      <th>3</th>\n",
              "      <td>Complete</td>\n",
              "      <td>Bahawalpur</td>\n",
              "      <td>male</td>\n",
              "      <td>Punjab</td>\n",
              "      <td>59</td>\n",
              "      <td>803</td>\n",
              "      <td>783</td>\n",
              "      <td>0</td>\n",
              "      <td>0</td>\n",
              "      <td>No</td>\n",
              "    </tr>\n",
              "    <tr>\n",
              "      <th>4</th>\n",
              "      <td>No</td>\n",
              "      <td>Bahawalpur</td>\n",
              "      <td>male</td>\n",
              "      <td>Punjab</td>\n",
              "      <td>44</td>\n",
              "      <td>813</td>\n",
              "      <td>1050</td>\n",
              "      <td>0</td>\n",
              "      <td>0</td>\n",
              "      <td>No</td>\n",
              "    </tr>\n",
              "  </tbody>\n",
              "</table>\n",
              "</div>"
            ],
            "text/plain": [
              "  Application Status    Domicile  ... English Marks Offered\n",
              "0                 No        OPEN  ...             0      No\n",
              "1           Complete  Bahawalpur  ...             0     Yes\n",
              "2                 No  Bahawalpur  ...             0      No\n",
              "3           Complete  Bahawalpur  ...             0      No\n",
              "4                 No  Bahawalpur  ...             0      No\n",
              "\n",
              "[5 rows x 10 columns]"
            ]
          },
          "metadata": {
            "tags": []
          },
          "execution_count": 4
        }
      ]
    },
    {
      "cell_type": "code",
      "metadata": {
        "id": "URIZMK2d0Yd9"
      },
      "source": [
        "#df['Application Status'] = df['Application Status'].map({'Complete':1,'NotComplete':0})\n",
        "#df['Offered'] = df['Offered'].map({'Yes':1,'No':0})\n",
        "from sklearn.preprocessing import LabelEncoder\n",
        "labelencoder_X_1 = LabelEncoder()\n",
        "df['Application Status'] = labelencoder_X_1.fit_transform(df['Application Status'])\n",
        "df['Domicile'] = labelencoder_X_1.fit_transform(df['Domicile'])\n",
        "df['Gender'] = labelencoder_X_1.fit_transform(df['Gender'])\n",
        "df['Province'] = labelencoder_X_1.fit_transform(df['Province'])\n",
        "df['Offered'] = labelencoder_X_1.fit_transform(df['Offered'])"
      ],
      "execution_count": null,
      "outputs": []
    },
    {
      "cell_type": "code",
      "metadata": {
        "id": "rX19z96V_hju"
      },
      "source": [
        "def clean_dataset(df):\n",
        "    assert isinstance(df, pd.DataFrame), \"df needs to be a pd.DataFrame\"\n",
        "    df.dropna(inplace=True)\n",
        "    indices_to_keep = ~df.isin([np.nan, np.inf, -np.inf]).any(1)\n",
        "    return df[indices_to_keep].astype(np.float64)"
      ],
      "execution_count": null,
      "outputs": []
    },
    {
      "cell_type": "code",
      "metadata": {
        "id": "nJAl4Ixa_lQi"
      },
      "source": [
        "df = clean_dataset(df)"
      ],
      "execution_count": null,
      "outputs": []
    },
    {
      "cell_type": "code",
      "metadata": {
        "colab": {
          "base_uri": "https://localhost:8080/",
          "height": 353
        },
        "id": "qrhnSlQR0dfV",
        "outputId": "5f7c5030-7e44-4b46-d886-9bc4e242263f"
      },
      "source": [
        "sns.countplot(df['Offered'],label=\"Count\")"
      ],
      "execution_count": null,
      "outputs": [
        {
          "output_type": "stream",
          "text": [
            "/usr/local/lib/python3.7/dist-packages/seaborn/_decorators.py:43: FutureWarning: Pass the following variable as a keyword arg: x. From version 0.12, the only valid positional argument will be `data`, and passing other arguments without an explicit keyword will result in an error or misinterpretation.\n",
            "  FutureWarning\n"
          ],
          "name": "stderr"
        },
        {
          "output_type": "execute_result",
          "data": {
            "text/plain": [
              "<matplotlib.axes._subplots.AxesSubplot at 0x7f94e8ca29d0>"
            ]
          },
          "metadata": {
            "tags": []
          },
          "execution_count": 8
        },
        {
          "output_type": "display_data",
          "data": {
            "image/png": "[encoded data removed]",
            "text/plain": [
              "<Figure size 432x288 with 1 Axes>"
            ]
          },
          "metadata": {
            "tags": [],
            "needs_background": "light"
          }
        }
      ]
    },
    {
      "cell_type": "code",
      "metadata": {
        "id": "T2Yo2nH01T4N"
      },
      "source": [
        "prediction_var = ['Application Status','SSC','Admission Test','Terminal Degree','Document Verified','Domicile','Gender','Province','English Marks']"
      ],
      "execution_count": null,
      "outputs": []
    },
    {
      "cell_type": "code",
      "metadata": {
        "colab": {
          "base_uri": "https://localhost:8080/"
        },
        "id": "SDSZYLd-0oSd",
        "outputId": "aec9bbaf-7861-4475-bf2f-5ce866dce268"
      },
      "source": [
        "train, test = train_test_split(df, test_size = 0.3)# in this our main data is splitted into train and test\n",
        "# we can check their dimension\n",
        "print(train.shape)\n",
        "print(test.shape)"
      ],
      "execution_count": null,
      "outputs": [
        {
          "output_type": "stream",
          "text": [
            "(511, 10)\n",
            "(220, 10)\n"
          ],
          "name": "stdout"
        }
      ]
    },
    {
      "cell_type": "code",
      "metadata": {
        "id": "L0oVpuXT1AMf"
      },
      "source": [
        "train_X = train[prediction_var]# taking the training data input \n",
        "train_y=train.Offered# This is output of our training data\n",
        "# same we have to do for test\n",
        "test_X= test[prediction_var] # taking test data inputs\n",
        "test_y =test.Offered   #output value of test dat\n",
        "y_test = test_y"
      ],
      "execution_count": null,
      "outputs": []
    },
    {
      "cell_type": "code",
      "metadata": {
        "id": "xc6MUx0x1XBO"
      },
      "source": [
        "model=RandomForestClassifier(n_estimators=100)"
      ],
      "execution_count": null,
      "outputs": []
    },
    {
      "cell_type": "code",
      "metadata": {
        "colab": {
          "base_uri": "https://localhost:8080/"
        },
        "id": "zWD5Cnfe1cd1",
        "outputId": "260e85f5-b06a-41df-ee09-a8ed2fa11a5a"
      },
      "source": [
        "model.fit(train_X,train_y)# "
      ],
      "execution_count": null,
      "outputs": [
        {
          "output_type": "execute_result",
          "data": {
            "text/plain": [
              "RandomForestClassifier(bootstrap=True, ccp_alpha=0.0, class_weight=None,\n",
              "                       criterion='gini', max_depth=None, max_features='auto',\n",
              "                       max_leaf_nodes=None, max_samples=None,\n",
              "                       min_impurity_decrease=0.0, min_impurity_split=None,\n",
              "                       min_samples_leaf=1, min_samples_split=2,\n",
              "                       min_weight_fraction_leaf=0.0, n_estimators=100,\n",
              "                       n_jobs=None, oob_score=False, random_state=None,\n",
              "                       verbose=0, warm_start=False)"
            ]
          },
          "metadata": {
            "tags": []
          },
          "execution_count": 13
        }
      ]
    },
    {
      "cell_type": "code",
      "metadata": {
        "id": "z8qY-9qV1iDu"
      },
      "source": [
        "y_pred=model.predict(test_X)"
      ],
      "execution_count": null,
      "outputs": []
    },
    {
      "cell_type": "code",
      "metadata": {
        "colab": {
          "base_uri": "https://localhost:8080/"
        },
        "id": "DAand99d1pvw",
        "outputId": "d2ffd7f0-1c78-4d49-8600-d2dcfd474463"
      },
      "source": [
        "metrics.accuracy_score(y_pred,y_test)"
      ],
      "execution_count": null,
      "outputs": [
        {
          "output_type": "execute_result",
          "data": {
            "text/plain": [
              "0.9727272727272728"
            ]
          },
          "metadata": {
            "tags": []
          },
          "execution_count": 15
        }
      ]
    },
    {
      "cell_type": "code",
      "metadata": {
        "id": "9PK-T0xuHuTX"
      },
      "source": [
        "# Making the Confusion Matrix\n",
        "from sklearn.metrics import confusion_matrix\n",
        "cm = confusion_matrix(test_y, y_pred)\n",
        "tn, fp, fn, tp = confusion_matrix(y_test, y_pred).ravel()\n",
        "Sp = tn / (tn+fp)\n",
        "Sn = tp/(tp + fn)"
      ],
      "execution_count": null,
      "outputs": []
    },
    {
      "cell_type": "code",
      "metadata": {
        "colab": {
          "base_uri": "https://localhost:8080/"
        },
        "id": "1hdVczbOH4lm",
        "outputId": "404e6226-7464-45af-f322-3a390c9731a5"
      },
      "source": [
        "print(cm)\n",
        "print(Sp)\n",
        "print(Sn)"
      ],
      "execution_count": null,
      "outputs": [
        {
          "output_type": "stream",
          "text": [
            "[[196   1]\n",
            " [  5  18]]\n",
            "0.9949238578680203\n",
            "0.782608695652174\n"
          ],
          "name": "stdout"
        }
      ]
    },
    {
      "cell_type": "code",
      "metadata": {
        "colab": {
          "base_uri": "https://localhost:8080/"
        },
        "id": "f9ZI_hIcOmqN",
        "outputId": "6a8b2600-bee0-481c-ca1b-6d214d7184aa"
      },
      "source": [
        "from sklearn.metrics import cohen_kappa_score\n",
        "cohen_score = cohen_kappa_score(y_test, y_pred)\n",
        "print(cohen_score)"
      ],
      "execution_count": null,
      "outputs": [
        {
          "output_type": "stream",
          "text": [
            "0.8422185034664116\n"
          ],
          "name": "stdout"
        }
      ]
    }
  ]
}