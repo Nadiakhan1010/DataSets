{
  "nbformat": 4,
  "nbformat_minor": 0,
  "metadata": {
    "colab": {
      "name": "KNN-DSBC.ipynb",
      "provenance": [],
      "collapsed_sections": []
    },
    "kernelspec": {
      "name": "python3",
      "display_name": "Python 3"
    }
  },
  "cells": [
    {
      "cell_type": "code",
      "metadata": {
        "id": "lMojyoKj2ILa"
      },
      "source": [
        "# performing linear algebra \n",
        "import numpy as np\n",
        "\n",
        "# data processing \n",
        "import pandas as pd\n",
        "\n",
        "# visualisation \n",
        "import matplotlib.pyplot as plt"
      ],
      "execution_count": null,
      "outputs": []
    },
    {
      "cell_type": "code",
      "metadata": {
        "colab": {
          "base_uri": "https://localhost:8080/"
        },
        "id": "O0x0m2fF2ieb",
        "outputId": "d3434c43-2c9e-4825-8321-07357bc07869"
      },
      "source": [
        "df=pd.read_csv(\"https://raw.githubusercontent.com/mhmmd-nauman/DataSets/master/wdbc/dsbc/csv/breast-cancer%20-%20complete.csv\",header = 0)\n",
        "\n",
        "\n",
        "print(df.head)"
      ],
      "execution_count": null,
      "outputs": [
        {
          "output_type": "stream",
          "name": "stdout",
          "text": [
            "<bound method NDFrame.head of        Age menopause tumor-size inv-nodes  ... breast  breast-quad irradiat Class\n",
            "0    30-39   premeno      30-34       0-2  ...   left     left_low       no     B\n",
            "1    40-49   premeno      20-24       0-2  ...  right     right_up       no     B\n",
            "2    40-49   premeno      20-24       0-2  ...   left     left_low       no     B\n",
            "3    60-69      ge40      15-19       0-2  ...  right      left_up       no     B\n",
            "4    40-49   premeno        0-4       0-2  ...  right    right_low       no     B\n",
            "..     ...       ...        ...       ...  ...    ...          ...      ...   ...\n",
            "281  30-39   premeno      30-34       0-2  ...   left      left_up       no     M\n",
            "282  30-39   premeno      20-24       0-2  ...   left      left_up      yes     M\n",
            "283  60-69      ge40      20-24       0-2  ...  right      left_up       no     M\n",
            "284  40-49      ge40      30-34       3-5  ...   left     left_low       no     M\n",
            "285  50-59      ge40      30-34       3-5  ...   left     left_low       no     M\n",
            "\n",
            "[286 rows x 10 columns]>\n"
          ]
        }
      ]
    },
    {
      "cell_type": "code",
      "metadata": {
        "colab": {
          "base_uri": "https://localhost:8080/",
          "height": 297
        },
        "id": "Ph5jUriF2_Dw",
        "outputId": "7beb2109-fd21-4feb-b265-bbe3d7532587"
      },
      "source": [
        "df.describe()"
      ],
      "execution_count": null,
      "outputs": [
        {
          "output_type": "execute_result",
          "data": {
            "text/html": [
              "<div>\n",
              "<style scoped>\n",
              "    .dataframe tbody tr th:only-of-type {\n",
              "        vertical-align: middle;\n",
              "    }\n",
              "\n",
              "    .dataframe tbody tr th {\n",
              "        vertical-align: top;\n",
              "    }\n",
              "\n",
              "    .dataframe thead th {\n",
              "        text-align: right;\n",
              "    }\n",
              "</style>\n",
              "<table border=\"1\" class=\"dataframe\">\n",
              "  <thead>\n",
              "    <tr style=\"text-align: right;\">\n",
              "      <th></th>\n",
              "      <th>deg-malig</th>\n",
              "    </tr>\n",
              "  </thead>\n",
              "  <tbody>\n",
              "    <tr>\n",
              "      <th>count</th>\n",
              "      <td>286.000000</td>\n",
              "    </tr>\n",
              "    <tr>\n",
              "      <th>mean</th>\n",
              "      <td>2.048951</td>\n",
              "    </tr>\n",
              "    <tr>\n",
              "      <th>std</th>\n",
              "      <td>0.738217</td>\n",
              "    </tr>\n",
              "    <tr>\n",
              "      <th>min</th>\n",
              "      <td>1.000000</td>\n",
              "    </tr>\n",
              "    <tr>\n",
              "      <th>25%</th>\n",
              "      <td>2.000000</td>\n",
              "    </tr>\n",
              "    <tr>\n",
              "      <th>50%</th>\n",
              "      <td>2.000000</td>\n",
              "    </tr>\n",
              "    <tr>\n",
              "      <th>75%</th>\n",
              "      <td>3.000000</td>\n",
              "    </tr>\n",
              "    <tr>\n",
              "      <th>max</th>\n",
              "      <td>3.000000</td>\n",
              "    </tr>\n",
              "  </tbody>\n",
              "</table>\n",
              "</div>"
            ],
            "text/plain": [
              "        deg-malig\n",
              "count  286.000000\n",
              "mean     2.048951\n",
              "std      0.738217\n",
              "min      1.000000\n",
              "25%      2.000000\n",
              "50%      2.000000\n",
              "75%      3.000000\n",
              "max      3.000000"
            ]
          },
          "metadata": {},
          "execution_count": 126
        }
      ]
    },
    {
      "cell_type": "code",
      "metadata": {
        "colab": {
          "base_uri": "https://localhost:8080/",
          "height": 204
        },
        "id": "ZPrlNzkgEWg4",
        "outputId": "3fc983bf-8677-4761-e06e-08422b21fb7a"
      },
      "source": [
        "df.head()"
      ],
      "execution_count": null,
      "outputs": [
        {
          "output_type": "execute_result",
          "data": {
            "text/html": [
              "<div>\n",
              "<style scoped>\n",
              "    .dataframe tbody tr th:only-of-type {\n",
              "        vertical-align: middle;\n",
              "    }\n",
              "\n",
              "    .dataframe tbody tr th {\n",
              "        vertical-align: top;\n",
              "    }\n",
              "\n",
              "    .dataframe thead th {\n",
              "        text-align: right;\n",
              "    }\n",
              "</style>\n",
              "<table border=\"1\" class=\"dataframe\">\n",
              "  <thead>\n",
              "    <tr style=\"text-align: right;\">\n",
              "      <th></th>\n",
              "      <th>Age</th>\n",
              "      <th>menopause</th>\n",
              "      <th>tumor-size</th>\n",
              "      <th>inv-nodes</th>\n",
              "      <th>node-caps</th>\n",
              "      <th>deg-malig</th>\n",
              "      <th>breast</th>\n",
              "      <th>breast-quad</th>\n",
              "      <th>irradiat</th>\n",
              "      <th>Class</th>\n",
              "    </tr>\n",
              "  </thead>\n",
              "  <tbody>\n",
              "    <tr>\n",
              "      <th>0</th>\n",
              "      <td>30-39</td>\n",
              "      <td>premeno</td>\n",
              "      <td>30-34</td>\n",
              "      <td>0-2</td>\n",
              "      <td>no</td>\n",
              "      <td>3</td>\n",
              "      <td>left</td>\n",
              "      <td>left_low</td>\n",
              "      <td>no</td>\n",
              "      <td>B</td>\n",
              "    </tr>\n",
              "    <tr>\n",
              "      <th>1</th>\n",
              "      <td>40-49</td>\n",
              "      <td>premeno</td>\n",
              "      <td>20-24</td>\n",
              "      <td>0-2</td>\n",
              "      <td>no</td>\n",
              "      <td>2</td>\n",
              "      <td>right</td>\n",
              "      <td>right_up</td>\n",
              "      <td>no</td>\n",
              "      <td>B</td>\n",
              "    </tr>\n",
              "    <tr>\n",
              "      <th>2</th>\n",
              "      <td>40-49</td>\n",
              "      <td>premeno</td>\n",
              "      <td>20-24</td>\n",
              "      <td>0-2</td>\n",
              "      <td>no</td>\n",
              "      <td>2</td>\n",
              "      <td>left</td>\n",
              "      <td>left_low</td>\n",
              "      <td>no</td>\n",
              "      <td>B</td>\n",
              "    </tr>\n",
              "    <tr>\n",
              "      <th>3</th>\n",
              "      <td>60-69</td>\n",
              "      <td>ge40</td>\n",
              "      <td>15-19</td>\n",
              "      <td>0-2</td>\n",
              "      <td>no</td>\n",
              "      <td>2</td>\n",
              "      <td>right</td>\n",
              "      <td>left_up</td>\n",
              "      <td>no</td>\n",
              "      <td>B</td>\n",
              "    </tr>\n",
              "    <tr>\n",
              "      <th>4</th>\n",
              "      <td>40-49</td>\n",
              "      <td>premeno</td>\n",
              "      <td>0-4</td>\n",
              "      <td>0-2</td>\n",
              "      <td>no</td>\n",
              "      <td>2</td>\n",
              "      <td>right</td>\n",
              "      <td>right_low</td>\n",
              "      <td>no</td>\n",
              "      <td>B</td>\n",
              "    </tr>\n",
              "  </tbody>\n",
              "</table>\n",
              "</div>"
            ],
            "text/plain": [
              "     Age menopause tumor-size inv-nodes  ... breast  breast-quad irradiat Class\n",
              "0  30-39   premeno      30-34       0-2  ...   left     left_low       no     B\n",
              "1  40-49   premeno      20-24       0-2  ...  right     right_up       no     B\n",
              "2  40-49   premeno      20-24       0-2  ...   left     left_low       no     B\n",
              "3  60-69      ge40      15-19       0-2  ...  right      left_up       no     B\n",
              "4  40-49   premeno        0-4       0-2  ...  right    right_low       no     B\n",
              "\n",
              "[5 rows x 10 columns]"
            ]
          },
          "metadata": {},
          "execution_count": 127
        }
      ]
    },
    {
      "cell_type": "code",
      "metadata": {
        "id": "BHb2Huv23O9U"
      },
      "source": [
        "#df['Offered'] = df['Offered'].map({'Yes':1,'No':0})\n",
        "#df['Application Status'] = df['Application Status'].map({'Complete':1,'NotComplete':0})\n",
        "from sklearn.preprocessing import LabelEncoder\n",
        "labelencoder_X_1 = LabelEncoder()\n",
        "df['Age'] = labelencoder_X_1.fit_transform(df['Age'])\n",
        "df['menopause'] = labelencoder_X_1.fit_transform(df['menopause'])\n",
        "df['tumor-size'] = labelencoder_X_1.fit_transform(df['tumor-size'])\n",
        "df['inv-nodes'] = labelencoder_X_1.fit_transform(df['inv-nodes'])\n",
        "df['node-caps'] = labelencoder_X_1.fit_transform(df['node-caps'])\n",
        "\n",
        "df['deg-malig'] = labelencoder_X_1.fit_transform(df['deg-malig'])\n",
        "df['breast'] = labelencoder_X_1.fit_transform(df['breast'])\n",
        "\n",
        "df['breast-quad'] = labelencoder_X_1.fit_transform(df['breast-quad'])\n",
        "df['irradiat'] = labelencoder_X_1.fit_transform(df['irradiat'])\n",
        "df['Class'] = labelencoder_X_1.fit_transform(df['Class'])"
      ],
      "execution_count": null,
      "outputs": []
    },
    {
      "cell_type": "code",
      "metadata": {
        "colab": {
          "base_uri": "https://localhost:8080/"
        },
        "id": "H92biJfPGJVf",
        "outputId": "3be5ffa1-f00d-4be6-a5c7-d3c9ed3c8411"
      },
      "source": [
        "df['Class']"
      ],
      "execution_count": null,
      "outputs": [
        {
          "output_type": "execute_result",
          "data": {
            "text/plain": [
              "0      0\n",
              "1      0\n",
              "2      0\n",
              "3      0\n",
              "4      0\n",
              "      ..\n",
              "281    1\n",
              "282    1\n",
              "283    1\n",
              "284    1\n",
              "285    1\n",
              "Name: Class, Length: 286, dtype: int64"
            ]
          },
          "metadata": {},
          "execution_count": 129
        }
      ]
    },
    {
      "cell_type": "code",
      "metadata": {
        "id": "0Ifr16P43dYR"
      },
      "source": [
        "#sns.lmplot(x = 'radius_mean', y = 'texture_mean', hue = 'diagnosis', data = df)"
      ],
      "execution_count": null,
      "outputs": []
    },
    {
      "cell_type": "code",
      "metadata": {
        "id": "vXomIWNc3wti"
      },
      "source": [
        "#sns.lmplot(x ='smoothness_mean', y = 'compactness_mean', data = df, hue = 'diagnosis')"
      ],
      "execution_count": null,
      "outputs": []
    },
    {
      "cell_type": "code",
      "metadata": {
        "id": "G2mS1Zgjy3fN"
      },
      "source": [
        "data_df= list(df.columns[0:30]) \n",
        "data_df_main = df.loc[:,data_df]"
      ],
      "execution_count": null,
      "outputs": []
    },
    {
      "cell_type": "code",
      "metadata": {
        "id": "ZE3Tky5839_S"
      },
      "source": [
        "X = data_df_main\n",
        "y = np.array(df['Class'])"
      ],
      "execution_count": null,
      "outputs": []
    },
    {
      "cell_type": "code",
      "metadata": {
        "colab": {
          "base_uri": "https://localhost:8080/"
        },
        "id": "fASGZdL0EHqz",
        "outputId": "440bdfd5-e091-456d-8c78-039f29696a4d"
      },
      "source": [
        "print(X)"
      ],
      "execution_count": null,
      "outputs": [
        {
          "output_type": "stream",
          "name": "stdout",
          "text": [
            "     Age  menopause  tumor-size  ...  breast-quad  irradiat  Class\n",
            "0      1          2           5  ...            2         0      0\n",
            "1      2          2           3  ...            5         0      0\n",
            "2      2          2           3  ...            2         0      0\n",
            "3      4          0           2  ...            3         0      0\n",
            "4      2          2           0  ...            4         0      0\n",
            "..   ...        ...         ...  ...          ...       ...    ...\n",
            "281    1          2           5  ...            3         0      1\n",
            "282    1          2           3  ...            3         1      1\n",
            "283    4          0           3  ...            3         0      1\n",
            "284    2          0           5  ...            2         0      1\n",
            "285    3          0           5  ...            2         0      1\n",
            "\n",
            "[286 rows x 10 columns]\n"
          ]
        }
      ]
    },
    {
      "cell_type": "code",
      "metadata": {
        "colab": {
          "base_uri": "https://localhost:8080/"
        },
        "id": "7p3hpp5XELXp",
        "outputId": "c43eb057-c1d9-42b6-802d-514160b3b2a0"
      },
      "source": [
        "y"
      ],
      "execution_count": null,
      "outputs": [
        {
          "output_type": "execute_result",
          "data": {
            "text/plain": [
              "array([0, 0, 0, 0, 0, 0, 0, 1, 1, 1, 1, 1, 1, 1, 1, 1, 1, 1, 1, 1, 1, 1,\n",
              "       1, 1, 1, 1, 1, 1, 1, 1, 1, 1, 1, 1, 1, 1, 1, 1, 1, 1, 1, 1, 1, 1,\n",
              "       1, 1, 1, 1, 1, 1, 1, 1, 1, 1, 1, 1, 1, 1, 0, 0, 0, 0, 0, 0, 0, 0,\n",
              "       0, 0, 0, 0, 0, 0, 0, 0, 0, 0, 0, 0, 0, 0, 0, 0, 0, 0, 0, 0, 0, 0,\n",
              "       0, 0, 0, 0, 0, 0, 0, 0, 0, 0, 0, 0, 0, 0, 0, 0, 0, 0, 0, 0, 0, 0,\n",
              "       0, 0, 0, 0, 0, 0, 0, 0, 0, 0, 0, 0, 0, 0, 0, 0, 0, 0, 0, 0, 0, 0,\n",
              "       0, 0, 0, 0, 0, 0, 0, 0, 0, 0, 0, 0, 0, 0, 0, 0, 0, 0, 0, 0, 0, 0,\n",
              "       0, 0, 0, 0, 0, 0, 0, 0, 0, 0, 0, 0, 0, 0, 0, 0, 0, 0, 0, 0, 0, 0,\n",
              "       0, 0, 0, 0, 0, 0, 0, 0, 0, 0, 0, 0, 0, 0, 0, 0, 0, 0, 0, 0, 0, 0,\n",
              "       0, 0, 0, 0, 0, 0, 0, 0, 0, 0, 0, 0, 0, 0, 0, 0, 0, 0, 0, 0, 0, 0,\n",
              "       0, 0, 0, 0, 0, 0, 0, 0, 0, 0, 0, 0, 0, 0, 0, 0, 0, 0, 0, 0, 0, 0,\n",
              "       0, 0, 0, 0, 0, 0, 0, 0, 0, 0, 1, 1, 1, 1, 1, 1, 1, 1, 1, 1, 1, 1,\n",
              "       1, 1, 1, 1, 1, 1, 1, 1, 1, 1, 1, 1, 1, 1, 1, 1, 1, 1, 1, 1, 1, 1])"
            ]
          },
          "metadata": {},
          "execution_count": 135
        }
      ]
    },
    {
      "cell_type": "code",
      "metadata": {
        "id": "eVAlPg96B0UZ"
      },
      "source": [
        "from sklearn.model_selection import train_test_split \n",
        "X_train, X_test, y_train, y_test = train_test_split(X, y, test_size = 0.33, random_state = 42)"
      ],
      "execution_count": null,
      "outputs": []
    },
    {
      "cell_type": "code",
      "metadata": {
        "colab": {
          "base_uri": "https://localhost:8080/"
        },
        "id": "Iz_RZTj_B31d",
        "outputId": "35a52997-d8f9-44ae-ec22-82be885827fb"
      },
      "source": [
        "from sklearn.neighbors import KNeighborsClassifier\n",
        "knn = KNeighborsClassifier(n_neighbors = 10)\n",
        "knn.fit(X_train, y_train)"
      ],
      "execution_count": null,
      "outputs": [
        {
          "output_type": "execute_result",
          "data": {
            "text/plain": [
              "KNeighborsClassifier(algorithm='auto', leaf_size=30, metric='minkowski',\n",
              "                     metric_params=None, n_jobs=None, n_neighbors=10, p=2,\n",
              "                     weights='uniform')"
            ]
          },
          "metadata": {},
          "execution_count": 137
        }
      ]
    },
    {
      "cell_type": "code",
      "metadata": {
        "colab": {
          "base_uri": "https://localhost:8080/"
        },
        "id": "rwupglpVCIDN",
        "outputId": "798e4dfa-b33f-412f-d3a9-7464dd23fc53"
      },
      "source": [
        "knn.score(X_test, y_test)"
      ],
      "execution_count": null,
      "outputs": [
        {
          "output_type": "execute_result",
          "data": {
            "text/plain": [
              "0.7368421052631579"
            ]
          },
          "metadata": {},
          "execution_count": 138
        }
      ]
    },
    {
      "cell_type": "code",
      "metadata": {
        "id": "06aZxr0lXpIT"
      },
      "source": [
        "y_pred = knn.predict(X_test)\n",
        "from sklearn.metrics import confusion_matrix\n",
        "cm=confusion_matrix(y_test, y_pred)\n",
        "tn, fp, fn, tp = confusion_matrix(y_test, y_pred).ravel()\n",
        "Sp = tn / (tn+fp)\n",
        "Sn = tp/(tp + fn)"
      ],
      "execution_count": null,
      "outputs": []
    },
    {
      "cell_type": "code",
      "metadata": {
        "colab": {
          "base_uri": "https://localhost:8080/"
        },
        "id": "u6g9aSlUX0zJ",
        "outputId": "5f6e6d2b-d824-4949-f84a-dcecb0f55c43"
      },
      "source": [
        "print(cm)\n",
        "print(Sp)\n",
        "print(Sn)"
      ],
      "execution_count": null,
      "outputs": [
        {
          "output_type": "stream",
          "name": "stdout",
          "text": [
            "[[65  3]\n",
            " [22  5]]\n",
            "0.9558823529411765\n",
            "0.18518518518518517\n"
          ]
        }
      ]
    },
    {
      "cell_type": "code",
      "metadata": {
        "id": "_86pDg6NchHH"
      },
      "source": [
        "from sklearn.metrics import cohen_kappa_score\n",
        "cohen_score = cohen_kappa_score(y_test, y_pred)"
      ],
      "execution_count": null,
      "outputs": []
    },
    {
      "cell_type": "code",
      "metadata": {
        "colab": {
          "base_uri": "https://localhost:8080/"
        },
        "id": "olrm-i5Rcz5l",
        "outputId": "417b7889-e432-4c1e-c7ac-b374d1de563b"
      },
      "source": [
        "cohen_score"
      ],
      "execution_count": null,
      "outputs": [
        {
          "output_type": "execute_result",
          "data": {
            "text/plain": [
              "0.17905288627722094"
            ]
          },
          "metadata": {},
          "execution_count": 142
        }
      ]
    },
    {
      "cell_type": "code",
      "metadata": {
        "id": "LRFtcnV4ClcK"
      },
      "source": [
        "neighbors = []\n",
        "cv_scores = []\n",
        "\n",
        "from sklearn.model_selection import cross_val_score\n",
        "# perform 10 fold cross validation \n",
        "for k in range(1, 51, 2):\n",
        "\tneighbors.append(k)\n",
        "\tknn = KNeighborsClassifier(n_neighbors = k)\n",
        "\tscores = cross_val_score(\n",
        "\t\tknn, X_train, y_train, cv = 10, scoring = 'accuracy')\n",
        "\tcv_scores.append(scores.mean())"
      ],
      "execution_count": null,
      "outputs": []
    },
    {
      "cell_type": "code",
      "metadata": {
        "id": "ghg-xpEOHN-y",
        "colab": {
          "base_uri": "https://localhost:8080/",
          "height": 405
        },
        "outputId": "ad2a3da6-3125-43e2-f358-600f7bcc32cd"
      },
      "source": [
        "MSE = [1-x for x in cv_scores]\n",
        "\n",
        "# determining the best k\n",
        "optimal_k = neighbors[MSE.index(min(MSE))]\n",
        "print('The optimal number of neighbors is % d ' % optimal_k)\n",
        "\n",
        "# plot misclassification error versus k \n",
        "plt.figure(figsize = (10, 6))\n",
        "plt.plot(neighbors, MSE)\n",
        "plt.xlabel('Number of neighbors')\n",
        "plt.ylabel('Misclassification Error')\n",
        "plt.show()"
      ],
      "execution_count": null,
      "outputs": [
        {
          "output_type": "stream",
          "name": "stdout",
          "text": [
            "The optimal number of neighbors is  1 \n"
          ]
        },
        {
          "output_type": "display_data",
          "data": {
            "image/png": "[encoded data removed]",
            "text/plain": [
              "<Figure size 720x432 with 1 Axes>"
            ]
          },
          "metadata": {
            "needs_background": "light"
          }
        }
      ]
    },
    {
      "cell_type": "code",
      "metadata": {
        "id": "7am3z982W4Xj"
      },
      "source": [
        "#knn.fit(X_train, y_train)\n"
      ],
      "execution_count": null,
      "outputs": []
    },
    {
      "cell_type": "code",
      "metadata": {
        "id": "IDJjDQ8RVrGz"
      },
      "source": [
        "#trying f1 score\n",
        "neighbors = []\n",
        "cv_scores = []\n",
        "\n",
        "from sklearn.model_selection import cross_val_score\n",
        "# perform 10 fold cross validation \n",
        "for k in range(1, 51, 2):\n",
        "\tneighbors.append(k)\n",
        "\tknn = KNeighborsClassifier(n_neighbors = k)\n",
        "\tscores = cross_val_score(\n",
        "\t\tknn, X_train, y_train, cv = 10, scoring = 'f1')\n",
        "\tcv_scores.append(scores.mean())"
      ],
      "execution_count": null,
      "outputs": []
    },
    {
      "cell_type": "code",
      "metadata": {
        "colab": {
          "base_uri": "https://localhost:8080/",
          "height": 405
        },
        "id": "An84In4CV8pQ",
        "outputId": "ca199aea-b72d-4574-8cad-48ae1c21686f"
      },
      "source": [
        "MSE = [1-x for x in cv_scores]\n",
        "\n",
        "# determining the best k\n",
        "optimal_k = neighbors[MSE.index(min(MSE))]\n",
        "print('The optimal number of neighbors is % d ' % optimal_k)\n",
        "\n",
        "# plot misclassification error versus k \n",
        "plt.figure(figsize = (10, 6))\n",
        "plt.plot(neighbors, MSE)\n",
        "plt.xlabel('Number of neighbors')\n",
        "plt.ylabel('Misclassification Error')\n",
        "plt.show()"
      ],
      "execution_count": null,
      "outputs": [
        {
          "output_type": "stream",
          "name": "stdout",
          "text": [
            "The optimal number of neighbors is  1 \n"
          ]
        },
        {
          "output_type": "display_data",
          "data": {
            "image/png": "[encoded data removed]",
            "text/plain": [
              "<Figure size 720x432 with 1 Axes>"
            ]
          },
          "metadata": {
            "needs_background": "light"
          }
        }
      ]
    }
  ]
}